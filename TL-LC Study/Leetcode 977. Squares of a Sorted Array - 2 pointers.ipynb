{
 "cells": [
  {
   "cell_type": "code",
   "execution_count": 5,
   "id": "b15c5bf4",
   "metadata": {},
   "outputs": [],
   "source": [
    "\"\"\"\n",
    "977. Squares of a Sorted Array\n",
    "Given an integer array nums sorted in non-decreasing order, return an array of the squares of each number sorted \n",
    "in non-decreasing order.\n",
    "\n",
    "Input: nums = [-4,-1,0,3,10]              Output: [0,1,9,16,100]\n",
    "Input: nums = [-7,-3,2,3,11]              Output: [4,9,9,49,121]\n",
    "\n",
    "Looks at the question this way. let's get abs of all values in the original list.then from\n",
    "[-4,-1,0,3,10], we get [4,1,0,3,10]. Not we make 2 pointers. pointer1 points to index 0, while pointer2 points to \n",
    "the end. we start to compare values of both ends. Large number gets squared and put in the last position of a \n",
    "new array rList. need a new variable L for indexing of rList. L need to decrease every round of operation\n",
    "\n",
    "\n",
    "\"\"\"\n",
    "\n",
    "class Solution:\n",
    "    def sortedSquares(self, nums):\n",
    "        \"\"\"\n",
    "        :type nums: List[int]\n",
    "        :rtype: List[int]\n",
    "        \"\"\"\n",
    "        \n",
    "        L = len(nums)\n",
    "        rList = [0] * L\n",
    "        left = 0\n",
    "        right = L - 1\n",
    "        \n",
    "        while left <= right:\n",
    "            if abs(nums[left]) > abs(nums[right]):\n",
    "                rList[L-1] = nums[left] * nums[left]\n",
    "                left += 1\n",
    "                L -= 1\n",
    "                \n",
    "            else:\n",
    "                rList[L-1] = nums[right] * nums[right]\n",
    "                right -= 1\n",
    "                L -= 1\n",
    "            print(rList)    \n",
    "        return rList\n",
    "        \n",
    " \"\"\"\n",
    " Runtime: 374 ms, faster than 44.35% of Python3 online submissions for Squares of a Sorted Array.\n",
    "Memory Usage: 16.2 MB, less than 49.06% of Python3 online submissions for Squares of a Sorted Array.\n",
    " \"\"\"       \n",
    "        \n",
    "        \n",
    "        \n",
    "        "
   ]
  },
  {
   "cell_type": "code",
   "execution_count": 6,
   "id": "48c0450c",
   "metadata": {},
   "outputs": [
    {
     "name": "stdout",
     "output_type": "stream",
     "text": [
      "[0, 0, 0, 0, 16]\n",
      "[0, 0, 0, 0, 16]\n",
      "[0, 0, 9, 0, 16]\n",
      "[0, 1, 9, 0, 16]\n"
     ]
    },
    {
     "data": {
      "text/plain": [
       "[0, 1, 9, 0, 16]"
      ]
     },
     "execution_count": 6,
     "metadata": {},
     "output_type": "execute_result"
    }
   ],
   "source": [
    "obj = Solution()\n",
    "obj.sortedSquares([-4,-1,0,3,10])"
   ]
  },
  {
   "cell_type": "code",
   "execution_count": null,
   "id": "a0622d1f",
   "metadata": {},
   "outputs": [],
   "source": []
  }
 ],
 "metadata": {
  "kernelspec": {
   "display_name": "Python 3 (ipykernel)",
   "language": "python",
   "name": "python3"
  },
  "language_info": {
   "codemirror_mode": {
    "name": "ipython",
    "version": 3
   },
   "file_extension": ".py",
   "mimetype": "text/x-python",
   "name": "python",
   "nbconvert_exporter": "python",
   "pygments_lexer": "ipython3",
   "version": "3.9.12"
  }
 },
 "nbformat": 4,
 "nbformat_minor": 5
}
