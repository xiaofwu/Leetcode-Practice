{
 "cells": [
  {
   "cell_type": "code",
   "execution_count": null,
   "id": "7d94c74b",
   "metadata": {},
   "outputs": [],
   "source": [
    "\"\"\"\n",
    "905. Sort Array By Parity\n",
    "Given an integer array nums, move all the even integers at the beginning of the array followed by all the odd \n",
    "integers. Return any array that satisfies this condition.\n",
    "\n",
    "Input: nums = [3,1,2,4]            Output: [2,4,3,1]\n",
    "Input: nums = [0]                  Output: [0]\n",
    "\n",
    "*** note: // is Floor division; while % is Modulus. In computing, the modulo operation returns the remainder \n",
    "or signed remainder of a division, after one number is divided by another\n",
    "*** to swap two items in a list:    alist[i], alist[j] = alist[j], alist[a]\n",
    "\"\"\"\n",
    "\n",
    "class Solution:\n",
    "    def sortArrayByParity(self, nums: List[int]) -> List[int]:\n",
    "        \"\"\"\n",
    "        :type nums: List[int]\n",
    "        :rtype: List[int]\n",
    "        \"\"\"\n",
    "        \n",
    "        if not nums:\n",
    "            return []\n",
    "        \n",
    "        current = 0\n",
    "        for i in range(len(nums)):\n",
    "            if nums[i] % 2 == 0:\n",
    "                nums[current], nums[i] = nums[i], nums[current]\n",
    "                current += 1\n",
    "                \n",
    "        return nums\n",
    "    \n",
    "\"\"\"\n",
    "Runtime: 124 ms, faster than 53.55% of Python3 online submissions for Sort Array By Parity.\n",
    "Memory Usage: 14.7 MB, less than 60.42% of Python3 online submissions for Sort Array By Parity.\n",
    "\"\"\""
   ]
  }
 ],
 "metadata": {
  "kernelspec": {
   "display_name": "Python 3 (ipykernel)",
   "language": "python",
   "name": "python3"
  },
  "language_info": {
   "codemirror_mode": {
    "name": "ipython",
    "version": 3
   },
   "file_extension": ".py",
   "mimetype": "text/x-python",
   "name": "python",
   "nbconvert_exporter": "python",
   "pygments_lexer": "ipython3",
   "version": "3.9.12"
  }
 },
 "nbformat": 4,
 "nbformat_minor": 5
}
