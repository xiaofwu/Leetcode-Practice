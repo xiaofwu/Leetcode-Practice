{
 "cells": [
  {
   "cell_type": "code",
   "execution_count": null,
   "id": "17537b93",
   "metadata": {},
   "outputs": [],
   "source": [
    "\"\"\"\n",
    "700. Search in a Binary Search Tree\n",
    "You are given the root of a binary search tree (BST) and an integer val.\n",
    "Find the node in the BST that the node's value equals val and return the subtree rooted with that node. If such a \n",
    "node does not exist, return null.\n",
    "\n",
    "Input: root = [4,2,7,1,3], val = 2           Output: [2,1,3]\n",
    "Input: root = [4,2,7,1,3], val = 5           Output: []\n",
    "\n",
    "searchBST(root, val). basically\n",
    "\n",
    "\"\"\"\n",
    "# Definition for a binary tree node.\n",
    "# class TreeNode:\n",
    "#     def __init__(self, val=0, left=None, right=None):\n",
    "#         self.val = val\n",
    "#         self.left = left\n",
    "#         self.right = right\n",
    "class Solution:\n",
    "    def searchBST(self, root: Optional[TreeNode], val: int) -> Optional[TreeNode]:\n",
    "        \"\"\"\n",
    "        :type toor: TreeNode\n",
    "        :type val: int\n",
    "        :rtype: TreeNode\n",
    "        \"\"\"\n",
    "        \n",
    "        if not root:\n",
    "            return None\n",
    "        \n",
    "        if root.val == val:\n",
    "            return root\n",
    "        elif root.val > val:\n",
    "            return self.searchBST(root.left, val)\n",
    "        else:\n",
    "            return self.searchBST(root.right, val)\n",
    "        \n",
    "\"\"\"\n",
    "Runtime: 117 ms, faster than 53.03% of Python3 online submissions for Search in a Binary Search Tree.\n",
    "Memory Usage: 16.6 MB, less than 24.54% of Python3 online submissions for Search in a Binary Search Tree.\n",
    "\"\"\""
   ]
  }
 ],
 "metadata": {
  "kernelspec": {
   "display_name": "Python 3 (ipykernel)",
   "language": "python",
   "name": "python3"
  },
  "language_info": {
   "codemirror_mode": {
    "name": "ipython",
    "version": 3
   },
   "file_extension": ".py",
   "mimetype": "text/x-python",
   "name": "python",
   "nbconvert_exporter": "python",
   "pygments_lexer": "ipython3",
   "version": "3.9.12"
  }
 },
 "nbformat": 4,
 "nbformat_minor": 5
}
