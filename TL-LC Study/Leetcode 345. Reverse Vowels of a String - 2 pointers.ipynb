{
 "cells": [
  {
   "cell_type": "code",
   "execution_count": 4,
   "id": "5f5e84dc",
   "metadata": {},
   "outputs": [],
   "source": [
    "\"\"\"\n",
    "345. Reverse Vowels of a String\n",
    "Given a string s, reverse only all the vowels in the string and return it.\n",
    "The vowels are 'a', 'e', 'i', 'o', and 'u', and they can appear in both cases.\n",
    "\n",
    "Input: s = \"hello\"                Output: \"holle\"\n",
    "Input: s = \"leetcode\"             Output: \"leotcede\"\n",
    "\n",
    "this is also a typical 2 pointer question. just need a extra step to define a list with all vowels\n",
    "*** another thing need to remember: you can not swap char in a string ---> you have to convert a \n",
    "string to a list, swap items in the list and later use \" \".join() method convert a list back\n",
    "to a string\n",
    "\n",
    "\"\"\"\n",
    "\n",
    "class Solution:\n",
    "    def reverseVowels(self, s: str) -> str:\n",
    "        \"\"\"\n",
    "        :type s: str\n",
    "        :rtype: str\n",
    "        \"\"\"\n",
    "        aList = list(s)\n",
    "        vowel_list = ['a', 'e', 'i', 'o', 'u', \n",
    "                     'A', 'E', 'I', 'O', 'U']\n",
    "        start = 0\n",
    "        end = len(s)- 1\n",
    "        \n",
    "        while start < end:\n",
    "            while start < end and aList[start] not in vowel_list:\n",
    "                start +=1\n",
    "            while start < end and aList[end] not in vowel_list:\n",
    "                end -=1\n",
    "                \n",
    "            if start < end:\n",
    "                aList[start], aList[end] = aList[end], aList[start]\n",
    "                \n",
    "            start +=1\n",
    "            end -=1\n",
    "        return \"\".join(aList)\n",
    "        \n",
    "\"\"\"\n",
    "\n",
    "\"\"\"        "
   ]
  },
  {
   "cell_type": "code",
   "execution_count": 5,
   "id": "640b600f",
   "metadata": {
    "scrolled": true
   },
   "outputs": [
    {
     "data": {
      "text/plain": [
       "'leotcede'"
      ]
     },
     "execution_count": 5,
     "metadata": {},
     "output_type": "execute_result"
    }
   ],
   "source": [
    "p = Solution()\n",
    "p.reverseVowels(\"leetcode\")"
   ]
  },
  {
   "cell_type": "code",
   "execution_count": null,
   "id": "fc11101b",
   "metadata": {},
   "outputs": [],
   "source": []
  }
 ],
 "metadata": {
  "kernelspec": {
   "display_name": "Python 3 (ipykernel)",
   "language": "python",
   "name": "python3"
  },
  "language_info": {
   "codemirror_mode": {
    "name": "ipython",
    "version": 3
   },
   "file_extension": ".py",
   "mimetype": "text/x-python",
   "name": "python",
   "nbconvert_exporter": "python",
   "pygments_lexer": "ipython3",
   "version": "3.9.12"
  }
 },
 "nbformat": 4,
 "nbformat_minor": 5
}
