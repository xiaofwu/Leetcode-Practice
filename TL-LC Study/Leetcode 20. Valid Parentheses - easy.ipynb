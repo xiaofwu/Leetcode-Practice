{
 "cells": [
  {
   "cell_type": "code",
   "execution_count": 1,
   "id": "96d213bc",
   "metadata": {},
   "outputs": [],
   "source": [
    "\"\"\"\n",
    "20. Valid Parentheses\n",
    "Given a string s containing just the characters '(', ')', '{', '}', '[' and ']', determine if the input string \n",
    "is valid.\n",
    "An input string is valid if:\n",
    "Open brackets must be closed by the same type of brackets.\n",
    "Open brackets must be closed in the correct order.\n",
    "Input: s = \"()\"                      Output: true\n",
    "Input: s = \"()[]{}\"                  Output: true\n",
    "Input: s = \"(]\"                      Output: false\n",
    "\n",
    "this is a similar stack question. But we need extra work to set up the corresponding pair, such as \"(\" and \")\" \n",
    "will be reated as a pair to disappear when we put chars from the srtring to a list. Eventually, it is true\n",
    "if the list ends up empty. ---> talking about pair ---> we think about dict!\n",
    "\n",
    "\"\"\"\n",
    "class Solution:\n",
    "    def isValid(self, s: str) -> bool:\n",
    "        \"\"\"\n",
    "        :type s: str\n",
    "        :rtpye: bool\n",
    "        \"\"\"\n",
    "        \n",
    "        my_dict = {'(' : ')', '{' : '}', '[' : ']'}\n",
    "        my_stack = []\n",
    "        \n",
    "        if not s:\n",
    "            return True\n",
    "        if len(s) == 1:\n",
    "            return False\n",
    "        \n",
    "        for char in s:\n",
    "            if not my_stack: #when stack is empty\n",
    "                if char not in my_dict:\n",
    "                    return False\n",
    "                else:\n",
    "                    my_stack.append(char) \n",
    "            else:           #when stack is not empty\n",
    "                if char in my_dict:\n",
    "                    my_stack.append(char)\n",
    "                else:\n",
    "                    if char == my_dict[my_stack[-1]]:\n",
    "                        my_stack.pop()\n",
    "                    else:\n",
    "                        return False \n",
    "        return not my_stack\n",
    "        \n",
    " \"\"\"\n",
    " Runtime: 30 ms, faster than 95.90% of Python3 online submissions for Valid Parentheses.\n",
    "Memory Usage: 13.9 MB, less than 26.29% of Python3 online submissions for Valid Parentheses.\n",
    " \"\"\"           \n",
    "            \n",
    "            \n"
   ]
  },
  {
   "cell_type": "code",
   "execution_count": 3,
   "id": "c01f1481",
   "metadata": {},
   "outputs": [
    {
     "name": "stdout",
     "output_type": "stream",
     "text": [
      "['(']\n",
      "['(']\n",
      "['(', '[']\n",
      "['(', '[']\n",
      "['(', '[', '{']\n",
      "['(', '[', '{']\n"
     ]
    },
    {
     "data": {
      "text/plain": [
       "False"
      ]
     },
     "execution_count": 3,
     "metadata": {},
     "output_type": "execute_result"
    }
   ],
   "source": [
    "obj = Solution()\n",
    "obj.isValid(\"()[]{}\")"
   ]
  },
  {
   "cell_type": "code",
   "execution_count": null,
   "id": "47feb46a",
   "metadata": {},
   "outputs": [],
   "source": [
    "# 2022-10-03\n",
    "\n",
    "class Solution:\n",
    "    def isValid(self, s: str) -> bool:\n",
    "        \"\"\"\n",
    "        :type s: str\n",
    "        :rtpye: bool\n",
    "        \"\"\"\n",
    "        hashmap = {'(':')', '{':'}', '[':']'}\n",
    "        \n",
    "        # check corner case\n",
    "        if not s: \n",
    "            return True\n",
    "        \n",
    "        # initiate a stack and start to append chars to the stack\n",
    "        # if a char is in the hashmap, append it to the stack anyway\n",
    "        # if a char is not in the hashmap, we need to check\n",
    "        # if a char is not in the hashmap and stack is empty: return False        \n",
    "        # if a char is not in the hashmap and stack is empty: check again\n",
    "        # .... if dict[stack[-1]] = char, pop()\n",
    "        # .... if dict[stack[-1]] != char, return False\n",
    "        tmp_stack = []\n",
    "        for char in s:\n",
    "            if char in hashmap: \n",
    "                tmp_stack.append(char)\n",
    "            else:\n",
    "                if not tmp_stack:\n",
    "                    return False\n",
    "                else:\n",
    "                    if hashmap[tmp_stack[-1]] == char:\n",
    "                        tmp_stack.pop()\n",
    "                    else:\n",
    "                        return False\n",
    "        return not tmp_stack\n",
    "\"\"\"\n",
    "Time: O(n): we need go over the string\n",
    "Space O(1): limited space used for initiating a dictionary\n",
    "\"\"\""
   ]
  }
 ],
 "metadata": {
  "kernelspec": {
   "display_name": "Python 3 (ipykernel)",
   "language": "python",
   "name": "python3"
  },
  "language_info": {
   "codemirror_mode": {
    "name": "ipython",
    "version": 3
   },
   "file_extension": ".py",
   "mimetype": "text/x-python",
   "name": "python",
   "nbconvert_exporter": "python",
   "pygments_lexer": "ipython3",
   "version": "3.9.12"
  }
 },
 "nbformat": 4,
 "nbformat_minor": 5
}
