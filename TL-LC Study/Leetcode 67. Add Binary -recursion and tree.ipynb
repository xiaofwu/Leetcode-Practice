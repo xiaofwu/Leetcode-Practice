{
 "cells": [
  {
   "cell_type": "code",
   "execution_count": null,
   "id": "05c85759",
   "metadata": {},
   "outputs": [],
   "source": [
    "\"\"\"\n",
    "67. Add Binary\n",
    "\n",
    "Given two binary strings a and b, return their sum as a binary string.\n",
    "Input: a = \"11\", b = \"1\"             Output: \"100\"\n",
    "Input: a = \"1010\", b = \"1011\"        Output: \"10101\"\n",
    "\n",
    "idea on how to recurse this problem: sum of two strings starts from the end of both string, i. e. a[-1] + b[-1],\n",
    "there are three possibilities 1) 0 + 0 = 0; 2) 1 + 0 or 0 + 1 = 1; 3) 1 + 1 = 10. this 3rd one need a litter more \n",
    "because it contribute a \"1\" to computation at [-2] position. if we find the answer on [-1] position, next we calculate\n",
    "sum of a[0:-1] and b[0:-1]. we can do this to [-3], [-4]... now we have a recursion. in order to deal with \"1\" + \"1\"\n",
    "senario. we just need to recurse one more time using \"1\" and recursion result of [-n].\n",
    "\n",
    "\"\"\" \n",
    "\n",
    "class Solution:\n",
    "    def addBinary(self, a: str, b: str) -> str:\n",
    "        \"\"\"\n",
    "        :type a: str\n",
    "        :type b: str\n",
    "        :rtype: str\n",
    "        \"\"\"\n",
    "        \n",
    "        if not a:\n",
    "            return b\n",
    "        if not b:\n",
    "            return a\n",
    "        if a[-1] == '1' and b[-1] == '1':\n",
    "            return self.addBinary(self.addBinary(a[:-1], b[:-1]), '1') + '0'\n",
    "        if a[-1] == '0' and b[-1] == '0':\n",
    "            return self.addBinary(a[:-1], b[:-1]) + '0'\n",
    "        else:\n",
    "            return self.addBinary(a[:-1], b[:-1]) + '1'\n",
    "        \n",
    "\"\"\"\n",
    "Runtime: 59 ms, faster than 35.92% of Python3 online submissions for Add Binary.\n",
    "Memory Usage: 13.9 MB, less than 25.21% of Python3 online submissions for Add Binary.\n",
    "\"\"\"\n"
   ]
  }
 ],
 "metadata": {
  "kernelspec": {
   "display_name": "Python 3 (ipykernel)",
   "language": "python",
   "name": "python3"
  },
  "language_info": {
   "codemirror_mode": {
    "name": "ipython",
    "version": 3
   },
   "file_extension": ".py",
   "mimetype": "text/x-python",
   "name": "python",
   "nbconvert_exporter": "python",
   "pygments_lexer": "ipython3",
   "version": "3.9.12"
  }
 },
 "nbformat": 4,
 "nbformat_minor": 5
}
