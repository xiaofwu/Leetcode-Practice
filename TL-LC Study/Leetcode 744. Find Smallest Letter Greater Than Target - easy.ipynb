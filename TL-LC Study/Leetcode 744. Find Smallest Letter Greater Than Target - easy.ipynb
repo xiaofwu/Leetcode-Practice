{
 "cells": [
  {
   "cell_type": "code",
   "execution_count": null,
   "id": "294f4e87",
   "metadata": {},
   "outputs": [],
   "source": [
    "\"\"\"\n",
    "744. Find Smallest Letter Greater Than Target\n",
    "Given a characters array letters that is sorted in non-decreasing order and a character target, return the \n",
    "smallest character in the array that is larger than target. Note that the letters wrap around.\n",
    "For example, if target == 'z' and letters == ['a', 'b'], the answer is 'a'.\n",
    "\n",
    "Input: letters = [\"c\",\"f\",\"j\"], target = \"a\"                Output: \"c\"\n",
    "Input: letters = [\"c\",\"f\",\"j\"], target = \"c\"                Output: \"f\"\n",
    "Input: letters = [\"c\",\"f\",\"j\"], target = \"d\"                Output: \"f\"\n",
    "\n",
    "since chars are sorted in the array, we can use BS to find where target should be placed in the list.\n",
    "\"\"\"\n",
    "class Solution:\n",
    "    def nextGreatestLetter(self, letters: List[str], target: str) -> str:\n",
    "        \"\"\"\n",
    "        :type letters: List[str]\n",
    "        :type target: str\n",
    "        :rtype: str\n",
    "        \"\"\"\n",
    "        \n",
    "        #build a binary search module\n",
    "        left = 0\n",
    "        right = len(letters) - 1\n",
    "        \n",
    "        while left <= right:\n",
    "            mid = left + (right - left) // 2\n",
    "            if letters[mid] <= target:\n",
    "                left = mid + 1\n",
    "            else:\n",
    "                right = right -1\n",
    "        \n",
    "        if left > len(letters) - 1: #i.e. left move out of the array\n",
    "            return letters[0]\n",
    "        else:\n",
    "            return letters[left]\n",
    "        \n",
    "\"\"\"\n",
    "Runtime: 236 ms, faster than 8.43% of Python3 online submissions for Find Smallest Letter Greater Than Target.\n",
    "Memory Usage: 14.5 MB, less than 20.86% of Python3 online submissions for Find Smallest Letter Greater Than Target.\n",
    "this runs slow. I guess 2 pointers strategy shold run much faster.\n",
    "\"\"\""
   ]
  },
  {
   "cell_type": "code",
   "execution_count": null,
   "id": "4511d423",
   "metadata": {},
   "outputs": [],
   "source": [
    "# 2022 09 18\n",
    "class Solution:\n",
    "    def nextGreatestLetter(self, letters: List[str], target: str) -> str:\n",
    "        \"\"\"\n",
    "        :type letters: List[str]\n",
    "        :type target: str\n",
    "        :rtype: str\n",
    "        \"\"\"\n",
    "        # first cover corner case\n",
    "        if target < letters[0] or target >= letters[-1]:\n",
    "            return letters[0]\n",
    "        # use BS to find a char so that letters[mid-1]<char<letters[mid]\n",
    "        L, R = 0, len(letters)\n",
    "        while L <= R:\n",
    "            mid = L + (R - L) // 2\n",
    "            if letters[mid-1] <= target and target < letters[mid]:\n",
    "                return letters[mid]\n",
    "            elif letters[mid] <= target:\n",
    "                L = mid + 1\n",
    "            else:\n",
    "                R = mid -1"
   ]
  }
 ],
 "metadata": {
  "kernelspec": {
   "display_name": "Python 3 (ipykernel)",
   "language": "python",
   "name": "python3"
  },
  "language_info": {
   "codemirror_mode": {
    "name": "ipython",
    "version": 3
   },
   "file_extension": ".py",
   "mimetype": "text/x-python",
   "name": "python",
   "nbconvert_exporter": "python",
   "pygments_lexer": "ipython3",
   "version": "3.9.12"
  }
 },
 "nbformat": 4,
 "nbformat_minor": 5
}
