{
 "cells": [
  {
   "cell_type": "code",
   "execution_count": null,
   "id": "23116523",
   "metadata": {},
   "outputs": [],
   "source": [
    "\"\"\"\n",
    "26. Remove Duplicates from Sorted Array\n",
    "Given an integer array nums sorted in non-decreasing order, remove the duplicates in-place \n",
    "such that each unique element appears only once. The relative order of the elements should \n",
    "be kept the same.\n",
    "\n",
    "Since it is impossible to change the length of the array in some languages, you must instead \n",
    "have the result be placed in the first part of the array nums. More formally, if there are \n",
    "k elements after removing the duplicates, then the first k elements of nums should hold the \n",
    "final result. It does not matter what you leave beyond the first k elements.\n",
    "\n",
    "Return k after placing the final result in the first k slots of nums.\n",
    "\n",
    "Input: nums = [1,1,2]                      Output: 2, nums = [1,2,_]\n",
    "Input: nums = [0,0,1,1,1,2,2,3,3,4]        Output: 5, nums = [0,1,2,3,4,_,_,_,_,_]\n",
    "\n",
    "key to write a code for 2 pointer: need to understand operation <---> move of current \n",
    "pointer.\n",
    "you may need to swap the value, then move the pointer, or move the pointer, then swap\n",
    "\n",
    "\n",
    "\"\"\"\n",
    "\n",
    "class Solution:\n",
    "    def removeDuplicates(self, nums: List[int]) -> int:\n",
    "        \"\"\"\n",
    "        :type nums: List[int]\n",
    "        :rtype: int\n",
    "        \"\"\"\n",
    "        if not nums:\n",
    "            return []\n",
    "        \n",
    "        current = 0\n",
    "        for i in range(len(nums)):\n",
    "            if nums[i] != nums[current]:\n",
    "                current += 1\n",
    "                nums[current] = nums[i]\n",
    "            else:\n",
    "                continue\n",
    "        return current + 1          "
   ]
  },
  {
   "cell_type": "code",
   "execution_count": null,
   "id": "ecbb6a7c",
   "metadata": {},
   "outputs": [],
   "source": [
    "# 22-09-28\n",
    "# Input: nums = [0,0,1,1,1,2,2,3,3,4]       Output: 5, nums = [0,1,2,3,4,_,_,_,_,_]\n",
    "class Solution:\n",
    "    def removeDuplicates(self, nums: List[int]) -> int:\n",
    "        \"\"\"\n",
    "        :type nums: List[int]\n",
    "        :rtype: int\n",
    "        \"\"\"\n",
    "        if not nums: return []\n",
    "        \n",
    "        # initiate two pointers\n",
    "        # if fast pointer points to a number different from nums[slow]\n",
    "        # we move slow pointer. then swap\n",
    "        \n",
    "        slow = 0\n",
    "        for i in range(len(nums)):\n",
    "            if nums[i] != nums[slow]:\n",
    "                slow +=1\n",
    "                nums[slow], nums[i] = nums[i], nums[slow]\n",
    "        return slow + 1\n",
    "\"\"\"\n",
    "time: O(n)\n",
    "space O(1)\n",
    "\"\"\""
   ]
  }
 ],
 "metadata": {
  "kernelspec": {
   "display_name": "Python 3 (ipykernel)",
   "language": "python",
   "name": "python3"
  },
  "language_info": {
   "codemirror_mode": {
    "name": "ipython",
    "version": 3
   },
   "file_extension": ".py",
   "mimetype": "text/x-python",
   "name": "python",
   "nbconvert_exporter": "python",
   "pygments_lexer": "ipython3",
   "version": "3.9.12"
  }
 },
 "nbformat": 4,
 "nbformat_minor": 5
}
