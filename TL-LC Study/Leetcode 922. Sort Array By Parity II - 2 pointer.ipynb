{
 "cells": [
  {
   "cell_type": "code",
   "execution_count": null,
   "id": "a75a4a76",
   "metadata": {},
   "outputs": [],
   "source": [
    "\"\"\"\n",
    "922. Sort Array By Parity II\n",
    "Given an array of integers nums, half of the integers in nums are odd, and the other half are even.\n",
    "Sort the array so that whenever nums[i] is odd, i is odd, and whenever nums[i] is even, i is even.\n",
    "Return any answer array that satisfies this condition.\n",
    "\n",
    "Input: nums = [4,2,5,7]             Output: [4,5,2,7]\n",
    "Input: nums = [2,3]                 Output: [2,3]\n",
    "\n",
    "\n",
    "idea: surrent pointer move 0, 2,4,6 8... while i in for loop keep moving. whenver i see a even number,\n",
    "it swap with current pointer\n",
    "\n",
    "\n",
    "\n",
    "\"\"\"\n",
    "\n",
    "class Solution:\n",
    "    def sortArrayByParityII(self, nums: List[int]) -> List[int]:\n",
    "        \"\"\"\n",
    "        :type nums: List[int]\n",
    "        :rtype: List[int]\n",
    "        \"\"\"\n",
    "        \n",
    "        even = 0\n",
    "        odd = 1\n",
    "        \n",
    "        while even < len(nums) and odd < len(nums):  \n",
    "            if  nums[even] % 2 == 0:\n",
    "                even += 2\n",
    "            else:\n",
    "                nums[even], nums[odd] = nums[odd], nums[even]\n",
    "                odd += 2\n",
    "        return nums\n",
    "\n",
    "\"\"\"\n",
    "Runtime: 392 ms, faster than 26.01% of Python3 online submissions for Sort Array By Parity II.\n",
    "Memory Usage: 16.5 MB, less than 51.63% of Python3 online submissions for Sort Array By Parity II.\n",
    "\"\"\"\n",
    "                \n",
    "                \n",
    "                "
   ]
  }
 ],
 "metadata": {
  "kernelspec": {
   "display_name": "Python 3 (ipykernel)",
   "language": "python",
   "name": "python3"
  },
  "language_info": {
   "codemirror_mode": {
    "name": "ipython",
    "version": 3
   },
   "file_extension": ".py",
   "mimetype": "text/x-python",
   "name": "python",
   "nbconvert_exporter": "python",
   "pygments_lexer": "ipython3",
   "version": "3.9.12"
  }
 },
 "nbformat": 4,
 "nbformat_minor": 5
}
