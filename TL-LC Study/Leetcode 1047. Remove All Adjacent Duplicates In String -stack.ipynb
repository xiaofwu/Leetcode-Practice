{
 "cells": [
  {
   "cell_type": "code",
   "execution_count": null,
   "id": "6c6cb8ba",
   "metadata": {},
   "outputs": [],
   "source": [
    "\"\"\"\n",
    "1047. Remove All Adjacent Duplicates In String\n",
    "You are given a string s consisting of lowercase English letters. A duplicate removal consists of choosing two \n",
    "adjacent and equal letters and removing them. We repeatedly make duplicate removals on s until we no longer can.\n",
    "Return the final string after all such duplicate removals have been made. It can be proven that the answer is unique.\n",
    "Input: s = \"abbaca\"          Output: \"ca\"\n",
    "Input: s = \"azxxzy\"          Output: \"ay\"\n",
    "\n",
    "a couple of points for this problem:\n",
    "1) always remember to do corner case check    if not s...\n",
    "2) remember to put in an element first, otherwise stack is empty...\n",
    "3) we build a stack to store element, but output is string. so we need to use \"\".join(stack) to convert a list \n",
    "to string\n",
    "\n",
    "\"\"\"\n",
    "\n",
    "class Solution:\n",
    "    def removeDuplicates(self, s: str) -> str:\n",
    "        \"\"\"\n",
    "        :type s: str\n",
    "        :rtype: str\n",
    "        \"\"\"\n",
    "        my_stack = []\n",
    "        \n",
    "        if not s:\n",
    "            return []\n",
    "        \n",
    "        for char in s:\n",
    "            if not my_stack:\n",
    "                my_stack.append(char)\n",
    "            elif char != my_stack[-1]:\n",
    "                my_stack.append(char)\n",
    "            else:\n",
    "                my_stack.pop()\n",
    "                \n",
    "        return \"\".join(my_stack)\n",
    "\"\"\"\n",
    "Runtime: 76 ms, faster than 93.27% of Python3 online submissions for Remove All Adjacent Duplicates In String.\n",
    "Memory Usage: 14.9 MB, less than 49.03% of Python3 online submissions for Remove All Adjacent Duplicates In String.\n",
    "\"\"\"       \n",
    "        "
   ]
  }
 ],
 "metadata": {
  "kernelspec": {
   "display_name": "Python 3 (ipykernel)",
   "language": "python",
   "name": "python3"
  },
  "language_info": {
   "codemirror_mode": {
    "name": "ipython",
    "version": 3
   },
   "file_extension": ".py",
   "mimetype": "text/x-python",
   "name": "python",
   "nbconvert_exporter": "python",
   "pygments_lexer": "ipython3",
   "version": "3.9.12"
  }
 },
 "nbformat": 4,
 "nbformat_minor": 5
}
