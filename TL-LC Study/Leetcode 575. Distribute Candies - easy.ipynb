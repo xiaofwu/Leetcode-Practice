{
 "cells": [
  {
   "cell_type": "code",
   "execution_count": null,
   "id": "0b535537",
   "metadata": {},
   "outputs": [],
   "source": [
    "\"\"\"\n",
    "575. Distribute Candies\n",
    "Alice has n candies, where the ith candy is of type candyType[i]. Alice noticed that she started to gain weight, \n",
    "so she visited a doctor. The doctor advised Alice to only eat n / 2 of the candies she has (n is always even). \n",
    "Alice likes her candies very much, and she wants to eat the maximum number of different types of candies while \n",
    "still following the doctor's advice.\n",
    "Given the integer array candyType of length n, return the maximum number of different types of candies she can eat \n",
    "if she only eats n / 2 of them.\n",
    "\n",
    "Input: candyType = [1,1,2,2,3,3]    Output: 3\n",
    "Explanation: Alice can only eat 6 / 2 = 3 candies. Since there are only 3 types, she can eat one of each type.\n",
    "\n",
    "Input: candyType = [1,1,2,3]        Output: 2\n",
    "Explanation: Alice can only eat 4 / 2 = 2 candies. Whether she eats types [1,2], [1,3], or [2,3], she still can \n",
    "only eat 2 different types.\n",
    "\n",
    "this question looks difficult initially. But if you think carefully, #ofType is deteremined by two things \n",
    "1) if there are more than n/2 types of candies. Then she can eat at most n/2 types\n",
    "2) if there are less than n/2 types of candies, then #ofTypes is up to \"types\" of candies she has, i.e. unique \n",
    "candies she has in te jar\n",
    "So max# is the min of (n/2, set(candies))\n",
    "\n",
    "\"\"\"\n",
    "\n",
    "class Solution:\n",
    "    def distributeCandies(self, candyType: List[int]) -> int:\n",
    "        \"\"\"\n",
    "        :Type candyType: List[int]\n",
    "        :rType: int\n",
    "        \"\"\"\n",
    "        \n",
    "        return int(min(len(candyType) / 2, len(set(candyType))))\n",
    "    \n",
    "\"\"\"\n",
    "Runtime: 1052 ms, faster than 70.10% of Python3 online submissions for Distribute Candies.\n",
    "Memory Usage: 16.2 MB, less than 39.01% of Python3 online submissions for Distribute Candies.\n",
    "\"\"\""
   ]
  }
 ],
 "metadata": {
  "kernelspec": {
   "display_name": "Python 3 (ipykernel)",
   "language": "python",
   "name": "python3"
  },
  "language_info": {
   "codemirror_mode": {
    "name": "ipython",
    "version": 3
   },
   "file_extension": ".py",
   "mimetype": "text/x-python",
   "name": "python",
   "nbconvert_exporter": "python",
   "pygments_lexer": "ipython3",
   "version": "3.9.12"
  }
 },
 "nbformat": 4,
 "nbformat_minor": 5
}
