{
 "cells": [
  {
   "cell_type": "code",
   "execution_count": null,
   "id": "6f254866",
   "metadata": {},
   "outputs": [],
   "source": [
    "\"\"\"\n",
    "287. Find the Duplicate Number\n",
    "Given an array of integers nums containing n + 1 integers where each integer is in the range \n",
    "[1, n] inclusive. There is only one repeated number in nums, return this repeated number.\n",
    "You must solve the problem without modifying the array nums and uses only constant extra \n",
    "space.\n",
    "Input: nums = [1,3,4,2,2]        Output: 2\n",
    "Input: nums = [3,1,3,4,2]        Output: 3\n",
    "\n",
    "Idea\n",
    "Use a binary search variant:\n",
    "The array is not sorted - but the indices of the array are sorted - #Insight\n",
    "Find the mid index. Call it M.\n",
    "Traverse the main array and count all numbers <= M. Say the count is K.\n",
    "Say N = 200. Num elements = 201. M = 100. Low=1. High = 200.\n",
    "Say K = 101. Then we know original list of 201 elements has 101 elements <= 100. There must \n",
    "be a duplicate from 1 to 100. So we should check in left half of index space - remember we \n",
    "are searching index space not element space. high = mid.\n",
    "Say K = 100. Then we know original list of 201 elements has 100 elements <= 100. It has 101 \n",
    "elements > 100 or from 101 to 200. So we should search right half of the index space: \n",
    "remember we are searching index space not element space low =mid+1.\n",
    "\n",
    "\"\"\"\n",
    "\n",
    "class Solution(object):\n",
    "    def findDuplicate(self, nums):\n",
    "        if len(nums) == 0:\n",
    "            return 0\n",
    "        L = 1\n",
    "        R = len(nums)-1\n",
    "        while L <= R:\n",
    "            M = L+(R-L)//2\n",
    "            counter = 0\n",
    "            #count how many elements smaller than the number M\n",
    "            for e in nums:\n",
    "                if e <= M:\n",
    "                    counter += 1\n",
    "            #if counter > M \n",
    "            if counter > M:\n",
    "                R = M-1\n",
    "            else:\n",
    "                L = M+1\n",
    "        return L"
   ]
  }
 ],
 "metadata": {
  "kernelspec": {
   "display_name": "Python 3 (ipykernel)",
   "language": "python",
   "name": "python3"
  },
  "language_info": {
   "codemirror_mode": {
    "name": "ipython",
    "version": 3
   },
   "file_extension": ".py",
   "mimetype": "text/x-python",
   "name": "python",
   "nbconvert_exporter": "python",
   "pygments_lexer": "ipython3",
   "version": "3.9.12"
  }
 },
 "nbformat": 4,
 "nbformat_minor": 5
}
