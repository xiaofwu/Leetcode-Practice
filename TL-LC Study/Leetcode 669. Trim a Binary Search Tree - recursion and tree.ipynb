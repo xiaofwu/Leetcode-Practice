{
 "cells": [
  {
   "cell_type": "code",
   "execution_count": null,
   "id": "21a8330c",
   "metadata": {},
   "outputs": [],
   "source": [
    "\"\"\"\n",
    "669. Trim a Binary Search Tree\n",
    "Given the root of a binary search tree and the lowest and highest boundaries as low and high, trim the tree so \n",
    "that all its elements lies in [low, high]. Trimming the tree should not change the relative structure of the \n",
    "elements that will remain in the tree (i.e., any node's descendant should remain a descendant). It can be proven \n",
    "that there is a unique answer.\n",
    "Return the root of the trimmed binary search tree. Note that the root may change depending on the given bounds.\n",
    "\n",
    "Input: root = [1,0,2], low = 1, high = 2\n",
    "Output: [1,null,2]\n",
    "*** it is a binary search tree. each root: roo.left < root < root.right\n",
    "at each level, the root need to compare with low and right\n",
    "1) if low < root.val < high, continue\n",
    "2) if root.val <low, then we need to discard all value at roo.left(too small), and only return trimBST(root.right)\n",
    "3) if root.val > high, then we need to discard all values at root.right(too large), and return trimBST(root.left)\n",
    "\"\"\"\n",
    "\n",
    "# Definition for a binary tree node.\n",
    "# class TreeNode:\n",
    "#     def __init__(self, val=0, left=None, right=None):\n",
    "#         self.val = val\n",
    "#         self.left = left\n",
    "#         self.right = right\n",
    "class Solution:\n",
    "    def trimBST(self, root: Optional[TreeNode], low: int, high: int) -> Optional[TreeNode]:\n",
    "        \"\"\"\n",
    "        :type root: TreeNode\n",
    "        :type low: int\n",
    "        :type high: int\n",
    "        :rtype: TreeNode\n",
    "        \"\"\"\n",
    "        if not root:\n",
    "            return\n",
    "        \n",
    "        if root.val < low:\n",
    "            return self.trimBST(root.right, low, right)\n",
    "        if root.val > high:\n",
    "            return self.trimBST(root.left, low, right)\n",
    "        \n",
    "        root.left = self.trimBST(root.left, low, right)\n",
    "        root.right = self.trimBST(root.right, low, right)\n",
    "        \n",
    "        return root\n",
    "\n",
    "\"\"\"\n",
    "Runtime: 91 ms, faster than 31.67% of Python3 online submissions for Trim a Binary Search Tree.\n",
    "Memory Usage: 18 MB, less than 44.17% of Python3 online submissions for Trim a Binary Search Tree.    \n",
    "\"\"\"\n",
    "        \n",
    "        "
   ]
  }
 ],
 "metadata": {
  "kernelspec": {
   "display_name": "Python 3 (ipykernel)",
   "language": "python",
   "name": "python3"
  },
  "language_info": {
   "codemirror_mode": {
    "name": "ipython",
    "version": 3
   },
   "file_extension": ".py",
   "mimetype": "text/x-python",
   "name": "python",
   "nbconvert_exporter": "python",
   "pygments_lexer": "ipython3",
   "version": "3.9.12"
  }
 },
 "nbformat": 4,
 "nbformat_minor": 5
}
