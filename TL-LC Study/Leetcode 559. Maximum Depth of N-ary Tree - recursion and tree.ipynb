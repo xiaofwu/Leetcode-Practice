{
 "cells": [
  {
   "cell_type": "code",
   "execution_count": null,
   "id": "b24abd2e",
   "metadata": {},
   "outputs": [],
   "source": [
    "\"\"\"\n",
    "559. Maximum Depth of N-ary Tree\n",
    "Given a n-ary tree, find its maximum depth.\n",
    "The maximum depth is the number of nodes along the longest path from the root node down to the farthest leaf node.\n",
    "Nary-Tree input serialization is represented in their level order traversal, each group of children is separated \n",
    "by the null value (See examples).\n",
    "\n",
    "Input: root = [1,null,3,2,4,null,5,6]               Output: 3\n",
    "\n",
    "idea: apply recursion. root have several children. we need to calculate depth of each children. maxdepth is the max of \n",
    "children in the same level. then move to the next level. Now we have a recursion\n",
    "\"\"\"\n",
    "\n",
    "\"\"\"\n",
    "# Definition for a Node.\n",
    "class Node:\n",
    "    def __init__(self, val=None, children=None):\n",
    "        self.val = val\n",
    "        self.children = children\n",
    "\"\"\"\n",
    "\n",
    "class Solution:\n",
    "    def maxDepth(self, root: 'Node') -> int:\n",
    "        \"\"\"\n",
    "        :type root: Node\n",
    "        :rtype: int\n",
    "        \"\"\"\n",
    "        maxDep = 0\n",
    "        \n",
    "        if not root:\n",
    "            return 0\n",
    "        \n",
    "        for children in root.children:\n",
    "            depth = self.maxDepth(children)\n",
    "            maxDep = max(depth, maxDep)\n",
    "        \n",
    "        return maxDep + 1\n",
    "    \n",
    "\"\"\"\n",
    "Runtime: 92 ms, faster than 14.08% of Python3 online submissions for Maximum Depth of N-ary Tree.\n",
    "Memory Usage: 16.1 MB, less than 49.96% of Python3 online submissions for Maximum Depth of N-ary Tree.\n",
    "\"\"\"\n",
    "        "
   ]
  }
 ],
 "metadata": {
  "kernelspec": {
   "display_name": "Python 3 (ipykernel)",
   "language": "python",
   "name": "python3"
  },
  "language_info": {
   "codemirror_mode": {
    "name": "ipython",
    "version": 3
   },
   "file_extension": ".py",
   "mimetype": "text/x-python",
   "name": "python",
   "nbconvert_exporter": "python",
   "pygments_lexer": "ipython3",
   "version": "3.9.12"
  }
 },
 "nbformat": 4,
 "nbformat_minor": 5
}
