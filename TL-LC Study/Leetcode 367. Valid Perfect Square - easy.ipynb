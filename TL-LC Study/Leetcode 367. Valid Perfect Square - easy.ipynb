{
 "cells": [
  {
   "cell_type": "code",
   "execution_count": null,
   "id": "bc397cd1",
   "metadata": {},
   "outputs": [],
   "source": [
    "\"\"\"\n",
    "367. Valid Perfect Square\n",
    "Given a positive integer num, write a function which returns True if num is a perfect \n",
    "square else False.\n",
    "Follow up: Do not use any built-in library function such as sqrt.\n",
    "\n",
    "Input: num = 16            Output: true\n",
    "Input: num = 14            Output: false\n",
    "\n",
    "this question resemble leetcode 69 Sqrt. You have to introduce a sorted list for BS, \n",
    "which is exceuted through Rang(n).\n",
    "\n",
    "\"\"\"\n",
    "\n",
    "class Solution:\n",
    "    def isPerfectSquare(self, num: int) -> bool:\n",
    "        \"\"\"\n",
    "        :type num: int\n",
    "        :rtype bool\n",
    "        \"\"\"\n",
    "        \n",
    "        #build a binary search\n",
    "        left = 0\n",
    "        right = num\n",
    "        \n",
    "        while left <= right\n",
    "            mid = left + (right - left) // 2\n",
    "            if mid * mid == num:\n",
    "                return True\n",
    "            elif mid * mid < num\n",
    "                left = mid + 1\n",
    "            else:\n",
    "                right = mid -1\n",
    "                \n",
    "        return False        "
   ]
  },
  {
   "cell_type": "code",
   "execution_count": null,
   "id": "46911577",
   "metadata": {},
   "outputs": [],
   "source": [
    "# 2022 -09 18\n",
    "class Solution:\n",
    "    def isPerfectSquare(self, num: int) -> bool:\n",
    "        \"\"\"\n",
    "        :type num: int\n",
    "        :rtype bool\n",
    "        \"\"\"\n",
    "        if num < 2: return True\n",
    "        #use BS to search from 1 to num for i if i * i = num\n",
    "        L, R = 1, num\n",
    "        while L <= R:\n",
    "            mid = L + (R - L) // 2\n",
    "            if mid * mid == num: \n",
    "                return True\n",
    "            elif mid * mid < num:\n",
    "                L = mid + 1\n",
    "            else:\n",
    "                R = mid - 1\n",
    "        return False"
   ]
  }
 ],
 "metadata": {
  "kernelspec": {
   "display_name": "Python 3 (ipykernel)",
   "language": "python",
   "name": "python3"
  },
  "language_info": {
   "codemirror_mode": {
    "name": "ipython",
    "version": 3
   },
   "file_extension": ".py",
   "mimetype": "text/x-python",
   "name": "python",
   "nbconvert_exporter": "python",
   "pygments_lexer": "ipython3",
   "version": "3.9.12"
  }
 },
 "nbformat": 4,
 "nbformat_minor": 5
}
