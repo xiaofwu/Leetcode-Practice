{
 "cells": [
  {
   "cell_type": "code",
   "execution_count": null,
   "id": "b884ffdd",
   "metadata": {},
   "outputs": [],
   "source": [
    "\"\"\"\n",
    "108. Convert Sorted Array to Binary Search Tree\n",
    "Given an integer array nums where the elements are sorted in ascending order, convert it to a height-balanced \n",
    "binary search tree. A height-balanced binary tree is a binary tree in which the depth of the two subtrees of \n",
    "every node never differs by more than one.\n",
    "\n",
    "Input: nums = [-10,-3,0,5,9]       Output: [0,-3,9,-10,null,5]\n",
    "\n",
    "idea: this is like BS question. mid of the list is the root. then left half of the list applies the same\n",
    "function, righ side also subject to the same function\n",
    "\n",
    "***note: output is tree. to define a tree, we need to define root, root.left, and root.right. Every call of the \n",
    "function, we are goind to identify root(i.e. nums[mid]), and root.left(i.e. call funtion of left part of list),\n",
    "and root.right node (i.e. call function on righ side of the list)\n",
    "\"\"\"\n",
    "\n",
    "# Definition for a binary tree node.\n",
    "# class TreeNode:\n",
    "#     def __init__(self, val=0, left=None, right=None):\n",
    "#         self.val = val\n",
    "#         self.left = left\n",
    "#         self.right = right\n",
    "class Solution:\n",
    "    def sortedArrayToBST(self, nums: List[int]) -> Optional[TreeNode]:\n",
    "        \"\"\"\n",
    "        :Type nums: List[int]\n",
    "        :rtype: TreeNode\n",
    "        \"\"\"\n",
    "        if not nums:\n",
    "            return None\n",
    "        \n",
    "        left = 0\n",
    "        right = len(nums) -1\n",
    "        mid = left + (right - left) // 2\n",
    "        \n",
    "        root = TreeNode(nums[mid])\n",
    "        root.left = self.sortedArrayToBST(nums[:mid])\n",
    "        root.right = self.sortedArrayToBST(nums[mid+1:])\n",
    "        \n",
    "        return root\n",
    "    \n",
    "\"\"\"\n",
    "Runtime: 65 ms, faster than 93.10% of Python3 online submissions for Convert Sorted Array to Binary Search Tree.\n",
    "Memory Usage: 15.6 MB, less than 82.78% of Python3 online submissions for Convert Sorted Array to Binary Search Tree.\n",
    "\"\"\"\n",
    "        "
   ]
  }
 ],
 "metadata": {
  "kernelspec": {
   "display_name": "Python 3 (ipykernel)",
   "language": "python",
   "name": "python3"
  },
  "language_info": {
   "codemirror_mode": {
    "name": "ipython",
    "version": 3
   },
   "file_extension": ".py",
   "mimetype": "text/x-python",
   "name": "python",
   "nbconvert_exporter": "python",
   "pygments_lexer": "ipython3",
   "version": "3.9.12"
  }
 },
 "nbformat": 4,
 "nbformat_minor": 5
}
