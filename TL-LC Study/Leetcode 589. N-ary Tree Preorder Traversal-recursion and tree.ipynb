{
 "cells": [
  {
   "cell_type": "code",
   "execution_count": null,
   "id": "8fc09ad3",
   "metadata": {},
   "outputs": [],
   "source": [
    "\"\"\"\n",
    "589. N-ary Tree Preorder Traversal\n",
    "Given the root of an n-ary tree, return the preorder traversal of its nodes' values.\n",
    "Nary-Tree input serialization is represented in their level order traversal. Each group of children is separated \n",
    "by the null value (See examples)\n",
    "\n",
    "Input: root = [1,null,3,2,4,null,5,6]                  Output: [1,3,5,6,2,4]\n",
    "Input: root = [1,null,2,3,4,5,null,null,6,7,null,8,null,9,10,null,null,11,null,12,null,13,null,null,14]\n",
    "Output: [1,2,3,6,7,11,14,4,8,12,5,9,13,10]\n",
    "\n",
    "Idea: how to recurse this rpoblem? basically preorder root = preorder all children from left to right (suppose \n",
    "children are ordered from left to right in the list). preorder takes only \"root\" as argument, and returns a list.\n",
    "we just need to add those lists one by one\n",
    "\"\"\"\n",
    "\n",
    "\"\"\"\n",
    "# Definition for a Node.\n",
    "class Node:\n",
    "    def __init__(self, val=None, children=None):\n",
    "        self.val = val\n",
    "        self.children = children\n",
    "\"\"\"\n",
    "\n",
    "class Solution:\n",
    "    def preorder(self, root: 'Node') -> List[int]:\n",
    "        \"\"\"\n",
    "        :type root: Node\n",
    "        :rtype: List[int]\n",
    "        \"\"\"\n",
    "        \n",
    "        if not root:\n",
    "            return []\n",
    "        \n",
    "        rList = []\n",
    "        rList.append(root.val)\n",
    "        \n",
    "        for children in root.children:\n",
    "            rList = rList + self.preorder(children)\n",
    "            \n",
    "        return rList\n",
    "    \n",
    "\"\"\"\n",
    "Runtime: 96 ms, faster than 23.51% of Python3 online submissions for N-ary Tree Preorder Traversal.\n",
    "Memory Usage: 16.2 MB, less than 49.35% of Python3 online submissions for N-ary Tree Preorder Traversal.\n",
    "\"\"\""
   ]
  }
 ],
 "metadata": {
  "kernelspec": {
   "display_name": "Python 3 (ipykernel)",
   "language": "python",
   "name": "python3"
  },
  "language_info": {
   "codemirror_mode": {
    "name": "ipython",
    "version": 3
   },
   "file_extension": ".py",
   "mimetype": "text/x-python",
   "name": "python",
   "nbconvert_exporter": "python",
   "pygments_lexer": "ipython3",
   "version": "3.9.12"
  }
 },
 "nbformat": 4,
 "nbformat_minor": 5
}
