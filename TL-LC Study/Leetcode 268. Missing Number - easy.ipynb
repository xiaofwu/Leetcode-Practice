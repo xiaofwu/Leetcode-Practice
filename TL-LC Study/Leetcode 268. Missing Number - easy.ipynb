{
 "cells": [
  {
   "cell_type": "code",
   "execution_count": null,
   "id": "6a173797",
   "metadata": {},
   "outputs": [],
   "source": [
    "\"\"\"\n",
    "268. Missing Number\n",
    "Given an array nums containing n distinct numbers in the range [0, n], return the only number \n",
    "in the range that is missing from the array.\n",
    "Input: nums = [3,0,1]          Output: 2\n",
    "Input: nums = [0,1]            Output: 2\n",
    "we can use \"set\" to simplify the input list. then just search the list\n",
    "\"\"\"\n",
    "class Solution:\n",
    "    def missingNumber(self, nums: List[int]) -> int:        \n",
    "        \"\"\"\n",
    "        :type nums: List[int]\n",
    "        :rtype: int\n",
    "        \"\"\"\n",
    "        # loop throught array nums and check for missing element directly\n",
    "        for i in range(len(nums) + 1):\n",
    "            if i not in nums: return i\n",
    "            \n",
    "    def missingNumber2(self, nums: List[int]) -> int:\n",
    "        # one way to improve time consumption is to use set\n",
    "        # not much improvement actually\n",
    "        s = set(nums)\n",
    "        for i in range(len(nums)+1):\n",
    "            if i not in s: return i\n",
    "        \n",
    "    def missingNumber3(self, nums: List[int]) -> int:\n",
    "        # use set operation directly\n",
    "        complete_set = {i for i in range(len(nums) + 1)}\n",
    "        return (complete_set - set(nums)).pop()\n",
    "\"\"\"\n",
    "Runtime: O(N) \n",
    "Space: O(N) \n",
    "\"\"\" \n",
    "    def missingNumber3(self, nums: List[int]) -> int:\n",
    "        # Could you implement a solution using only O(1) extra space complexity and \n",
    "        # O(n) runtime complexity?\n",
    "        # sum difference between sum of the given list and sum of 1 to max\n",
    "        max = len(nums)\n",
    "        return int(max * (max + 1) / 2 - sum(nums))\n",
    "    \n",
    "\"\"\"\n",
    "Runtime: O(N) \n",
    "Space: O(1) \n",
    "\"\"\" "
   ]
  }
 ],
 "metadata": {
  "kernelspec": {
   "display_name": "Python 3 (ipykernel)",
   "language": "python",
   "name": "python3"
  },
  "language_info": {
   "codemirror_mode": {
    "name": "ipython",
    "version": 3
   },
   "file_extension": ".py",
   "mimetype": "text/x-python",
   "name": "python",
   "nbconvert_exporter": "python",
   "pygments_lexer": "ipython3",
   "version": "3.9.12"
  }
 },
 "nbformat": 4,
 "nbformat_minor": 5
}
