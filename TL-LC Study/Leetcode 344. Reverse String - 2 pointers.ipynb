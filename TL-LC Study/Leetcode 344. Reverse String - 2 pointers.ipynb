{
 "cells": [
  {
   "cell_type": "code",
   "execution_count": null,
   "id": "876c7e41",
   "metadata": {},
   "outputs": [],
   "source": [
    "\"\"\"\n",
    "344. Reverse String\n",
    "Write a function that reverses a string. The input string is given as an array of characters s.\n",
    "You must do this by modifying the input array in-place with O(1) extra memory.\n",
    "\n",
    "Input: s = [\"h\",\"e\",\"l\",\"l\",\"o\"]                 Output: [\"o\",\"l\",\"l\",\"e\",\"h\"]\n",
    "Input: s = [\"H\",\"a\",\"n\",\"n\",\"a\",\"h\"]             Output: [\"h\",\"a\",\"n\",\"n\",\"a\",\"H\"]\n",
    "\n",
    "this is quite straightforward 2 pointer problem.\n",
    "\"\"\"\n",
    "\n",
    "class Solution:\n",
    "    def reverseString(self, s: List[str]) -> None:\n",
    "        \"\"\"\n",
    "        :type s: List[str]\n",
    "        :rtype: None\n",
    "        \"\"\"\n",
    "        if not s:\n",
    "            return []\n",
    "        \n",
    "        start = 0\n",
    "        end = len(s) - 1\n",
    "        \n",
    "        while start < end:\n",
    "            s[start] = s[end]   \n",
    "            start += 1\n",
    "            end -= 1\n",
    "        return"
   ]
  }
 ],
 "metadata": {
  "kernelspec": {
   "display_name": "Python 3 (ipykernel)",
   "language": "python",
   "name": "python3"
  },
  "language_info": {
   "codemirror_mode": {
    "name": "ipython",
    "version": 3
   },
   "file_extension": ".py",
   "mimetype": "text/x-python",
   "name": "python",
   "nbconvert_exporter": "python",
   "pygments_lexer": "ipython3",
   "version": "3.9.12"
  }
 },
 "nbformat": 4,
 "nbformat_minor": 5
}
