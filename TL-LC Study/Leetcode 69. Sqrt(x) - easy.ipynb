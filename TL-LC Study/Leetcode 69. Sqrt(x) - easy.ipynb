{
 "cells": [
  {
   "cell_type": "code",
   "execution_count": null,
   "id": "cf00c79b",
   "metadata": {},
   "outputs": [],
   "source": [
    "\"\"\"\n",
    "69. Sqrt(x)\n",
    "Given a non-negative integer x, compute and return the square root of x. Since the return \n",
    "type is an integer, the decimal digits are truncated, and only the integer part of the \n",
    "result is returned.\n",
    "Note: You are not allowed to use any built-in exponent function or operator, such as \n",
    "pow(x, 0.5) or x ** 0.5.\n",
    "\n",
    "Does not look like a BS problem since you do not see a sorted list in the input. \n",
    "You have to use your imagination to find a sorted array to use in order to solve the \n",
    "problem. One such sorted array is a list of [0,1,2,3,4,...n] Sqrt(n) <= n\n",
    "\"\"\"\n",
    "\n",
    "class Solution:\n",
    "    def mySqrt(self, x: int) -> int:\n",
    "        \"\"\"\n",
    "        :type x: int\n",
    "        :rtype int\n",
    "        \"\"\"        \n",
    "        left = 0\n",
    "        right = x\n",
    "        \n",
    "        while left <= right:\n",
    "            mid = left + (right - left) // 2\n",
    "            \n",
    "            if mid * mid == x:\n",
    "                return mid\n",
    "            elif mid * mid < x:\n",
    "                left = mid + 1\n",
    "            else: \n",
    "                right = mid -1\n",
    "        \n",
    "        return left - 1\n"
   ]
  },
  {
   "cell_type": "code",
   "execution_count": null,
   "id": "d80912b9",
   "metadata": {},
   "outputs": [],
   "source": [
    "#2022-9-18\n",
    "class Solution:\n",
    "    def mySqrt(self, x: int) -> int:\n",
    "        \"\"\"\n",
    "        :type x: int\n",
    "        :rtype int\n",
    "        \"\"\"   \n",
    "        if x < 2: return x\n",
    "        \n",
    "        # use BS and find an num between 1 and n so that num * num <= x, while\n",
    "        # (num + 1) * (num + 1) > x\n",
    "        \n",
    "        L, R = 1, n\n",
    "        while L <= R:\n",
    "            mid = L + (L - R) // 2\n",
    "            if mid * mid <= x and x < (mid + 1) * (mid + 1):\n",
    "                return mid\n",
    "            elif mid * mid < x:\n",
    "                L = mid + 1\n",
    "            else:\n",
    "                R = mid -1\n",
    "\"\"\"\n",
    "time O(logn)\n",
    "space O(n)\n",
    "\"\"\""
   ]
  }
 ],
 "metadata": {
  "kernelspec": {
   "display_name": "Python 3 (ipykernel)",
   "language": "python",
   "name": "python3"
  },
  "language_info": {
   "codemirror_mode": {
    "name": "ipython",
    "version": 3
   },
   "file_extension": ".py",
   "mimetype": "text/x-python",
   "name": "python",
   "nbconvert_exporter": "python",
   "pygments_lexer": "ipython3",
   "version": "3.9.12"
  }
 },
 "nbformat": 4,
 "nbformat_minor": 5
}
