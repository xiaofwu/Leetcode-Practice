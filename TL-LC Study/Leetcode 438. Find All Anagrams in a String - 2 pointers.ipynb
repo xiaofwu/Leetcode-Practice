{
 "cells": [
  {
   "cell_type": "code",
   "execution_count": null,
   "id": "960dfec8",
   "metadata": {},
   "outputs": [],
   "source": [
    "#438. Find All Anagrams in a String\n",
    "\n",
    "class Solution:\n",
    "    def findAnagrams(self, s: str, p: str) -> List[int]:\n",
    "        \"\"\"\n",
    "        :type s: str\n",
    "        :type p: str\n",
    "        :rtype: List[int]\n",
    "        \"\"\"\n",
    "        from collections import Counter\n",
    "        \n",
    "        rList = []\n",
    "        start = 0\n",
    "        end = start + len(p) - 1\n",
    "        small_window = Counter(s[start:end])\n",
    "        p_counter = Counter(p)\n",
    "        \n",
    "        #build a len(p)-1 small window\n",
    "        #small window add one element in front\n",
    "        #compare with p_Counter\n",
    "        #dump the old element from left\n",
    "        #update start\n",
    "        for i in range(len(p) - 1, len(s)):\n",
    "            if s[i] not in small_window:\n",
    "                small_window[s[i]] = 1\n",
    "            else:\n",
    "                small_window[s[i]] += 1\n",
    "                \n",
    "            if small_window == p_counter:\n",
    "                rList.append(start)\n",
    "                \n",
    "            if small_window[s[start]] >= 2:\n",
    "                small_window[s[start]] -= 1\n",
    "            else:\n",
    "                del small_window[s[start]]\n",
    "            start += 1            \n",
    "        return rList"
   ]
  }
 ],
 "metadata": {
  "kernelspec": {
   "display_name": "Python 3 (ipykernel)",
   "language": "python",
   "name": "python3"
  },
  "language_info": {
   "codemirror_mode": {
    "name": "ipython",
    "version": 3
   },
   "file_extension": ".py",
   "mimetype": "text/x-python",
   "name": "python",
   "nbconvert_exporter": "python",
   "pygments_lexer": "ipython3",
   "version": "3.9.12"
  }
 },
 "nbformat": 4,
 "nbformat_minor": 5
}
