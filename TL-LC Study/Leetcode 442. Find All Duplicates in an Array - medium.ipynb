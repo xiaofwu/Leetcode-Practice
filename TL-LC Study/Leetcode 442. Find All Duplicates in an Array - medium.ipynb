{
 "cells": [
  {
   "cell_type": "code",
   "execution_count": null,
   "id": "3d5238b6",
   "metadata": {},
   "outputs": [],
   "source": [
    "\"\"\"\n",
    "442. Find All Duplicates in an Array\n",
    "Given an integer array nums of length n where all the integers of nums are in the range [1, n] and \n",
    "each integer appears once or twice, return an array of all the integers that appears twice.\n",
    "You must write an algorithm that runs in O(n) time and uses only constant extra space.\n",
    "Input: nums = [4,3,2,7,8,2,3,1]              Output: [2,3]\n",
    "Input: nums = [1]                            Output: []\n",
    "Input: nums = [1,1,2]                        Output: [1]\n",
    "\n",
    "this is a typical dictionary conversion problem. After we build a library with value : #ofAppearance, we \n",
    "know immediately what values have duplicate\n",
    "\"\"\"\n",
    "\n",
    "class Solution:\n",
    "    def findDuplicates(self, nums: List[int]) -> List[int]:\n",
    "        \"\"\"\n",
    "        :type nums: List[int]\n",
    "        :rtype: List[int]\n",
    "        \"\"\"\n",
    "        if len(nums) < 2: return []\n",
    "        \n",
    "        #build a dictionary with count of elements occurance\n",
    "        hashmap = {}\n",
    "        for i in nums:\n",
    "            hashmap[i] = hashmap.get(i, 0) + 1\n",
    "        return [i for i in hashmap if hashmap[i] > 1]\n",
    "\"\"\"\n",
    "Runtime: O(N)\n",
    "Space: O(N) \n",
    "\"\"\"            \n",
    "\n",
    "# 442. Find All Duplicates in an Array\n",
    "# O(1) space complexity\n",
    "class Solution:\n",
    "    def findDuplicates(self, nums: List[int]) -> List[int]:\n",
    "        \"\"\"\n",
    "        :type nums: List[int]\n",
    "        :rtype: List[int]\n",
    "        \"\"\"\n",
    "        if len(nums) < 2: return []\n",
    "        # for an array with element in certain range(1 to n), we can record the appearance\n",
    "        # of an element by marking the element at index position corresponding to this element\n",
    "        # for example, int 4 can be marked by number at index3 by changing int at index3 to\n",
    "        # a negative number\n",
    "        res = []\n",
    "        for i in nums:\n",
    "            if nums[abs(i) - 1] < 0:\n",
    "                res.append(abs(num))\n",
    "            else:\n",
    "                nums[abs(num) - 1] *= -1\n",
    "        return res\n",
    "\"\"\"\n",
    "Runtime: O(N)\n",
    "Space: O(1) \n",
    "\"\"\"  "
   ]
  }
 ],
 "metadata": {
  "kernelspec": {
   "display_name": "Python 3 (ipykernel)",
   "language": "python",
   "name": "python3"
  },
  "language_info": {
   "codemirror_mode": {
    "name": "ipython",
    "version": 3
   },
   "file_extension": ".py",
   "mimetype": "text/x-python",
   "name": "python",
   "nbconvert_exporter": "python",
   "pygments_lexer": "ipython3",
   "version": "3.9.12"
  }
 },
 "nbformat": 4,
 "nbformat_minor": 5
}
