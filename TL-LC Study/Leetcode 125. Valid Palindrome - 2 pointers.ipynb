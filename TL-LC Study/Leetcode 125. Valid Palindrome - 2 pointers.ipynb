{
 "cells": [
  {
   "cell_type": "code",
   "execution_count": null,
   "id": "a6f40187",
   "metadata": {},
   "outputs": [],
   "source": [
    "\"\"\"\n",
    "125. Valid Palindrome\n",
    "A phrase is a palindrome if, after converting all uppercase letters into lowercase letters and removing all \n",
    "non-alphanumeric characters, it reads the same forward and backward. Alphanumeric characters include letters \n",
    "and numbers. Given a string s, return true if it is a palindrome, or false otherwise.\n",
    "\n",
    "Input: s = \"race a car\"                       Output: false    Explanation: \"raceacar\" is not a palindrome.\n",
    "Input: s = \"A man, a plan, a canal: Panama\"   Output: true     Explanation: \"amanaplanacanalpanama\" is a palindrome.\n",
    "\n",
    "Idea: let set up 2 pointers: one pointer at \"start\" and going forward, the other one at \"end\" and moves backward. \n",
    "if char is alphanumeric, we need to compare if 2 pointers point to the same char. if so, start + 1, and edn -1, and \n",
    "compare again till start = end\n",
    "\n",
    "\n",
    "need to use a method isalnum() for a char: Returns True if all characters in the string are alphanumeric\n",
    "\"\"\"\n",
    "class Solution:\n",
    "    def isPalindrome(self, s: str) -> bool:\n",
    "        \"\"\"\n",
    "        :type s: str\n",
    "        :rtype: bool\n",
    "        \"\"\"\n",
    "\n",
    "        if not s:\n",
    "            return True\n",
    "        \n",
    "        current = 0\n",
    "        end = len(s) -1\n",
    "        \n",
    "        while current < end:\n",
    "            if not s[current].isalnum():\n",
    "                current += 1\n",
    "                \n",
    "            if not s[end].isalnum():\n",
    "                end -= 1\n",
    "                \n",
    "            if s[current] != s[end]:\n",
    "                return False\n",
    "                break\n",
    "            else:\n",
    "                current += 1\n",
    "                end -= 1\n",
    "        return True\n",
    "        \n",
    "        "
   ]
  }
 ],
 "metadata": {
  "kernelspec": {
   "display_name": "Python 3 (ipykernel)",
   "language": "python",
   "name": "python3"
  },
  "language_info": {
   "codemirror_mode": {
    "name": "ipython",
    "version": 3
   },
   "file_extension": ".py",
   "mimetype": "text/x-python",
   "name": "python",
   "nbconvert_exporter": "python",
   "pygments_lexer": "ipython3",
   "version": "3.9.12"
  }
 },
 "nbformat": 4,
 "nbformat_minor": 5
}
