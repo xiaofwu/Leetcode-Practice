{
 "cells": [
  {
   "cell_type": "code",
   "execution_count": 8,
   "id": "ee41b058",
   "metadata": {},
   "outputs": [],
   "source": [
    "\"\"\"\n",
    "1441. Build an Array With Stack Operations\n",
    "You are given an array target and an integer n.\n",
    "\n",
    "In each iteration, you will read a number from list = [1, 2, 3, ..., n].\n",
    "\n",
    "Build the target array using the following operations:\n",
    "\n",
    "\"Push\": Reads a new element from the beginning list, and pushes it in the array.\n",
    "\"Pop\": Deletes the last element of the array.\n",
    "If the target array is already built, stop reading more elements.\n",
    "Return a list of the operations needed to build target. If there are multiple valid answers, return any of them.\n",
    "\n",
    "Input: target = [1,3], n = 3        Output: [\"Push\",\"Push\",\"Pop\",\"Push\"]\n",
    "Read number 1 and automatically push in the array -> [1]\n",
    "Read number 2 and automatically push in the array then Pop it -> [1]\n",
    "Read number 3 and automatically push in the array -> [1,3]\n",
    "\"\"\"\n",
    "\n",
    "class Solution:\n",
    "    def buildArray(self, target, n):\n",
    "        \"\"\"\n",
    "        :type target: List[int]\n",
    "        \"\"\"\n",
    "        stack = []\n",
    "        if not target:\n",
    "            return []\n",
    "    \n",
    "        for i in range(1, n + 1):\n",
    "            if i in target:\n",
    "                stack.append(\"Push\")\n",
    "            elif i not in target and i< target[-1]:\n",
    "                stack.append(\"Push\")\n",
    "                stack.append(\"Pop\")\n",
    "            else:\n",
    "                break\n",
    "        return stack\n",
    "\"\"\"\n",
    "Runtime: 59 ms, faster than 33.97% of Python3 online submissions for Build an Array With Stack Operations.\n",
    "Memory Usage: 14 MB, less than 18.80% of Python3 online submissions for Build an Array With Stack Operations.\n",
    "\"\"\"        \n",
    "                \n",
    "                \n",
    "                \n",
    "                "
   ]
  },
  {
   "cell_type": "code",
   "execution_count": 9,
   "id": "1479d87c",
   "metadata": {},
   "outputs": [
    {
     "name": "stdout",
     "output_type": "stream",
     "text": [
      "1\n",
      "['push']\n",
      "2\n",
      "['push', 'push', 'pop']\n",
      "3\n",
      "['push', 'push', 'pop', 'push']\n"
     ]
    },
    {
     "data": {
      "text/plain": [
       "['push', 'push', 'pop', 'push']"
      ]
     },
     "execution_count": 9,
     "metadata": {},
     "output_type": "execute_result"
    }
   ],
   "source": [
    "obj = Solution()\n",
    "obj.buildArray([1,3], 3)"
   ]
  },
  {
   "cell_type": "code",
   "execution_count": null,
   "id": "cc0560da",
   "metadata": {},
   "outputs": [],
   "source": []
  }
 ],
 "metadata": {
  "kernelspec": {
   "display_name": "Python 3 (ipykernel)",
   "language": "python",
   "name": "python3"
  },
  "language_info": {
   "codemirror_mode": {
    "name": "ipython",
    "version": 3
   },
   "file_extension": ".py",
   "mimetype": "text/x-python",
   "name": "python",
   "nbconvert_exporter": "python",
   "pygments_lexer": "ipython3",
   "version": "3.9.12"
  }
 },
 "nbformat": 4,
 "nbformat_minor": 5
}
