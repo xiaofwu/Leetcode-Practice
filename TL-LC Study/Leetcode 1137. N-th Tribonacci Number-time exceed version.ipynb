{
 "cells": [
  {
   "cell_type": "code",
   "execution_count": null,
   "id": "9265426b",
   "metadata": {},
   "outputs": [],
   "source": [
    "\"\"\"\n",
    "1137. N-th Tribonacci Number\n",
    "The Tribonacci sequence Tn is defined as follows: \n",
    "T0 = 0, T1 = 1, T2 = 1, and Tn+3 = Tn + Tn+1 + Tn+2 for n >= 0.\n",
    "Given n, return the value of Tn.\n",
    "\n",
    "Input: n = 4             Output: 4\n",
    "Input: n = 25            Output: 1389537\n",
    "\"\"\"\n",
    "\n",
    "class Solution:\n",
    "    def tribonacci(self, n: int) -> int:\n",
    "        \"\"\"\n",
    "        :type n: int\n",
    "        :rtype: int\n",
    "        \"\"\"\n",
    "        if n == 0:\n",
    "            return 0\n",
    "        elif n <= 2:\n",
    "            return 1\n",
    "               \n",
    "        return self.tribonacci(n-3) + self.tribonacci(n-2) + self.tribonacci(n-1)\n",
    "        \n",
    "        \n",
    "        \n",
    "        \n",
    "        "
   ]
  }
 ],
 "metadata": {
  "kernelspec": {
   "display_name": "Python 3 (ipykernel)",
   "language": "python",
   "name": "python3"
  },
  "language_info": {
   "codemirror_mode": {
    "name": "ipython",
    "version": 3
   },
   "file_extension": ".py",
   "mimetype": "text/x-python",
   "name": "python",
   "nbconvert_exporter": "python",
   "pygments_lexer": "ipython3",
   "version": "3.9.12"
  }
 },
 "nbformat": 4,
 "nbformat_minor": 5
}
