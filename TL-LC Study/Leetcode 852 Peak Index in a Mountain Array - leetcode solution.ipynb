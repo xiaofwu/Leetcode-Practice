{
 "cells": [
  {
   "cell_type": "code",
   "execution_count": null,
   "id": "a7f68065",
   "metadata": {},
   "outputs": [],
   "source": [
    "\"\"\"\n",
    "852. Peak Index in a Mountain Array\n",
    "An array arr a mountain if the following properties hold:\n",
    "\n",
    "arr.length >= 3\n",
    "There exists some i with 0 < i < arr.length - 1 such that:\n",
    "arr[0] < arr[1] < ... < arr[i - 1] < arr[i]\n",
    "arr[i] > arr[i + 1] > ... > arr[arr.length - 1]\n",
    "Given a mountain array arr, return the index i such that arr[0] < arr[1] < ... < arr[i - 1] < arr[i] > arr[i + 1] > ... > arr[arr.length - 1].\n",
    "\n",
    "You must solve it in O(log(arr.length)) time complexity.\n",
    "Input: arr = [0,2,1,0]                     Output: 1\n",
    "Input: arr = [0,10,5,2]                    Output: 1\n",
    "\n",
    "this is a special case you can use BS even though the array is not sorted in one direction. But the input array has \n",
    "such special character that you can clearly define the direction of the next search based on the comparison of mid \n",
    "value with its two neighbors. So it suits well for a BS algorithm\n",
    "\"\"\"\n",
    "\n",
    "class Solution:\n",
    "    def peakIndexInMountainArray(self, arr: List[int]) -> int:\n",
    "        \"\"\"\n",
    "        :type arr: List[int]\n",
    "        :rtype: int\n",
    "        \"\"\"\n",
    "        \n",
    "        #build a binary search \n",
    "        left = 0\n",
    "        right = len(arr) -1\n",
    "        \n",
    "        while left <= right:\n",
    "            mid = left + (right - left) // 2\n",
    "            if arr[mid] < arr[mid + 1]:\n",
    "                left = mid + 1\n",
    "            else:\n",
    "                right = mid - 1\n",
    "        return left\n",
    "    \n",
    "\"\"\"\n",
    "Runtime: 887 ms, faster than 36.78% of Python3 online submissions for Peak Index in a Mountain Array.\n",
    "Memory Usage: 27.8 MB, less than 24.03% of Python3 online submissions for Peak Index in a Mountain Array.\n",
    "\"\"\"\n",
    "                \n",
    "     \n",
    "                "
   ]
  }
 ],
 "metadata": {
  "kernelspec": {
   "display_name": "Python 3 (ipykernel)",
   "language": "python",
   "name": "python3"
  },
  "language_info": {
   "codemirror_mode": {
    "name": "ipython",
    "version": 3
   },
   "file_extension": ".py",
   "mimetype": "text/x-python",
   "name": "python",
   "nbconvert_exporter": "python",
   "pygments_lexer": "ipython3",
   "version": "3.9.12"
  }
 },
 "nbformat": 4,
 "nbformat_minor": 5
}
