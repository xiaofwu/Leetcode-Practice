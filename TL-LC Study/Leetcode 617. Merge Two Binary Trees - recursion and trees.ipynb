{
 "cells": [
  {
   "cell_type": "code",
   "execution_count": null,
   "id": "3ae7f02e",
   "metadata": {},
   "outputs": [],
   "source": [
    "\"\"\"\n",
    "617. Merge Two Binary Trees\n",
    "You are given two binary trees root1 and root2.\n",
    "Imagine that when you put one of them to cover the other, some nodes of the two trees are overlapped while the \n",
    "others are not. You need to merge the two trees into a new binary tree. The merge rule is that if two nodes overlap, \n",
    "then sum node values up as the new value of the merged node. Otherwise, the NOT null node will be used as the node \n",
    "of the new tree.\n",
    "\n",
    "Return the merged tree.\n",
    "Note: The merging process must start from the root nodes of both trees.\n",
    "\n",
    "Input: root1 = [1,3,2,5],  root2 = [2,1,3,null,4,null,7]          Output: [3,4,5,5,4,null,7]\n",
    "\n",
    "Idea: Looks like all trees problem can use recursion to solve naturally because of it recursive structure.\n",
    "For this problem, mergeTrees function takes 2 roots and output is a treenode\n",
    "we can set up the recursive equation:  new root1.val = root1.val + root2.val, ap\n",
    "\n",
    "\n",
    "\"\"\"\n",
    "\n",
    "# Definition for a binary tree node.\n",
    "# class TreeNode:\n",
    "#     def __init__(self, val=0, left=None, right=None):\n",
    "#         self.val = val\n",
    "#         self.left = left\n",
    "#         self.right = right\n",
    "class Solution:\n",
    "    def mergeTrees(self, root1: Optional[TreeNode], root2: Optional[TreeNode]) -> Optional[TreeNode]:\n",
    "        \"\"\"\n",
    "        :type root1: TreeNode\n",
    "        :type root2: Treenode\n",
    "        :rtype: Treenode\n",
    "        \"\"\"\n",
    "        \n",
    "        if not root1:\n",
    "            return root2\n",
    "        if not root2:\n",
    "            return root1\n",
    "        \n",
    "        root1.val = root1.val + root2.val\n",
    "        root1.left = self.mergeTrees(root1.left, root2.left)\n",
    "        root1.right = self.mergeTrees(root1.right, root2.right)\n",
    "                \n",
    "        return root1\n",
    "    \n",
    "\"\"\"\n",
    "Runtime: 104 ms, faster than 79.67% of Python3 online submissions for Merge Two Binary Trees.\n",
    "Memory Usage: 15.5 MB, less than 79.94% of Python3 online submissions for Merge Two Binary Trees.\n",
    "\"\"\"\n",
    "        \n",
    "        \n",
    "        \n",
    "        "
   ]
  }
 ],
 "metadata": {
  "kernelspec": {
   "display_name": "Python 3 (ipykernel)",
   "language": "python",
   "name": "python3"
  },
  "language_info": {
   "codemirror_mode": {
    "name": "ipython",
    "version": 3
   },
   "file_extension": ".py",
   "mimetype": "text/x-python",
   "name": "python",
   "nbconvert_exporter": "python",
   "pygments_lexer": "ipython3",
   "version": "3.9.12"
  }
 },
 "nbformat": 4,
 "nbformat_minor": 5
}
