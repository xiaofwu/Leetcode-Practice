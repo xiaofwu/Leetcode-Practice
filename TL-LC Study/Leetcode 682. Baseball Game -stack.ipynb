{
 "cells": [
  {
   "cell_type": "code",
   "execution_count": 2,
   "id": "b3384d6c",
   "metadata": {},
   "outputs": [],
   "source": [
    "\"\"\"\n",
    "682. Baseball Game\n",
    "You are keeping score for a baseball game with strange rules. The game consists of several rounds, where the \n",
    "scores of past rounds may affect future rounds' scores.\n",
    "\n",
    "At the beginning of the game, you start with an empty record. You are given a list of strings ops, where ops[i] \n",
    "is the ith operation you must apply to the record and is one of the following:\n",
    "\n",
    "An integer x - Record a new score of x.\n",
    "\"+\" - Record a new score that is the sum of the previous two scores. It is guaranteed there will always be two \n",
    "    previous scores.\n",
    "\"D\" - Record a new score that is double the previous score. It is guaranteed there will always be a previous score.\n",
    "\"C\" - Invalidate the previous score, removing it from the record. It is guaranteed there will always be a previous score.\n",
    "\n",
    "Return the sum of all the scores on the record. The test cases are generated so that the answer fits in a 32-bit integer.\n",
    "Input: ops = [\"5\",\"2\",\"C\",\"D\",\"+\"]                    Output: 30\n",
    "Input: ops = [\"5\",\"-2\",\"4\",\"C\",\"D\",\"9\",\"+\",\"+\"]       Output: 27\n",
    "\n",
    "Note: need to convert \"5\" to 5, i.e. string to int using int(str) method\n",
    "\"\"\"\n",
    "\n",
    "class Solution:\n",
    "    def calPoints(self, ops):\n",
    "        \"\"\"\n",
    "        :types ops: List[str]\n",
    "        :rtype: int\n",
    "        \"\"\"\n",
    "        stack = []\n",
    "        if not ops:\n",
    "            return 0\n",
    "        \n",
    "        for i in ops:\n",
    "            if i == \"+\":\n",
    "                stack.append(int(stack[-1]) + int(stack[-2]))\n",
    "            elif i == \"D\":\n",
    "                stack.append(int(stack[-1]) * 2)\n",
    "            elif i == \"C\":\n",
    "                stack.pop()\n",
    "            else:\n",
    "                stack.append(int(i))\n",
    "        return sum(stack)\n",
    "\"\"\"\n",
    "Runtime: 68 ms, faster than 46.02% of Python3 online submissions for Baseball Game.\n",
    "Memory Usage: 14.1 MB, less than 31.83% of Python3 online submissions for Baseball Game.\n",
    "\"\"\"            \n",
    "            "
   ]
  },
  {
   "cell_type": "code",
   "execution_count": 5,
   "id": "774ed13b",
   "metadata": {},
   "outputs": [
    {
     "name": "stdout",
     "output_type": "stream",
     "text": [
      "[5, -2, -4, 9, 5, 14]\n"
     ]
    },
    {
     "data": {
      "text/plain": [
       "27"
      ]
     },
     "execution_count": 5,
     "metadata": {},
     "output_type": "execute_result"
    }
   ],
   "source": [
    "obj = Solution()\n",
    "obj.calPoints([\"5\",\"-2\",\"4\",\"C\",\"D\",\"9\",\"+\",\"+\"])"
   ]
  },
  {
   "cell_type": "code",
   "execution_count": null,
   "id": "d8b49c57",
   "metadata": {},
   "outputs": [],
   "source": []
  }
 ],
 "metadata": {
  "kernelspec": {
   "display_name": "Python 3 (ipykernel)",
   "language": "python",
   "name": "python3"
  },
  "language_info": {
   "codemirror_mode": {
    "name": "ipython",
    "version": 3
   },
   "file_extension": ".py",
   "mimetype": "text/x-python",
   "name": "python",
   "nbconvert_exporter": "python",
   "pygments_lexer": "ipython3",
   "version": "3.9.12"
  }
 },
 "nbformat": 4,
 "nbformat_minor": 5
}
