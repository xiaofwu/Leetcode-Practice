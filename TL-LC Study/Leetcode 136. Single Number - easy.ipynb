{
 "cells": [
  {
   "cell_type": "code",
   "execution_count": null,
   "id": "e5107685",
   "metadata": {},
   "outputs": [],
   "source": [
    "\"\"\"\n",
    "# 136. Single Number\n",
    "Given a non-empty array of integers nums, every element appears twice except for one. Find that single one.\n",
    "You must implement a solution with a linear runtime complexity and use only constant extra space.\n",
    "Input: nums = [4,1,2,1,2]               Output: 4\n",
    "Input: nums = [1]                       Output: 1\n",
    "\"\"\"\n",
    "class Solution:\n",
    "    def singleNumber(self, nums: List[int]) -> int:\n",
    "        \"\"\"\n",
    "        :type nums: List[int]\n",
    "        :rtype: int\n",
    "        \"\"\"\n",
    "        # count element occurance. it is a typical dict building question\n",
    "        if not nums: return 0\n",
    "        # build a dictionary to count the occurance of element in nums\n",
    "        hashmap = {}\n",
    "        for i in nums:\n",
    "            hashmap[i] = hashmap.get(i, 0) + 1\n",
    "        for key in hashmap:\n",
    "            if hashmap[key] == 1:\n",
    "                return key\n",
    "\n",
    "\"\"\"\n",
    "Time: O(n) for iterating over the nums array\n",
    "Space: O(n) for hashing\n",
    "\"\"\""
   ]
  },
  {
   "cell_type": "code",
   "execution_count": null,
   "id": "eaea40c6",
   "metadata": {},
   "outputs": [],
   "source": [
    "\"\"\"\n",
    "It is hard to grasp the intuition behind solution #4, bear in mind that XOR operation is commutative and \n",
    "associative, meaning that when we xor all element in the nums list, we can rearrange them so that two identical \n",
    "element sitting next to each other and xor ing them result in 0.\n",
    "\n",
    "Example:\n",
    "1 xor 2 xor 3 xor 1 xor 2 xor 3 xor 4 = (1 xor 1) xor (2 xor 2) xor (3 xor 3) xor 4 (commutative & associative)\n",
    "= 0 xor 0 xor 0 xor 4\n",
    "= 4\n",
    "\n",
    "\"\"\"\n",
    "\n",
    "class Solution:\n",
    "    def singleNumber(self, nums: List[int]) -> int:\n",
    "        xor = 0\n",
    "        for num in nums:\n",
    "            xor ^= num\n",
    "        \n",
    "        return xor\n",
    "\n",
    "\"\"\"\n",
    "Time: O(n)\n",
    "Space: O(1)\n",
    "\"\"\""
   ]
  }
 ],
 "metadata": {
  "kernelspec": {
   "display_name": "Python 3 (ipykernel)",
   "language": "python",
   "name": "python3"
  },
  "language_info": {
   "codemirror_mode": {
    "name": "ipython",
    "version": 3
   },
   "file_extension": ".py",
   "mimetype": "text/x-python",
   "name": "python",
   "nbconvert_exporter": "python",
   "pygments_lexer": "ipython3",
   "version": "3.9.12"
  }
 },
 "nbformat": 4,
 "nbformat_minor": 5
}
