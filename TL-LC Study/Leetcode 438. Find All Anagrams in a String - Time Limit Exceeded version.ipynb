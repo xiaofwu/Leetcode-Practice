{
 "cells": [
  {
   "cell_type": "code",
   "execution_count": null,
   "id": "911eb6f6",
   "metadata": {},
   "outputs": [],
   "source": [
    "\"\"\"\n",
    "438. Find All Anagrams in a String\n",
    "Given two strings s and p, return an array of all the start indices of p's anagrams in s. \n",
    "You may return the answer in any order. An Anagram is a word or phrase formed by rearranging \n",
    "the letters of a different word or phrase, typically using all the original letters exactly \n",
    "once.\n",
    "Input: s = \"cbaebabacd\", p = \"abc\"          Output: [0,6]\n",
    "Input: s = \"abab\", p = \"ab\"                 Output: [0,1,2]\n",
    "\n",
    "2 pointers --- sliding windows\n",
    "\"\"\"\n",
    "\n",
    "class Solution:\n",
    "    def findAnagrams(self, s: str, p: str) -> List[int]:\n",
    "        \"\"\"\n",
    "        :type s: str\n",
    "        :type p: str\n",
    "        :rtype: List[int]\n",
    "        \"\"\"\n",
    "        rList = []\n",
    "        \n",
    "        from collections import Counter\n",
    "        window = Counter(p)\n",
    "        \n",
    "        for i in range(len(s)-len(p) + 1):\n",
    "            if window == Counter(s[i:(i +len(p))]):\n",
    "                rList.append(i)\n",
    "        return rList\n",
    "    \n",
    " \"\"\"\n",
    " Time Limit Exceeded\n",
    " \"\"\"       \n",
    "        "
   ]
  }
 ],
 "metadata": {
  "kernelspec": {
   "display_name": "Python 3 (ipykernel)",
   "language": "python",
   "name": "python3"
  },
  "language_info": {
   "codemirror_mode": {
    "name": "ipython",
    "version": 3
   },
   "file_extension": ".py",
   "mimetype": "text/x-python",
   "name": "python",
   "nbconvert_exporter": "python",
   "pygments_lexer": "ipython3",
   "version": "3.9.12"
  }
 },
 "nbformat": 4,
 "nbformat_minor": 5
}
