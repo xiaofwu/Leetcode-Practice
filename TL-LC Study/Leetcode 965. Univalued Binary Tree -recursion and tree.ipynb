{
 "cells": [
  {
   "cell_type": "code",
   "execution_count": null,
   "id": "5447d86c",
   "metadata": {},
   "outputs": [],
   "source": [
    "\"\"\"\n",
    "965. Univalued Binary Tree\n",
    "A binary tree is uni-valued if every node in the tree has the same value.\n",
    "Given the root of a binary tree, return true if the given tree is uni-valued, or false otherwise.\n",
    "\n",
    "Input: root = [1,1,1,1,1,null,1]          Output: true\n",
    "Input: root = [2,2,2,5,2]                 Output: false\n",
    "\"\"\"\n",
    "\n",
    "# Definition for a binary tree node.\n",
    "# class TreeNode:\n",
    "#     def __init__(self, val=0, left=None, right=None):\n",
    "#         self.val = val\n",
    "#         self.left = left\n",
    "#         self.right = right\n",
    "class Solution:\n",
    "    def isUnivalTree(self, root: Optional[TreeNode]) -> bool:\n",
    "        \"\"\"\n",
    "        :type root: TreeNode\n",
    "        :rtype: bool\n",
    "        \"\"\"\n",
    "        \n",
    "        if not root:\n",
    "            return True\n",
    "\n",
    "        if root.left and root.val != root.left.val:\n",
    "            return False     \n",
    "        if root.right and root.val != root.right.val:\n",
    "            return False  \n",
    "        \n",
    "        \n",
    "        return self.isUnivalTree(root.left) and self.isUnivalTree(root.right)\n"
   ]
  }
 ],
 "metadata": {
  "kernelspec": {
   "display_name": "Python 3 (ipykernel)",
   "language": "python",
   "name": "python3"
  },
  "language_info": {
   "codemirror_mode": {
    "name": "ipython",
    "version": 3
   },
   "file_extension": ".py",
   "mimetype": "text/x-python",
   "name": "python",
   "nbconvert_exporter": "python",
   "pygments_lexer": "ipython3",
   "version": "3.9.12"
  }
 },
 "nbformat": 4,
 "nbformat_minor": 5
}
