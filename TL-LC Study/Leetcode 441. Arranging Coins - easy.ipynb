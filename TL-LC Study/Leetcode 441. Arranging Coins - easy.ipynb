{
 "cells": [
  {
   "cell_type": "code",
   "execution_count": null,
   "id": "2c03d2f2",
   "metadata": {},
   "outputs": [],
   "source": [
    "\"\"\"\n",
    "441. Arranging Coins\n",
    "You have n coins and you want to build a staircase with these coins. The staircase consists of k rows \n",
    "where the ith row has exactly i coins. The last row of the staircase may be incomplete.\n",
    "Given the integer n, return the number of complete rows of the staircase you will build.\n",
    "\n",
    "Input: n = 5              Output: 2\n",
    "Input: n = 8              Output: 3\n",
    "\n",
    "Idea: we can convert this question into a BS problem. if we have m rows of stairs, then the total stairs we have is \n",
    "m*(m+1) / 2. so given n coins, we need to locate largest m, where m*(m+1)/2 <=n\n",
    "\n",
    "\"\"\"\n",
    "\n",
    "class Solution:\n",
    "    def arrangeCoins(self, n: int) -> int:\n",
    "        \"\"\"\n",
    "        :type n: int\n",
    "        :rtype: int\n",
    "        \"\"\"\n",
    "        \n",
    "        #build a binary search module\n",
    "        left = 0\n",
    "        right = n\n",
    "        \n",
    "        while left <= right:\n",
    "            mid = left + (right - left) // 2\n",
    "            if mid * (mid + 1) / 2 == n:\n",
    "                return mid\n",
    "            elif mid * (mid + 1) / 2 < n:\n",
    "                left = mid + 1\n",
    "            else:\n",
    "                right = mid -1\n",
    "        return left - 1\n",
    "    \n",
    "\"\"\"\n",
    "Runtime: 42 ms, faster than 89.93% of Python3 online submissions for Arranging Coins.\n",
    "Memory Usage: 13.8 MB, less than 57.67% of Python3 online submissions for Arranging Coins.\n",
    "\"\"\"\n",
    "            \n",
    "            "
   ]
  },
  {
   "cell_type": "code",
   "execution_count": null,
   "id": "0882245d",
   "metadata": {},
   "outputs": [],
   "source": [
    "# 2022 09 18\n",
    "class Solution:\n",
    "    def arrangeCoins(self, n: int) -> int:\n",
    "        \"\"\"\n",
    "        :type n: int\n",
    "        :rtype: int\n",
    "        \"\"\"\n",
    "        if n < 2: return n\n",
    "        # use BS to find a m for m(m+1)/2 <= n\n",
    "        L, R = 1, n\n",
    "        while L <= R:\n",
    "            mid = L + (R - L) // 2\n",
    "            if mid * (mid + 1) // 2 == n:\n",
    "                return mid\n",
    "            elif mid * (mid + 1) // 2 < n:\n",
    "                L = mid + 1\n",
    "            else:\n",
    "                R = mid - 1\n",
    "        return L - 1"
   ]
  }
 ],
 "metadata": {
  "kernelspec": {
   "display_name": "Python 3 (ipykernel)",
   "language": "python",
   "name": "python3"
  },
  "language_info": {
   "codemirror_mode": {
    "name": "ipython",
    "version": 3
   },
   "file_extension": ".py",
   "mimetype": "text/x-python",
   "name": "python",
   "nbconvert_exporter": "python",
   "pygments_lexer": "ipython3",
   "version": "3.9.12"
  }
 },
 "nbformat": 4,
 "nbformat_minor": 5
}
