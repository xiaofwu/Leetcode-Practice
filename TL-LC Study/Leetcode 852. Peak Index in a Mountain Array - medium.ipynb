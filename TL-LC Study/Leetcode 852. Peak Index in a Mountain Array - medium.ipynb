{
 "cells": [
  {
   "cell_type": "code",
   "execution_count": null,
   "id": "a7f68065",
   "metadata": {},
   "outputs": [],
   "source": [
    "\"\"\"\n",
    "852. Peak Index in a Mountain Array\n",
    "An array arr a mountain if the following properties hold:\n",
    "\n",
    "arr.length >= 3\n",
    "There exists some i with 0 < i < arr.length - 1 such that:\n",
    "arr[0] < arr[1] < ... < arr[i - 1] < arr[i]\n",
    "arr[i] > arr[i + 1] > ... > arr[arr.length - 1]\n",
    "Given a mountain array arr, return the index i such that arr[0] < arr[1] < ... < arr[i - 1] < arr[i] > arr[i + 1] > ... > arr[arr.length - 1].\n",
    "\n",
    "You must solve it in O(log(arr.length)) time complexity.\n",
    "Input: arr = [0,2,1,0]                     Output: 1\n",
    "Input: arr = [0,10,5,2]                    Output: 1\n",
    "\n",
    "this is a special case you can use BS even though the array is not sorted in one direction. But the input array has \n",
    "such special character that you can clearly define the direction of the next search based on the comparison of mid \n",
    "value with its two neighbors. So it suits well for a BS algorithm\n",
    "\"\"\"\n",
    "\n",
    "class Solution:\n",
    "    def peakIndexInMountainArray(self, arr: List[int]) -> int:\n",
    "        \"\"\"\n",
    "        :type arr: List[int]\n",
    "        :rtype: int\n",
    "        \"\"\"\n",
    "        \n",
    "        #build a binary search \n",
    "        left = 0\n",
    "        right = len(arr) -1\n",
    "        \n",
    "        while left <= right:\n",
    "            mid = left + (right - left) // 2\n",
    "            if arr[mid - 1] < arr[mid] > arr[mid + 1]:\n",
    "                return mid\n",
    "                break\n",
    "            elif arr[mid - 1] < arr[mid] < arr[mid + 1]:\n",
    "                left = mid + 1\n",
    "            elif arr[mid - 1] > arr[mid] > arr[mid + 1]:\n",
    "                right = mid - 1\n",
    "            elif arr[mid] < arr[mid + 1] and mid == 0:\n",
    "                return 1\n",
    "                break\n",
    "                \n",
    "     \n",
    "                "
   ]
  },
  {
   "cell_type": "code",
   "execution_count": null,
   "id": "e68eb615",
   "metadata": {},
   "outputs": [],
   "source": [
    "# 2022 09 18 \n",
    "class Solution:\n",
    "    def peakIndexInMountainArray(self, arr: List[int]) -> int:\n",
    "        \"\"\"\n",
    "        :type arr: List[int]\n",
    "        :rtype: int\n",
    "        \"\"\"\n",
    "        # we can use either return either mid or left as pointer for peak position\n",
    "        # for this question, use L is easier to understand\n",
    "        L, R = 0, len(arr) -1\n",
    "        while L <= R:\n",
    "            mid = L + (R - L) // 2\n",
    "            if arr[mid] < arr[mid + 1]:\n",
    "                L = mid + 1\n",
    "            else:\n",
    "                R = mid - 1\n",
    "        return L"
   ]
  }
 ],
 "metadata": {
  "kernelspec": {
   "display_name": "Python 3 (ipykernel)",
   "language": "python",
   "name": "python3"
  },
  "language_info": {
   "codemirror_mode": {
    "name": "ipython",
    "version": 3
   },
   "file_extension": ".py",
   "mimetype": "text/x-python",
   "name": "python",
   "nbconvert_exporter": "python",
   "pygments_lexer": "ipython3",
   "version": "3.9.12"
  }
 },
 "nbformat": 4,
 "nbformat_minor": 5
}
