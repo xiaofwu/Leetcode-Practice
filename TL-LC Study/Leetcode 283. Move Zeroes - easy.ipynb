{
 "cells": [
  {
   "cell_type": "code",
   "execution_count": null,
   "id": "c3504f13",
   "metadata": {},
   "outputs": [],
   "source": [
    "\"\"\"\n",
    "283. Move Zeroes\n",
    "Given an integer array nums, move all 0's to the end of it while maintaining the relative \n",
    "order of the non-zero \n",
    "elements. Note that you must do this in-place without making a copy of the array.\n",
    "\n",
    "Input: nums = [0,1,0,3,12]              Output: [1,3,12,0,0]\n",
    "Input: nums = [0]                       Output: [0]\n",
    "\n",
    "\"\"\"\n",
    "\n",
    "\n",
    "class Solution:\n",
    "    def moveZeroes(self, nums: List[int]) -> None:\n",
    "        \"\"\"\n",
    "        :type nums: List[int]\n",
    "        :rtype: None\n",
    "        \"\"\"\n",
    "        \n",
    "        if not nums:\n",
    "            return []\n",
    "        \n",
    "        current = 0\n",
    "        for i in range(len(nums)): #i in for loop was used as the moving pointer\n",
    "            if nums[i] != 0:\n",
    "                nums[current], nums[i] = nums[i], nums[current]\n",
    "                current += 1\n",
    "            else:\n",
    "                continue\n",
    "        return nums\n",
    "        \n",
    "\"\"\"\n",
    "Runtime: 169 ms, faster than 95.82% of Python3 online submissions for Move Zeroes.\n",
    "Memory Usage: 15.5 MB, less than 96.97% of Python3 online submissions for Move Zeroes.\n",
    "\"\"\""
   ]
  },
  {
   "cell_type": "code",
   "execution_count": null,
   "id": "d9a6d00f",
   "metadata": {},
   "outputs": [],
   "source": [
    "# 2022-09-28\n",
    "# Input: nums = [0,1,0,3,12]            Output: [1,3,12,0,0]\n",
    "class Solution:\n",
    "    def moveZeroes(self, nums: List[int]) -> None:\n",
    "        \"\"\"\n",
    "        :type nums: List[int]\n",
    "        :rtype: None\n",
    "        \"\"\"\n",
    "        if not nums: return []\n",
    "        \n",
    "        # we initiate two pointers\n",
    "        # if moving pointer points to non-0, swap, then move the current pointer\n",
    "        \n",
    "        slow = 0\n",
    "        for i in range(len(nums)):\n",
    "            if nums[i] != 0:\n",
    "                nums[slow], nums[i] = nums[i], nums[slow]\n",
    "                slow += 1\n",
    "        return nums\n",
    "\"\"\"\n",
    "Time: O(n)\n",
    "Space: O(1)\n",
    "\"\"\""
   ]
  }
 ],
 "metadata": {
  "kernelspec": {
   "display_name": "Python 3 (ipykernel)",
   "language": "python",
   "name": "python3"
  },
  "language_info": {
   "codemirror_mode": {
    "name": "ipython",
    "version": 3
   },
   "file_extension": ".py",
   "mimetype": "text/x-python",
   "name": "python",
   "nbconvert_exporter": "python",
   "pygments_lexer": "ipython3",
   "version": "3.9.12"
  }
 },
 "nbformat": 4,
 "nbformat_minor": 5
}
