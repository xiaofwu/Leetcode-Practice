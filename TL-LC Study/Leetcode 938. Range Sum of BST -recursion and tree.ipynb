{
 "cells": [
  {
   "cell_type": "code",
   "execution_count": null,
   "id": "b340464a",
   "metadata": {},
   "outputs": [],
   "source": [
    "\"\"\"\n",
    "938. Range Sum of BST\n",
    "Given the root node of a binary search tree and two integers low and high, return the sum of values of all nodes \n",
    "with a value in the inclusive range [low, high].\n",
    "\n",
    "Input: root = [10,5,15,3,7,null,18], low = 7, high = 15      Output: 32\n",
    "\n",
    "rangeSumBST(root, low, high)\n",
    "\n",
    "\"\"\"\n",
    "\n",
    "# Definition for a binary tree node.\n",
    "# class TreeNode:\n",
    "#     def __init__(self, val=0, left=None, right=None):\n",
    "#         self.val = val\n",
    "#         self.left = left\n",
    "#         self.right = right\n",
    "class Solution:\n",
    "    def rangeSumBST(self, root: Optional[TreeNode], low: int, high: int) -> int:\n",
    "        \"\"\"\n",
    "        :type root: TreeNode\n",
    "        :type low: int\n",
    "        :type high: int\n",
    "        :rtype: int\n",
    "        \"\"\"\n",
    "        \n",
    "        sum = 0\n",
    "        if not root:\n",
    "            return 0       \n",
    "        \n",
    "        if low <= root.val <= high:\n",
    "            sum = sum + root.val\n",
    "        if root.val >= low:\n",
    "            sum = sum + self.rangeSumBST(root.left, low, high)\n",
    "        if root.val <= high:\n",
    "            sum = sum + self.rangeSumBST(root.right, low, high)\n",
    "            \n",
    "        return sum\n",
    "    \n",
    "\"\"\"\n",
    "Runtime: 374 ms, faster than 42.56% of Python3 online submissions for Range Sum of BST.\n",
    "Memory Usage: 22.9 MB, less than 91.87% of Python3 online submissions for Range Sum of BST.\n",
    "\"\"\""
   ]
  }
 ],
 "metadata": {
  "kernelspec": {
   "display_name": "Python 3 (ipykernel)",
   "language": "python",
   "name": "python3"
  },
  "language_info": {
   "codemirror_mode": {
    "name": "ipython",
    "version": 3
   },
   "file_extension": ".py",
   "mimetype": "text/x-python",
   "name": "python",
   "nbconvert_exporter": "python",
   "pygments_lexer": "ipython3",
   "version": "3.9.12"
  }
 },
 "nbformat": 4,
 "nbformat_minor": 5
}
