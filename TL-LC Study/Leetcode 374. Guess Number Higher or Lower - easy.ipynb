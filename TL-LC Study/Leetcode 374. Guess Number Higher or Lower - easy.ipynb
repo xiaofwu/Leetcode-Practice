{
 "cells": [
  {
   "cell_type": "code",
   "execution_count": 1,
   "id": "4b0fc97e",
   "metadata": {},
   "outputs": [],
   "source": [
    "\"\"\"\n",
    "374. Guess Number Higher or Lower\n",
    "We are playing the Guess Game. The game is as follows:\n",
    "I pick a number from 1 to n. You have to guess which number I picked.\n",
    "Every time you guess wrong, I will tell you whether the number I picked is higher or lower than your guess.\n",
    "You call a pre-defined API int guess(int num), which returns three possible results:\n",
    "\n",
    "-1: Your guess is higher than the number I picked (i.e. num > pick).\n",
    "1: Your guess is lower than the number I picked (i.e. num < pick).\n",
    "0: your guess is equal to the number I picked (i.e. num == pick).\n",
    "Return the number that I picked.\n",
    "\n",
    "Input: n = 2, pick = 1          Output: 1\n",
    "Input: n = 10, pick = 6         Output: 6\n",
    "\n",
    "A typical BS problem. challenge is to understand the question!\n",
    "\"\"\"\n",
    "# The guess API is already defined for you.\n",
    "# @param num, your guess\n",
    "# @return -1 if num is higher than the picked number\n",
    "#          1 if num is lower than the picked number\n",
    "#          otherwise return 0\n",
    "# def guess(num: int) -> int:\n",
    "\n",
    "class Solution:\n",
    "    def guessNumber(self, n: int) -> int:\n",
    "        \"\"\"\n",
    "        :type n: int\n",
    "        :rtype: int\n",
    "        \"\"\"\n",
    "        \n",
    "        #build a binary search module\n",
    "        left = 0\n",
    "        right = n\n",
    "        \n",
    "        while left <= right:\n",
    "            mid = left + (right - left) // 2\n",
    "            if guess(mid) == 0:\n",
    "                return mid\n",
    "            elif guess(mid) == 1:\n",
    "                left = mid + 1\n",
    "            else:\n",
    "                right = mid -1\n",
    "                "
   ]
  },
  {
   "cell_type": "code",
   "execution_count": null,
   "id": "60dcfc6b",
   "metadata": {},
   "outputs": [],
   "source": [
    "# 2022 09 18\n",
    "class Solution:\n",
    "    def guessNumber(self, n: int) -> int:\n",
    "        \"\"\"\n",
    "        :type n: int\n",
    "        :rtype: int\n",
    "        \"\"\"\n",
    "        if n < 2: return n\n",
    "        \n",
    "        L, R = 1, n        \n",
    "        while L <= R:\n",
    "            mid = L + (R - L) // 2\n",
    "            if guess(mid) == 0:\n",
    "                return mid\n",
    "            elif guess(mid) == 1:\n",
    "                L = mid + 1\n",
    "            else:\n",
    "                R = mid -1\n",
    "\"\"\"\n",
    "time O(logn)\n",
    "space O(1)\n",
    "\"\"\"   "
   ]
  }
 ],
 "metadata": {
  "kernelspec": {
   "display_name": "Python 3 (ipykernel)",
   "language": "python",
   "name": "python3"
  },
  "language_info": {
   "codemirror_mode": {
    "name": "ipython",
    "version": 3
   },
   "file_extension": ".py",
   "mimetype": "text/x-python",
   "name": "python",
   "nbconvert_exporter": "python",
   "pygments_lexer": "ipython3",
   "version": "3.9.12"
  }
 },
 "nbformat": 4,
 "nbformat_minor": 5
}
