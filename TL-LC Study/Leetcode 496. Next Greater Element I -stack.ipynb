{
 "cells": [
  {
   "cell_type": "code",
   "execution_count": null,
   "id": "2c5e94e8",
   "metadata": {},
   "outputs": [],
   "source": [
    "\"\"\"\n",
    "496. Next Greater Element I\n",
    "The next greater element of some element x in an array is the first greater element that is to the right of \n",
    "x in the same array. You are given two distinct 0-indexed integer arrays nums1 and nums2, where nums1 is a subset \n",
    "of nums2.\n",
    "For each 0 <= i < nums1.length, find the index j such that nums1[i] == nums2[j] and determine the next greater element of nums2[j] in nums2. If there is no next greater element, then the answer for this query is -1.\n",
    "Return an array ans of length nums1.length such that ans[i] is the next greater element as described above.\n",
    "\n",
    "Input: nums1 = [4,1,2], nums2 = [1,3,4,2]                       Output: [-1,3,-1]\n",
    "Input: nums1 = [2,4], nums2 = [1,2,3,4]                         Output: [3,-1]\n",
    "\n",
    "Idea: every int in nums1 ---> check it's index j in nums2 ---> from j to len(nums2)-1, find the first number > i; if \n",
    "not find, return -1\n",
    "*** index() method: Returns the index of the first element with the specified value\n",
    "\"\"\"\n",
    "class Solution:\n",
    "    def nextGreaterElement(self, nums1: List[int], nums2: List[int]) -> List[int]:\n",
    "        \"\"\"\n",
    "        :type nums1 List[int]\n",
    "        :type nums2 List[int]\n",
    "        :rtype: List[int]\n",
    "        \"\"\"\n",
    "        rList = []\n",
    "        \n",
    "        for i in nums1:\n",
    "            j = nums2.index(i)   #find index of i in nums2\n",
    "            \n",
    "            if j == len(nums2) -1:  #check if i is the last element in nums2\n",
    "                rList.append(-1)\n",
    "            elif i > max(nums2[(j+1) : len(nums2)]): #check if there are no greater element to the right\n",
    "                rList.append(-1)\n",
    "            else:\n",
    "                for n in range(j+1, len(nums2)): #report the first greater element, and get out of loop\n",
    "                    if  nums2[n] > i:\n",
    "                        rList.append(nums2[n])\n",
    "                        break                  \n",
    "        return rList\n",
    "            \n",
    "\"\"\"\n",
    "Runtime: 203 ms, faster than 12.59% of Python3 online submissions for Next Greater Element I.\n",
    "Memory Usage: 14.1 MB, less than 57.41% of Python3 online submissions for Next Greater Element I.\n",
    "\"\"\"            "
   ]
  }
 ],
 "metadata": {
  "kernelspec": {
   "display_name": "Python 3 (ipykernel)",
   "language": "python",
   "name": "python3"
  },
  "language_info": {
   "codemirror_mode": {
    "name": "ipython",
    "version": 3
   },
   "file_extension": ".py",
   "mimetype": "text/x-python",
   "name": "python",
   "nbconvert_exporter": "python",
   "pygments_lexer": "ipython3",
   "version": "3.9.12"
  }
 },
 "nbformat": 4,
 "nbformat_minor": 5
}
