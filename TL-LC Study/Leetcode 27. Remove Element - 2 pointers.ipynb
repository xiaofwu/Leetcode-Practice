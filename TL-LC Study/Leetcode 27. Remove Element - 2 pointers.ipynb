{
 "cells": [
  {
   "cell_type": "code",
   "execution_count": null,
   "id": "edd38ddb",
   "metadata": {},
   "outputs": [],
   "source": [
    "\"\"\"\n",
    "27. Remove Element\n",
    "Given an integer array nums and an integer val, remove all occurrences of val in nums in-place. The relative order \n",
    "of the elements may be changed. Since it is impossible to change the length of the array in some languages, \n",
    "you must instead have the result be placed in the first part of the array nums. More formally, if there are k \n",
    "elements after removing the duplicates, then the first k elements of nums should hold the final result. It does \n",
    "not matter what you leave beyond the first k elements.\n",
    "\n",
    "Return k after placing the final result in the first k slots of nums.\n",
    "\n",
    "Do not allocate extra space for another array. You must do this by modifying the input array in-place with O(1) \n",
    "extra memory.\n",
    "\n",
    "Input: nums = [3,2,2,3], val = 3                 Output: 2, nums = [2,2,_,_]\n",
    "Input: nums = [0,1,2,2,3,0,4,2], val = 2         Output: 5, nums = [0,1,4,0,3,_,_,_]\n",
    "\n",
    "this is a typical 2 pointer problem. if sliding pointer points to a value not qual to val, we need to swap the \n",
    "value with current pointer, and then move the current pointer forward by 1\n",
    "\"\"\"\n",
    "\n",
    "class Solution:\n",
    "    def removeElement(self, nums: List[int], val: int) -> int:\n",
    "        \"\"\"\n",
    "        :type nums: List[int]\n",
    "        :type val: int\n",
    "        :rtype: int\n",
    "        \"\"\"\n",
    "        \n",
    "        if not nums:\n",
    "            return 0\n",
    "        \n",
    "        current = 0\n",
    "        for i in range(len(nums)):\n",
    "            if nums[i] != val:\n",
    "                nums[current] = nums[i]\n",
    "                current += 1\n",
    "        return current\n",
    "    \n",
    "\"\"\"\n",
    "Runtime: 39 ms, faster than 84.76% of Python3 online submissions for Remove Element.\n",
    "Memory Usage: 13.9 MB, less than 14.30% of Python3 online submissions for Remove Element.\n",
    "\"\"\"\n",
    "            \n",
    "            \n",
    "            \n",
    "        "
   ]
  }
 ],
 "metadata": {
  "kernelspec": {
   "display_name": "Python 3 (ipykernel)",
   "language": "python",
   "name": "python3"
  },
  "language_info": {
   "codemirror_mode": {
    "name": "ipython",
    "version": 3
   },
   "file_extension": ".py",
   "mimetype": "text/x-python",
   "name": "python",
   "nbconvert_exporter": "python",
   "pygments_lexer": "ipython3",
   "version": "3.9.12"
  }
 },
 "nbformat": 4,
 "nbformat_minor": 5
}
