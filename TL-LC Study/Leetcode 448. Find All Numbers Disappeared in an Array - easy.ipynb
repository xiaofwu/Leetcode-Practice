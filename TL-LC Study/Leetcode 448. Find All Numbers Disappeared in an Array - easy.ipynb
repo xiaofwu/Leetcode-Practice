{
 "cells": [
  {
   "cell_type": "code",
   "execution_count": null,
   "id": "b0263528",
   "metadata": {},
   "outputs": [],
   "source": [
    "\"\"\"\n",
    "448. Find All Numbers Disappeared in an Array\n",
    "Given an array nums of n integers where nums[i] is in the range [1, n], return an array of \n",
    "all the integers \n",
    "in the range [1, n] that do not appear in nums.\n",
    "Input: nums = [4,3,2,7,8,2,3,1]                 Output: [5,6]\n",
    "Input: nums = [1,1]                             Output: [2]\n",
    "\"\"\"\n",
    "class Solution:\n",
    "    def findDisappearedNumbers(self, nums: List[int]) -> List[int]:\n",
    "        \"\"\"\n",
    "        :type nums: List[int]\n",
    "        :rtype List[int]\n",
    "        \"\"\"\n",
    "        if not nums: return []\n",
    "        # there are several ways to solve this problem\n",
    "        # intuitively, we want to build a dictionary from nums. \n",
    "        # loop through 1 to n and find numers missing in the dictionary\n",
    "        hashmap = {v:i for i, v in enumerate(nums)}\n",
    "        return [i for i in range(1, len(nums) + 1) if i not in hashmap]\n",
    "\"\"\"\n",
    "time O(n)\n",
    "space O(n)\n",
    "\"\"\"        \n",
    "\n",
    "\n",
    "class Solution:\n",
    "    def findDisappearedNumbers(self, nums: List[int]) -> List[int]:\n",
    "        \"\"\"\n",
    "        :type nums: List[int]\n",
    "        :rtype List[int]\n",
    "        \"\"\"\n",
    "        # we actually don't even need a dictionary since we don't care duplicate numbers\n",
    "        # in the lsit. So we can actually loop n number in a set from nums1\n",
    "        if not nums: return []\n",
    "        mySet = set(nums)\n",
    "        return [i for i in range(1, len(nums) + 1) if i not in mySet]\n",
    "\"\"\"\n",
    "time O(n)\n",
    "space O(n)\n",
    "\"\"\"  \n",
    "# for O(1) space. same like 442\n",
    "class Solution:\n",
    "    def findDisappearedNumbers(self, nums: List[int]) -> List[int]:\n",
    "        \"\"\"\n",
    "        :type nums: List[int]\n",
    "        :rtype List[int]\n",
    "        \"\"\"\n",
    "        if not nums: return []\n",
    "        \n",
    "        for num in nums:\n",
    "            index = abs(num) - 1\n",
    "            nums[index] = abs(nums[index])* -1\n",
    "            \n",
    "        return [i + 1 for i, v in enumerate(nums) if v > 0]"
   ]
  },
  {
   "cell_type": "code",
   "execution_count": null,
   "id": "181ff487",
   "metadata": {},
   "outputs": [],
   "source": []
  }
 ],
 "metadata": {
  "kernelspec": {
   "display_name": "Python 3 (ipykernel)",
   "language": "python",
   "name": "python3"
  },
  "language_info": {
   "codemirror_mode": {
    "name": "ipython",
    "version": 3
   },
   "file_extension": ".py",
   "mimetype": "text/x-python",
   "name": "python",
   "nbconvert_exporter": "python",
   "pygments_lexer": "ipython3",
   "version": "3.9.12"
  }
 },
 "nbformat": 4,
 "nbformat_minor": 5
}
