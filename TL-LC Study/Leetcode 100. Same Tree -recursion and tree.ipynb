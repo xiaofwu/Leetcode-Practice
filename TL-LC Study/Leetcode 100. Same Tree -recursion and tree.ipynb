{
 "cells": [
  {
   "cell_type": "code",
   "execution_count": null,
   "id": "f672f31c",
   "metadata": {},
   "outputs": [],
   "source": [
    "\"\"\"\n",
    "100. Same Tree\n",
    "Given the roots of two binary trees p and q, write a function to check if they are the same or not.\n",
    "Two binary trees are considered the same if they are structurally identical, and the nodes have the same value.\n",
    "\n",
    "Input: p = [1,2,3], q = [1,2,3]             Output: true\n",
    "Input: p = [1,2], q = [1,null,2]            Output: false\n",
    "\"\"\"\n",
    "\n",
    "# Definition for a binary tree node.\n",
    "# class TreeNode:\n",
    "#     def __init__(self, val=0, left=None, right=None):\n",
    "#         self.val = val\n",
    "#         self.left = left\n",
    "#         self.right = right\n",
    "class Solution:\n",
    "    def isSameTree(self, p: Optional[TreeNode], q: Optional[TreeNode]) -> bool:\n",
    "        \"\"\"\n",
    "        :type p: TreeNode\n",
    "        :type q: TreeNode\n",
    "        :rtype: bool\n",
    "        \"\"\"\n",
    "        \n",
    "        if not p and not q:\n",
    "            return True\n",
    "        if not p and q:\n",
    "            return False\n",
    "        if p and not q:\n",
    "            return False\n",
    "        if p.val != q.val:\n",
    "            return False\n",
    "    \n",
    "        return self.isSameTree(p.left, q.left) and self.isSameTree(p.right, q.right)\n",
    "    \n",
    "\"\"\"\n",
    "Runtime: 37 ms, faster than 81.75% of Python3 online submissions for Same Tree.\n",
    "Memory Usage: 13.9 MB, less than 76.30% of Python3 online submissions for Same Tree.\n",
    "\"\"\"\n"
   ]
  }
 ],
 "metadata": {
  "kernelspec": {
   "display_name": "Python 3 (ipykernel)",
   "language": "python",
   "name": "python3"
  },
  "language_info": {
   "codemirror_mode": {
    "name": "ipython",
    "version": 3
   },
   "file_extension": ".py",
   "mimetype": "text/x-python",
   "name": "python",
   "nbconvert_exporter": "python",
   "pygments_lexer": "ipython3",
   "version": "3.9.12"
  }
 },
 "nbformat": 4,
 "nbformat_minor": 5
}
