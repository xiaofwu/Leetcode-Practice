{
 "cells": [
  {
   "cell_type": "code",
   "execution_count": null,
   "id": "ecb16008",
   "metadata": {},
   "outputs": [],
   "source": [
    "\"\"\"\n",
    "26. Remove Duplicates from Sorted Array\n",
    "Given an integer array nums sorted in non-decreasing order, remove the duplicates in-place such that each \n",
    "unique element appears only once. The relative order of the elements should be kept the same.\n",
    "Since it is impossible to change the length of the array in some languages, you must instead have the result be \n",
    "placed in the first part of the array nums. More formally, if there are k elements after removing the duplicates, \n",
    "then the first k elements of nums should hold the final result. It does not matter what you leave beyond the first \n",
    "k elements.\n",
    "Return k after placing the final result in the first k slots of nums.\n",
    "Do not allocate extra space for another array. You must do this by modifying the input array in-place with O(1) \n",
    "extra memory.\n",
    "\n",
    "Input: nums = [0,0,1,1,1,2,2,3,3,4]\n",
    "Output: 5, nums = [0,1,2,3,4,_,_,_,_,_]\n",
    "----------------------------------------------------------------\n",
    "This is the problem we solved beofre when we learned 2 pointers. This is one of the best examples for how to \n",
    "use 2 pointers to OPERATE IN-PLACE!!!\n",
    "\n",
    "1) current pointer point to nums[0]\n",
    "2) use a for loop to serve as moving pointer\n",
    "3) everytime moving pointer finds a value !=  current pointer's value, then we move current pointer +1, then swap\n",
    "    value with moving pointer to make sure we move in a unique value. \n",
    "4) we finish the process if moving pointer moves to the end of the list\n",
    "\n",
    "\"\"\""
   ]
  },
  {
   "cell_type": "code",
   "execution_count": null,
   "id": "38479a24",
   "metadata": {},
   "outputs": [],
   "source": [
    "class Solution:\n",
    "    def removeDuplicates(self, nums: List[int]) -> int:\n",
    "        \"\"\"\n",
    "        :type nums: List[int]\n",
    "        :rtype: int\n",
    "        \"\"\"\n",
    "        if not nums:\n",
    "            return []\n",
    "        \n",
    "        current = 0\n",
    "        \n",
    "        for i in range(len(nums)):\n",
    "            # condition check, move current pointer first, and then swap the value\n",
    "            if nums[i] != nums[current]:\n",
    "                current += 1\n",
    "                nums[current], nums[i] = nums[i], nums[current]\n",
    "                \n",
    "        return current + 1\n",
    "\"\"\"\n",
    "O(N) Run Time\n",
    "O(1) Space\n",
    "\n",
    "Runtime: 102 ms, faster than 84.59% of Python3 online submissions for Remove Duplicates from Sorted Array.\n",
    "Memory Usage: 15.6 MB, less than 63.03% of Python3 online submissions for Remove Duplicates from Sorted Array.\n",
    "\n",
    "\"\"\"\n",
    "        "
   ]
  }
 ],
 "metadata": {
  "kernelspec": {
   "display_name": "Python 3 (ipykernel)",
   "language": "python",
   "name": "python3"
  },
  "language_info": {
   "codemirror_mode": {
    "name": "ipython",
    "version": 3
   },
   "file_extension": ".py",
   "mimetype": "text/x-python",
   "name": "python",
   "nbconvert_exporter": "python",
   "pygments_lexer": "ipython3",
   "version": "3.9.12"
  }
 },
 "nbformat": 4,
 "nbformat_minor": 5
}
