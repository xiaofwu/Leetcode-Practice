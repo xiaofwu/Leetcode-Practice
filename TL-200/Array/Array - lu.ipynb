{
 "cells": [
  {
   "cell_type": "markdown",
   "id": "ea99af45",
   "metadata": {},
   "source": [
    "Array"
   ]
  },
  {
   "cell_type": "code",
   "execution_count": null,
   "id": "19aa7adc",
   "metadata": {},
   "outputs": [],
   "source": []
  },
  {
   "cell_type": "markdown",
   "id": "d3fdaad1",
   "metadata": {},
   "source": [
    "1. 1. two sum "
   ]
  },
  {
   "cell_type": "code",
   "execution_count": null,
   "id": "5a2fa61d",
   "metadata": {},
   "outputs": [],
   "source": [
    "class Solution:\n",
    "    def twoSum(self, numbers: List[int], target: int) -> List[int]:\n",
    "        #corner case\n",
    "        if not numbers: return []\n",
    "        \n",
    "        dict = {}\n",
    "        for i,v in enumerate(numbers):\n",
    "            if target - v in dict:\n",
    "                return [i,dict[target - v]]\n",
    "            dict[v] = i"
   ]
  },
  {
   "cell_type": "code",
   "execution_count": 18,
   "id": "91b27448",
   "metadata": {},
   "outputs": [
    {
     "name": "stdout",
     "output_type": "stream",
     "text": [
      "{1, 2, 3}\n",
      "[{1, 2}, {1, 2}, {3}]\n"
     ]
    }
   ],
   "source": [
    "a = [1,2,3]\n",
    "b = [[1,2],[1,2],[3]]\n",
    "\n",
    "print(set(a))\n",
    "print( [set(n) for n in b])"
   ]
  },
  {
   "cell_type": "markdown",
   "id": "ccf7ce92",
   "metadata": {},
   "source": [
    "2. 15. three sum"
   ]
  },
  {
   "cell_type": "code",
   "execution_count": null,
   "id": "6a9cafe1",
   "metadata": {},
   "outputs": [],
   "source": [
    "class Solution:\n",
    "    def threeSum(self, nums: List[int]) -> List[List[int]]:\n",
    "        #corner case\n",
    "        if not nums: return []\n",
    "        \n",
    "        if len(nums) < 3: return []\n",
    "        ans = []\n",
    "        \n",
    "        #need to sort \n",
    "        nums.sort()\n",
    "        for i in range(len(nums)-2):\n",
    "            left, right = i + 1, len(nums) - 1\n",
    "            \n",
    "            if nums[i] > 0: break\n",
    "            \n",
    "            #you need to search backward, or possible combination will be skip \n",
    "            #[-1,-1,-1,2,3,4] target = 0\n",
    "            if i > 0 and nums[i] == nums[i-1]:\n",
    "                continue\n",
    "            \n",
    "            \n",
    "            while left < right: \n",
    "                total = nums[i] + nums[left] + nums[right]\n",
    "                if total > 0:\n",
    "                    right -= 1\n",
    "                elif total < 0:\n",
    "                    left += 1\n",
    "                else:\n",
    "                    ans.append([nums[i],nums[left],nums[right]])\n",
    "                    #remove duplicates \n",
    "                    while left < right and nums[left] == nums[left + 1]: left += 1\n",
    "                    while left < right and nums[right] == nums[right - 1]: right -= 1\n",
    "                    left += 1 #keep moving...hmmm...why...you need to continue the check \n",
    "                    right -= 1\n",
    "        \n",
    "        return ans\n",
    "#T: O(NlogN)   sort, NlogN  two pointer N \n",
    "#S: O()  depending on sort \n"
   ]
  },
  {
   "cell_type": "markdown",
   "id": "c2b55b14",
   "metadata": {},
   "source": [
    "3. 16. 3 sum closet"
   ]
  },
  {
   "cell_type": "markdown",
   "id": "0c9f6374",
   "metadata": {},
   "source": [
    "two pointers"
   ]
  },
  {
   "cell_type": "code",
   "execution_count": 1,
   "id": "df5ed801",
   "metadata": {},
   "outputs": [
    {
     "ename": "SyntaxError",
     "evalue": "invalid syntax (193410056.py, line 26)",
     "output_type": "error",
     "traceback": [
      "\u001b[1;36m  File \u001b[1;32m\"C:\\Users\\Haikun\\AppData\\Local\\Temp\\ipykernel_36800\\193410056.py\"\u001b[1;36m, line \u001b[1;32m26\u001b[0m\n\u001b[1;33m    or\u001b[0m\n\u001b[1;37m    ^\u001b[0m\n\u001b[1;31mSyntaxError\u001b[0m\u001b[1;31m:\u001b[0m invalid syntax\n"
     ]
    }
   ],
   "source": [
    "class Solution:\n",
    "    def threeSumClosest(self, nums: List[int], target: int) -> int:\n",
    "        \n",
    "        #we want to find minimums, so we initiate a large number \n",
    "        diff = float('inf')\n",
    "        \n",
    "        nums.sort()\n",
    "        \n",
    "        for i in range(len(nums)):\n",
    "            left,right = i + 1, len(nums) - 1\n",
    "            \n",
    "            while left < right:\n",
    "                total = nums[i] + nums[left] + nums[right]\n",
    "                if total == target:\n",
    "                    return target\n",
    "                elif total < target:\n",
    "                    left += 1\n",
    "                else:\n",
    "                    right -= 1\n",
    "                #need to update your result\n",
    "                if abs(target - total) < abs(diff):\n",
    "                    diff = target - total\n",
    "                \n",
    "        return target - diff \n",
    "    \n",
    "or \n",
    "\n",
    "class Solution:\n",
    "    def threeSumClosest(self, nums: List[int], target: int) -> int:\n",
    "        \n",
    "        #we want to find minimums, so we initiate a large number \n",
    "        diff = float('inf')\n",
    "        \n",
    "        nums.sort()\n",
    "        \n",
    "        for i in range(len(nums)):\n",
    "            left,right = i + 1, len(nums) - 1\n",
    "            \n",
    "            while left < right:\n",
    "                total = nums[i] + nums[left] + nums[right]\n",
    "                #need to update your result\n",
    "                if abs(target - total) < abs(diff):\n",
    "                    diff = target - total\n",
    "                \n",
    "                #the following should be all together...\n",
    "                if total == target:\n",
    "                    return target\n",
    "                elif total < target:\n",
    "                    left += 1\n",
    "                else:\n",
    "                    right -= 1\n",
    "                \n",
    "                \n",
    "        return target - diff \n"
   ]
  },
  {
   "cell_type": "code",
   "execution_count": null,
   "id": "c0504541",
   "metadata": {},
   "outputs": [],
   "source": []
  },
  {
   "cell_type": "code",
   "execution_count": null,
   "id": "13a5f88b",
   "metadata": {},
   "outputs": [],
   "source": [
    "class Solution:\n",
    "    def threeSumClosest(self, nums: List[int], target: int) -> int:\n",
    "        diff = float('inf')\n",
    "        nums.sort()\n",
    "        for i in range(len(nums)):\n",
    "            lo, hi = i + 1, len(nums) - 1\n",
    "            \n",
    "            #you probably need this to save time \n",
    "            if i > 0 and nums[i] == nums[i-1]: continue\n",
    "                \n",
    "            while (lo < hi):\n",
    "                sum = nums[i] + nums[lo] + nums[hi]\n",
    "                if abs(target - sum) < abs(diff):\n",
    "                    diff = target - sum\n",
    "                if sum < target:\n",
    "                    lo += 1\n",
    "                else:\n",
    "                    hi -= 1\n",
    "            if diff == 0:\n",
    "                break\n",
    "        return target - diff"
   ]
  },
  {
   "cell_type": "markdown",
   "id": "47d03c5c",
   "metadata": {},
   "source": [
    "bs, this is from official, but time limit exceeded "
   ]
  },
  {
   "cell_type": "code",
   "execution_count": null,
   "id": "90c61a8c",
   "metadata": {},
   "outputs": [],
   "source": [
    "class Solution:\n",
    "    def threeSumClosest(self, nums: List[int], target: int) -> int:\n",
    "        diff = float('inf')\n",
    "        nums.sort()\n",
    "        for i in range(len(nums)):\n",
    "            for j in range(i + 1, len(nums)):\n",
    "                complement = target - nums[i] - nums[j]\n",
    "                hi = bisect_right(nums, complement, j + 1)\n",
    "                lo = hi - 1\n",
    "                if hi < len(nums) and abs(complement - nums[hi]) < abs(diff):\n",
    "                    diff = complement - nums[hi]\n",
    "                if lo > j and abs(complement - nums[lo]) < abs(diff):\n",
    "                    diff = complement - nums[lo]\n",
    "            if diff == 0:\n",
    "                break\n",
    "        return target - diff"
   ]
  },
  {
   "cell_type": "markdown",
   "id": "f31fb076",
   "metadata": {},
   "source": [
    "4. 18. 4 sum"
   ]
  },
  {
   "cell_type": "code",
   "execution_count": null,
   "id": "2705ce7b",
   "metadata": {},
   "outputs": [],
   "source": [
    "class Solution:\n",
    "    def fourSum(self, nums: List[int], target: int) -> List[List[int]]:\n",
    "        res = []\n",
    "        nums.sort()\n",
    "        n = len(nums)\n",
    "        for i in range(0, n):\n",
    "            #remove duplicate i\n",
    "            if i > 0 and nums[i - 1] == nums[i]:continue \n",
    "            for j in range(i + 1, n):\n",
    "                #remove duplicate j\n",
    "                if j > i + 1 and nums[j - 1] == nums[j]:continue\n",
    "                    \n",
    "                left,right = j + 1, n - 1\n",
    "                \n",
    "                \n",
    "                while left < right:\n",
    "                    #this need to be inside while loop!!!\n",
    "                    total = nums[i] + nums[j] + nums[left] + nums[right]\n",
    "                    if total > target:\n",
    "                        right -= 1\n",
    "                    elif total < target:\n",
    "                        left += 1\n",
    "                    else:\n",
    "                        res.append([nums[i],nums[j],nums[left],nums[right]])\n",
    "                        #remove duplicate of left and right\n",
    "                        while left < right and nums[left] == nums[left + 1]: left += 1\n",
    "                        while left < right and nums[right] == nums[right - 1]: right -= 1\n",
    "                        left += 1\n",
    "                        right -= 1\n",
    "        return res "
   ]
  },
  {
   "cell_type": "markdown",
   "id": "ea10e16c",
   "metadata": {},
   "source": [
    "5. 26. remove duplicates from sorted array"
   ]
  },
  {
   "cell_type": "code",
   "execution_count": null,
   "id": "bbcf7762",
   "metadata": {},
   "outputs": [],
   "source": [
    "class Solution:\n",
    "    def removeDuplicates(self, nums: List[int]) -> int:\n",
    "        #corner\n",
    "        if not nums: return 0\n",
    "        \n",
    "        cur = 0\n",
    "        for i in range(len(nums)):\n",
    "            if nums[i] != nums[cur]:\n",
    "                cur += 1\n",
    "                nums[cur] = nums[i]\n",
    "        return cur + 1\n",
    "# two pointers\n",
    "#T: O(N)\n",
    "#S: O(1)"
   ]
  },
  {
   "cell_type": "markdown",
   "id": "68b11d99",
   "metadata": {},
   "source": [
    "6. 80. remove duplicates from sorted array II"
   ]
  },
  {
   "cell_type": "code",
   "execution_count": null,
   "id": "16b43a67",
   "metadata": {},
   "outputs": [],
   "source": [
    "class Solution:\n",
    "    def removeDuplicates(self, nums: List[int]) -> int:\n",
    "        #corner \n",
    "        if len(nums) < 3: return len(nums)\n",
    "        \n",
    "        #we check from the third one, check by interval 2 \n",
    "        cur, fast = 2, 2\n",
    "        while fast < len(nums):\n",
    "            if nums[cur - 2] != nums[fast]:\n",
    "                nums[cur] = nums[fast]\n",
    "                cur += 1\n",
    "            fast += 1\n",
    "        return cur \n",
    "#T: O(N)\n",
    "#T: O(1)"
   ]
  },
  {
   "cell_type": "markdown",
   "id": "e0c22041",
   "metadata": {},
   "source": [
    "7. 27. remove element "
   ]
  },
  {
   "cell_type": "code",
   "execution_count": null,
   "id": "587d7d99",
   "metadata": {},
   "outputs": [],
   "source": [
    "class Solution:\n",
    "    def removeElement(self, nums: List[int], val: int) -> int:\n",
    "        if not nums: return 0\n",
    "        \n",
    "        cur = 0\n",
    "        for i in range(len(nums)):\n",
    "            if nums[i] != val:\n",
    "                nums[cur] = nums[i]\n",
    "                cur += 1\n",
    "        return cur"
   ]
  },
  {
   "cell_type": "code",
   "execution_count": null,
   "id": "65d8752e",
   "metadata": {},
   "outputs": [],
   "source": [
    "optimal, if the order doesn't matter "
   ]
  },
  {
   "cell_type": "markdown",
   "id": "af31bd06",
   "metadata": {},
   "source": [
    "8. 283. move zeros"
   ]
  },
  {
   "cell_type": "code",
   "execution_count": null,
   "id": "f987cb79",
   "metadata": {},
   "outputs": [],
   "source": [
    "class Solution(object):\n",
    "    def moveZeroes(self, nums):\n",
    "        \"\"\"\n",
    "        :type nums: List[int]\n",
    "        :rtype: void Do not return anything, modify nums in-place instead.\n",
    "        \"\"\"\n",
    "        #corner check\n",
    "        if not nums: return \n",
    "        #in-place two pointers\n",
    "        cur = 0\n",
    "        for i in range(len(nums)):\n",
    "            if nums[i] != 0:\n",
    "                nums[cur],nums[i] = nums[i], nums[cur]\n",
    "                cur += 1\n",
    "        return nums"
   ]
  },
  {
   "cell_type": "markdown",
   "id": "647855b5",
   "metadata": {},
   "source": [
    "9. 217. contains duplicate"
   ]
  },
  {
   "cell_type": "code",
   "execution_count": null,
   "id": "15b59232",
   "metadata": {},
   "outputs": [],
   "source": [
    "class Solution(object):\n",
    "    def containsDuplicate(self, nums):\n",
    "        \"\"\"\n",
    "        :type nums: List[int]\n",
    "        :rtype: bool\n",
    "        \"\"\"\n",
    "        \n",
    "        if not nums: return False\n",
    "        \n",
    "        dict = {}\n",
    "        \n",
    "        for e in nums:\n",
    "            if e not in dict:\n",
    "                dict[e] = 1\n",
    "            else:\n",
    "                return True\n",
    "        return False"
   ]
  },
  {
   "cell_type": "markdown",
   "id": "9ec7bb0c",
   "metadata": {},
   "source": [
    "10. 229. majority element II "
   ]
  },
  {
   "cell_type": "code",
   "execution_count": null,
   "id": "e2b84f63",
   "metadata": {},
   "outputs": [],
   "source": [
    "class Solution:\n",
    "\n",
    "    def majorityElement(self, nums):\n",
    "        if not nums:\n",
    "            return []\n",
    "        \n",
    "        # 1st pass\n",
    "        count1, count2, candidate1, candidate2 = 0, 0, None, None\n",
    "        for n in nums:\n",
    "            if candidate1 == n:\n",
    "                count1 += 1\n",
    "            elif candidate2 == n:\n",
    "                count2 += 1\n",
    "            elif count1 == 0:\n",
    "                candidate1 = n\n",
    "                count1 += 1\n",
    "            elif count2 == 0:\n",
    "                candidate2 = n\n",
    "                count2 += 1\n",
    "            else:\n",
    "                count1 -= 1\n",
    "                count2 -= 1\n",
    "        \n",
    "        # 2nd pass\n",
    "        result = []\n",
    "        for c in [candidate1, candidate2]:\n",
    "            if nums.count(c) > len(nums)//3:\n",
    "                result.append(c)\n",
    "\n",
    "        return result"
   ]
  },
  {
   "cell_type": "markdown",
   "id": "e0492630",
   "metadata": {},
   "source": [
    "11. 219. contains duplicate II "
   ]
  },
  {
   "cell_type": "code",
   "execution_count": null,
   "id": "15fcb11f",
   "metadata": {},
   "outputs": [],
   "source": [
    "class Solution:\n",
    "    def containsNearbyDuplicate(self, nums, k):\n",
    "        \"\"\"\n",
    "        sliding window way\n",
    "        \"\"\"\n",
    "        #corner case\n",
    "        if not nums: return False\n",
    "        \n",
    "        #s is a set of values, we maintain a window of k size\n",
    "        s = set()\n",
    "        for i in range(len(nums)):\n",
    "            if len(s) > k:\n",
    "                s.remove(nums[i - k - 1])\n",
    "            if nums[i] in s:\n",
    "                return True\n",
    "            s.add(nums[i])\n",
    "        return False"
   ]
  },
  {
   "cell_type": "code",
   "execution_count": null,
   "id": "56e46276",
   "metadata": {},
   "outputs": [],
   "source": [
    "12. 169. majority element "
   ]
  },
  {
   "cell_type": "code",
   "execution_count": null,
   "id": "cde7c9d3",
   "metadata": {},
   "outputs": [],
   "source": []
  },
  {
   "cell_type": "markdown",
   "id": "3be43a1c",
   "metadata": {},
   "source": [
    "13. 78. Subset"
   ]
  },
  {
   "cell_type": "code",
   "execution_count": null,
   "id": "dea8fd1f",
   "metadata": {},
   "outputs": [],
   "source": [
    "class Solution:\n",
    "    def subsets(self, nums: List[int]) -> List[List[int]]:\n",
    "        \n",
    "        res = []\n",
    "        subset = []\n",
    "        \n",
    "        def dfs(i):\n",
    "            if i == len(nums):\n",
    "                res.append(subset.copy())\n",
    "                #res.append(subset[:])\n",
    "                return \n",
    "            \n",
    "            #include nums[i]\n",
    "            subset.append(nums[i])\n",
    "            dfs(i + 1)\n",
    "            \n",
    "            #skip nums[i]\n",
    "            subset.pop()\n",
    "            dfs(i + 1)\n",
    "            \n",
    "        dfs(0)\n",
    "        return res\n",
    "#T: ?\n",
    "#S: ? \n"
   ]
  },
  {
   "cell_type": "code",
   "execution_count": null,
   "id": "3f10506a",
   "metadata": {},
   "outputs": [],
   "source": [
    "class Solution:\n",
    "    def subsets(self, nums: List[int]) -> List[List[int]]:\n",
    "        \n",
    "        n= len(nums)\n",
    "        output = [[]]\n",
    "        \n",
    "        #cascading \n",
    "        for num in nums:\n",
    "            output += [curr + [num] for curr in output]\n",
    "        \n",
    "        return output\n",
    "#T: O(N*2^N)\n",
    "#S: O(N*2^N)"
   ]
  },
  {
   "cell_type": "code",
   "execution_count": null,
   "id": "2e561c0e",
   "metadata": {},
   "outputs": [],
   "source": [
    "14. 724. find pivot index "
   ]
  },
  {
   "cell_type": "markdown",
   "id": "b5b35426",
   "metadata": {},
   "source": [
    "15. 90. subsets II "
   ]
  },
  {
   "cell_type": "code",
   "execution_count": null,
   "id": "35323c94",
   "metadata": {},
   "outputs": [],
   "source": [
    "class Solution:\n",
    "    def subsetsWithDup(self, nums: List[int]) -> List[List[int]]:\n",
    "        res = []\n",
    "        \n",
    "        nums.sort()\n",
    "        \n",
    "        def bt(i,subset):\n",
    "            if i == len(nums):\n",
    "                #we are taking a reference\n",
    "                res.append(subset[:])\n",
    "                return \n",
    "            #include nums[i]\n",
    "            subset.append(nums[i])\n",
    "            bt(i + 1,subset)\n",
    "            subset.pop()\n",
    "            \n",
    "            #not include nums[i]\n",
    "            #skip duplicate elment \n",
    "            while i + 1 < len(nums) and nums[i] == nums[i + 1]:\n",
    "                i += 1\n",
    "            bt(i + 1, subset)\n",
    "        \n",
    "        bt(0,[])\n",
    "        return res\n",
    "#T: O(N*2*n)\n",
    "#S: O(N)"
   ]
  },
  {
   "cell_type": "code",
   "execution_count": null,
   "id": "b4c33350",
   "metadata": {},
   "outputs": [],
   "source": []
  },
  {
   "cell_type": "code",
   "execution_count": null,
   "id": "ca4c9d0f",
   "metadata": {},
   "outputs": [],
   "source": [
    "16. 523. continuous subarray sum"
   ]
  },
  {
   "cell_type": "code",
   "execution_count": null,
   "id": "55ae5ef8",
   "metadata": {},
   "outputs": [],
   "source": [
    "17. 35. search insert position "
   ]
  },
  {
   "cell_type": "code",
   "execution_count": null,
   "id": "430cbd99",
   "metadata": {},
   "outputs": [],
   "source": [
    "18. 153. find minimum in rotated sorted array "
   ]
  },
  {
   "cell_type": "code",
   "execution_count": null,
   "id": "9d474fc0",
   "metadata": {},
   "outputs": [],
   "source": [
    "19. 33. search in rotated sorted array"
   ]
  },
  {
   "cell_type": "code",
   "execution_count": null,
   "id": "42d526f0",
   "metadata": {},
   "outputs": [],
   "source": [
    "20. 81. search in rotated sorted array II "
   ]
  },
  {
   "cell_type": "code",
   "execution_count": null,
   "id": "b0241485",
   "metadata": {},
   "outputs": [],
   "source": [
    "21. 670. maximum swap"
   ]
  },
  {
   "cell_type": "code",
   "execution_count": null,
   "id": "dd29e170",
   "metadata": {},
   "outputs": [],
   "source": [
    "22. 88. merge sorted array "
   ]
  },
  {
   "cell_type": "code",
   "execution_count": null,
   "id": "5d4fd69e",
   "metadata": {},
   "outputs": [],
   "source": [
    "23. 321. create maximum number"
   ]
  },
  {
   "cell_type": "code",
   "execution_count": null,
   "id": "ea633b81",
   "metadata": {},
   "outputs": [],
   "source": [
    "24. 56. merge intervals"
   ]
  },
  {
   "cell_type": "code",
   "execution_count": null,
   "id": "d04b0139",
   "metadata": {},
   "outputs": [],
   "source": [
    "25. 118. pascal's triangle"
   ]
  },
  {
   "cell_type": "code",
   "execution_count": null,
   "id": "d7a6fd63",
   "metadata": {},
   "outputs": [],
   "source": [
    "26. 54. spiral matrix"
   ]
  },
  {
   "cell_type": "code",
   "execution_count": null,
   "id": "b01c1675",
   "metadata": {},
   "outputs": [],
   "source": [
    "27. 119. pascal's triangle II"
   ]
  },
  {
   "cell_type": "code",
   "execution_count": null,
   "id": "faccf21d",
   "metadata": {},
   "outputs": [],
   "source": [
    "28. 48. rotate image "
   ]
  },
  {
   "cell_type": "code",
   "execution_count": null,
   "id": "6799ecf0",
   "metadata": {},
   "outputs": [],
   "source": [
    "454. 4Sum II "
   ]
  },
  {
   "cell_type": "code",
   "execution_count": null,
   "id": "2873d1ab",
   "metadata": {},
   "outputs": [],
   "source": [
    "class Solution:\n",
    "    def fourSumCount(self,nums1, nums2,nums3,nums4):\n",
    "        \n",
    "        record = {}\n",
    "        \n",
    "        for n1 in nums1:\n",
    "            for n2 in nums2:\n",
    "                if n1 + n2 not in record:\n",
    "                    record[n1 + n2] = 1\n",
    "                else:\n",
    "                    record[n1 + n2] += 1\n",
    "        \n",
    "        #store result \n",
    "        count = 0\n",
    "        \n",
    "        for n3 in nums3:\n",
    "            for n4 in nums4:\n",
    "                if -n3-n4 in record:\n",
    "                    count += record[-n3-n4]\n",
    "        return count "
   ]
  },
  {
   "cell_type": "markdown",
   "id": "6b272068",
   "metadata": {},
   "source": [
    "259. 3Sum Smaller"
   ]
  },
  {
   "cell_type": "code",
   "execution_count": null,
   "id": "50b39de8",
   "metadata": {},
   "outputs": [],
   "source": [
    "class Solution:\n",
    "    def threeSumSmaller(self, nums: List[int], target: int) -> int:\n",
    "        \n",
    "        if not nums: return 0\n",
    "        if len(nums) < 3: return 0\n",
    "        \n",
    "        diff = float('inf')\n",
    "        \n",
    "        nums.sort()\n",
    "        count = 0\n",
    "      \n",
    "        \n",
    "        for i in range(len(nums)):\n",
    "            \n",
    "            left,right = i + 1, len(nums) - 1\n",
    "            \n",
    "            while left < right:\n",
    "                total = nums[i] + nums[left] + nums[right]\n",
    "                if total < target:\n",
    "                    count += 1\n",
    "                    left += 1\n",
    "                \n",
    "                else:\n",
    "                    right -= 1\n",
    "                \n",
    "        return count \n",
    "        #负数？？？"
   ]
  },
  {
   "cell_type": "code",
   "execution_count": null,
   "id": "588ab755",
   "metadata": {},
   "outputs": [],
   "source": []
  }
 ],
 "metadata": {
  "kernelspec": {
   "display_name": "Python 3 (ipykernel)",
   "language": "python",
   "name": "python3"
  },
  "language_info": {
   "codemirror_mode": {
    "name": "ipython",
    "version": 3
   },
   "file_extension": ".py",
   "mimetype": "text/x-python",
   "name": "python",
   "nbconvert_exporter": "python",
   "pygments_lexer": "ipython3",
   "version": "3.9.12"
  }
 },
 "nbformat": 4,
 "nbformat_minor": 5
}
