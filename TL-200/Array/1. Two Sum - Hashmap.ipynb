{
 "cells": [
  {
   "cell_type": "code",
   "execution_count": null,
   "id": "84ae8f29",
   "metadata": {},
   "outputs": [],
   "source": [
    "\"\"\"\n",
    "1. Two Sum\n",
    "Given an array of integers nums and an integer target, return indices of the two numbers such that they add up to \n",
    "target.You may assume that each input would have exactly one solution, and you may not use the same element twice.\n",
    "You can return the answer in any order.\n",
    "Input: nums = [2,7,11,15], target = 9             Output: [0,1]\n",
    "\n",
    "This is the first problem in Leetcode. It may look pretty easy when you just look at it. But this is a good example to\n",
    "think about time and space complexity. There are several ways to solve this problem. Every method comes with certain\n",
    "time and space complexity.\n",
    "1) you compote addition of each pair in the array, and record (index1, index2) : sum in a dict. This is intuitive, \n",
    "but you violate the rule \"you may not use the same element twice\";\n",
    "2) To avoid \"use the same element twice\", you may do it this way: from List[0]: if list[0] is the answer, that means\n",
    "target - list[0] should be in the array. search the list for target - list[0]. if not in the array, moves on to the \n",
    "list[1]. Worst senario, you need to do array search n times, which results in O(N*N), which is very bad.\n",
    "3) To avid O(N*N) in solution 2), we need to find an efficient way to search the array ---> naturally, we think about\n",
    "the use of \"dictionary\". Even though cost to build a dictionary from an array is O(n), search a dict is O(1). Worst \n",
    "senario, we search the dictionary n times. Then total time complexity is N(cost to build dict) + N(cost to search\n",
    "dict), which is still O(N) !!!\n",
    "\n",
    "****Key point: Find a solution first. Do not aim for a fancy answer! just go with most natural one. One that is likely\n",
    "    very straightforward, and easy to explain to epople ---> calculate time and space complexity ---> if not O(N), \n",
    "    try to optimize one or several step to improve (such as use a dict or set) ---> implement with bug free code\n",
    "    \n",
    "    If not able to improve ---> think about other strategy to solve the problem!!! The one that might requires you\n",
    "    to twist a little more!!!\n",
    "\"\"\""
   ]
  },
  {
   "cell_type": "code",
   "execution_count": null,
   "id": "da39d338",
   "metadata": {},
   "outputs": [],
   "source": [
    "class Solution:\n",
    "    def twoSum(self, nums: List[int], target: int) -> List[int]:\n",
    "        \"\"\"\n",
    "        :Type nums: List[int]\n",
    "        :Type taret: int\n",
    "        :rtype: List[int]\n",
    "        \"\"\"\n",
    "        #always do base check!\n",
    "        if not nums:\n",
    "            return []\n",
    "        \n",
    "        #build a hashmap from the array\n",
    "        hashmap = {}\n",
    "        for index, value in enumerate(nums): #need to memorize the use of enumerate for dict construction\n",
    "            hashmap[value] = index\n",
    "            \n",
    "        #start from nums[0], search hashmap for existence of target - nums[0]\n",
    "        for i in range(len(nums)):  \n",
    "            if (target - nums[i]) in hashmap and hashmap[target - nums[i]] != i: #aoid case where nums[i] *2 = target. i.e.                                     \n",
    "                return [i] + [hashmap[target - nums[i]]]                         # two indexes should be diffeent!!!\n",
    "            else:\n",
    "                continue\n",
    "                \n",
    "\"\"\"\n",
    "Runtime: 88 ms, faster than 73.86% of Python3 online submissions for Two Sum.\n",
    "Memory Usage: 15.2 MB, less than 50.22% of Python3 online submissions for Two Sum.\n",
    "\"\"\"        \n",
    "        "
   ]
  }
 ],
 "metadata": {
  "kernelspec": {
   "display_name": "Python 3 (ipykernel)",
   "language": "python",
   "name": "python3"
  },
  "language_info": {
   "codemirror_mode": {
    "name": "ipython",
    "version": 3
   },
   "file_extension": ".py",
   "mimetype": "text/x-python",
   "name": "python",
   "nbconvert_exporter": "python",
   "pygments_lexer": "ipython3",
   "version": "3.9.12"
  }
 },
 "nbformat": 4,
 "nbformat_minor": 5
}
