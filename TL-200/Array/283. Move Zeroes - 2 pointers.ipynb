{
 "cells": [
  {
   "cell_type": "code",
   "execution_count": null,
   "id": "55667b21",
   "metadata": {},
   "outputs": [],
   "source": [
    "\"\"\"\n",
    "283. Move Zeroes\n",
    "Given an integer array nums, move all 0's to the end of it while maintaining the relative order of the non-zero \n",
    "elements. Note that you must do this in-place without making a copy of the array.\n",
    "\n",
    "Input: nums = [0,1,0,3,12]         Output: [1,3,12,0,0]\n",
    "Input: nums = [0]                  Output: [0]\n",
    "---------------------------------------------------------------------\n",
    "A typical 2 pointer problem\n",
    "1) a current pointer point to nums[0]\n",
    "2) a sliding pointer scanning the the array\n",
    "3) when sliding pointer points to a \"non-zero\" ---> swap the value with current pointer ---> move current pointer\n",
    "\n",
    "\n",
    "\"\"\""
   ]
  },
  {
   "cell_type": "code",
   "execution_count": null,
   "id": "1fdb2c8b",
   "metadata": {},
   "outputs": [],
   "source": [
    "class Solution:\n",
    "    def moveZeroes(self, nums: List[int]) -> None:\n",
    "        \"\"\"\n",
    "        :type nums: List[int]\n",
    "        :rtype: None\n",
    "        \"\"\"\n",
    "        if not nums:\n",
    "            return []\n",
    "            \n",
    "        current = 0\n",
    "        \n",
    "        for i in range(len(nums)):\n",
    "            if nums[i] != 0:\n",
    "                nums[current], nums[i] = nums[i], nums[current]        \n",
    "                current += 1            \n",
    "                \n",
    "        return nums\n",
    "    \n",
    "\"\"\"\n",
    "O(N) Run Time\n",
    "o(N) space\n",
    "\"\"\""
   ]
  }
 ],
 "metadata": {
  "kernelspec": {
   "display_name": "Python 3 (ipykernel)",
   "language": "python",
   "name": "python3"
  },
  "language_info": {
   "codemirror_mode": {
    "name": "ipython",
    "version": 3
   },
   "file_extension": ".py",
   "mimetype": "text/x-python",
   "name": "python",
   "nbconvert_exporter": "python",
   "pygments_lexer": "ipython3",
   "version": "3.9.12"
  }
 },
 "nbformat": 4,
 "nbformat_minor": 5
}
