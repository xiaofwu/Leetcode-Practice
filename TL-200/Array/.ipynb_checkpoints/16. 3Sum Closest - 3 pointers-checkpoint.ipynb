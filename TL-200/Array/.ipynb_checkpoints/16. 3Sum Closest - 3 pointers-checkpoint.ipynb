{
 "cells": [
  {
   "cell_type": "code",
   "execution_count": null,
   "id": "d1b5d8fa",
   "metadata": {},
   "outputs": [],
   "source": [
    "\"\"\"\n",
    "16. 3Sum Closest\n",
    "Given an integer array nums of length n and an integer target, find three integers in nums such that the sum \n",
    "is closest to target. Return the sum of the three integers.\n",
    "You may assume that each input would have exactly one solution.\n",
    "\n",
    "Input: nums = [-1,2,1,-4], target = 1                Output: 2\n",
    "Input: nums = [0,0,0], target = 1                    Output: 0\n",
    "\n",
    "let's try to follow problem 15 3Sum's strategy to deal with this problem.\n",
    "\n",
    "1) Sort the array!!!\n",
    "2) We also use 3 ponters. Current points to nums[0]. Left points to i+1, while right points to len()-1\n",
    "3) Move pointers toward each other one step a time. Everytime, we calculate sum = nums[i]+nums[left]+nums[right]\n",
    "4) We next calculate the abs(sum-target). if this value is smaller than \"close\" which is the previou best \n",
    "    abs(target-sum), we update close using this sum.\n",
    "5) Move left pointer if sum still <target, or move right pointer if sum > target. But remember, only move\n",
    "    1 pointer / time\n",
    "6) we do not need to skip values this time! Make it easier to write the code\n",
    "\n",
    "\"\"\""
   ]
  },
  {
   "cell_type": "code",
   "execution_count": null,
   "id": "c47b87e6",
   "metadata": {},
   "outputs": [],
   "source": [
    "class Solution:\n",
    "    def threeSumClosest(self, nums: List[int], target: int) -> int:\n",
    "        \"\"\"\n",
    "        :type nums: List[int]\n",
    "        :type target: int\n",
    "        :rtype: int\n",
    "        \"\"\"\n",
    "        # we need a sorted array in order to move left and right pointer based on sum\n",
    "        nums.sort()  \n",
    "        \n",
    "        close = 999999\n",
    "        \n",
    "        for i in range(len(nums)-2):\n",
    "            \n",
    "            left = i +1\n",
    "            right = len(nums) -1\n",
    "            \n",
    "            while left < right:\n",
    "                sum = nums[i] + nums[left] + nums[right]\n",
    "                # if sum is the target, terminate the loop and return the sum\n",
    "                if sum == target:  \n",
    "                    return sum\n",
    "                # compare sum with previous close and assign closer int to close \n",
    "                if abs(sum - target) < abs(close - target): \n",
    "                    close = sum\n",
    "                # move the left or right pointer based on comparison between sum and target\n",
    "                if sum < target:   \n",
    "                    left += 1\n",
    "                else:\n",
    "                    right -= 1\n",
    "        \n",
    "        return close\n",
    "                    \n",
    "\"\"\"\n",
    "Runtime: 5751 ms, faster than 75.01% of Python3 online submissions for 3Sum Closest.\n",
    "Memory Usage: 14.1 MB, less than 93.39% of Python3 online submissions for 3Sum Closest.\n",
    "\"\"\"                                    "
   ]
  }
 ],
 "metadata": {
  "kernelspec": {
   "display_name": "Python 3 (ipykernel)",
   "language": "python",
   "name": "python3"
  },
  "language_info": {
   "codemirror_mode": {
    "name": "ipython",
    "version": 3
   },
   "file_extension": ".py",
   "mimetype": "text/x-python",
   "name": "python",
   "nbconvert_exporter": "python",
   "pygments_lexer": "ipython3",
   "version": "3.9.12"
  }
 },
 "nbformat": 4,
 "nbformat_minor": 5
}
