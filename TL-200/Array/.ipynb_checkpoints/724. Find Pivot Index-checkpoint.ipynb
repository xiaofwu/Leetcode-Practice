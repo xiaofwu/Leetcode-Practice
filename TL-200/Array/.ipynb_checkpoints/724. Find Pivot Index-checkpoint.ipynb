{
 "cells": [
  {
   "cell_type": "code",
   "execution_count": null,
   "id": "ca0ae2de",
   "metadata": {},
   "outputs": [],
   "source": [
    "\"\"\"\n",
    "724. Find Pivot Index\n",
    "Given an array of integers nums, calculate the pivot index of this array.\n",
    "The pivot index is the index where the sum of all the numbers strictly to the left of the index is equal \n",
    "to the sum of all the numbers strictly to the index's right.\n",
    "If the index is on the left edge of the array, then the left sum is 0 because there are no elements to the left. \n",
    "This also applies to the right edge of the array. Return the leftmost pivot index. If no such index exists, \n",
    "return -1.\n",
    "\n",
    "Input: nums = [1,7,3,6,5,6]                       Output: 3\n",
    "Input: nums = [2,1,-1]                            Output: 0\n",
    "\"\"\""
   ]
  },
  {
   "cell_type": "code",
   "execution_count": null,
   "id": "9944bf7d",
   "metadata": {},
   "outputs": [],
   "source": [
    "class Solution:\n",
    "    def pivotIndex(self, nums: List[int]) -> int:\n",
    "        \"\"\"\n",
    "        :type nums: List[int]\n",
    "        :rtype: int\n",
    "        \"\"\"\n",
    "        \n",
    "        total = sum(nums)\n",
    "        leftSum = 0\n",
    "        \n",
    "        for i in range(len(nums)):\n",
    "            rightSum = total - leftSum - nums[i]\n",
    "            if rightSum == leftSum:\n",
    "                return i\n",
    "            leftSum += nums[i]\n",
    "            \n",
    "        return -1\n",
    "\n"
   ]
  }
 ],
 "metadata": {
  "kernelspec": {
   "display_name": "Python 3 (ipykernel)",
   "language": "python",
   "name": "python3"
  },
  "language_info": {
   "codemirror_mode": {
    "name": "ipython",
    "version": 3
   },
   "file_extension": ".py",
   "mimetype": "text/x-python",
   "name": "python",
   "nbconvert_exporter": "python",
   "pygments_lexer": "ipython3",
   "version": "3.9.12"
  }
 },
 "nbformat": 4,
 "nbformat_minor": 5
}
