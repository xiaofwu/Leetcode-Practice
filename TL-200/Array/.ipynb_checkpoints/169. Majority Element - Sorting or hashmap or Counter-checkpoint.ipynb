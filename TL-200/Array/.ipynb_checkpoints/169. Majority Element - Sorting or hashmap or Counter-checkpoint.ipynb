{
 "cells": [
  {
   "cell_type": "code",
   "execution_count": null,
   "id": "75c4b3af",
   "metadata": {},
   "outputs": [],
   "source": [
    "\"\"\"\n",
    "169. Majority Element\n",
    "Given an array nums of size n, return the majority element. The majority element is the element that appears \n",
    "more than ⌊n / 2⌋ times. You may assume that the majority element always exists in the array.\n",
    "Input: nums = [2,2,1,1,1,2,2]          Output: 2\n",
    "Input: nums = [3,2,3]                  Output: 3\n",
    "------------------------------------------------------\n",
    "这道题有好几种解法。 在这里list 3 种\n",
    "\"\"\""
   ]
  },
  {
   "cell_type": "code",
   "execution_count": null,
   "id": "08060e15",
   "metadata": {},
   "outputs": [],
   "source": [
    "\"\"\"\n",
    "这是最具代表性的答案。 把list转成一个hashmap，这样我们就知道了每个元素出现的次数。\n",
    "\"\"\"\n",
    "class Solution:\n",
    "    def majorityElement(self, nums: List[int]) -> int:\n",
    "        \"\"\"\n",
    "        :type nums: Lsist[int]\n",
    "        :rtype int\n",
    "        \"\"\"\n",
    "        \n",
    "        newDict = {}\n",
    "        if not nums:\n",
    "            return None\n",
    "        if len(nums) == 1:\n",
    "            return nums[0]\n",
    "        #build a new dict from input list with appearance count\n",
    "        for value in nums:\n",
    "            if value not in newDict:\n",
    "                newDict[value] = 1\n",
    "            else:\n",
    "                newDict[value] += 1\n",
    "                \n",
    "        #check the dict, return value with appearcnce > n/2\n",
    "        for value in newDict:\n",
    "            if newDict[value] > len(nums)/2:\n",
    "                return value"
   ]
  },
  {
   "cell_type": "code",
   "execution_count": null,
   "id": "897402d2",
   "metadata": {},
   "outputs": [],
   "source": [
    "\"\"\"\n",
    "这个方法其实和上面的一样。 Instead of build a dict using enumerate() method. We can actually\n",
    "调库 （from collections import Counter）。\n",
    "s = 'abbccc'\n",
    "res = Counter(s)\n",
    "print(res) #Counter({'c': 3, 'b': 2, 'a': 1})\n",
    "对于res对操作就是对于字典对操作，把每个值取出来：     for key,value in res.items():\n",
    "\"\"\"\n",
    "from collections import Counter\n",
    "class Solution:\n",
    "    def majorityElement(self, nums: List[int]) -> int:\n",
    "        ct = Counter(nums)\n",
    "        l = len(nums) / 2\n",
    "        for key, value in ct.items():\n",
    "            if value >= l:\n",
    "                return key"
   ]
  },
  {
   "cell_type": "code",
   "execution_count": null,
   "id": "e121e6bd",
   "metadata": {},
   "outputs": [],
   "source": [
    "\"\"\"\n",
    "这是最简单的一个，但不推荐。 没有推广性。 \n",
    "原理是： if an element appears more than n/2 times in the array, you can just do a sorting. middle element\n",
    "must be the one you want to find.\n",
    "\"\"\"\n",
    "class Solution:\n",
    "    def majorityElement(self, nums: List[int]) -> int:\n",
    "        \"\"\"\n",
    "        :type nums: List[int]\n",
    "        :rtype int\n",
    "        \"\"\"\n",
    "        if not nums:\n",
    "            return 0\n",
    "        \n",
    "        nums.sort()\n",
    "        return (nums[((len(nums)) - 1) // 2])\n",
    "        "
   ]
  }
 ],
 "metadata": {
  "kernelspec": {
   "display_name": "Python 3 (ipykernel)",
   "language": "python",
   "name": "python3"
  },
  "language_info": {
   "codemirror_mode": {
    "name": "ipython",
    "version": 3
   },
   "file_extension": ".py",
   "mimetype": "text/x-python",
   "name": "python",
   "nbconvert_exporter": "python",
   "pygments_lexer": "ipython3",
   "version": "3.9.12"
  }
 },
 "nbformat": 4,
 "nbformat_minor": 5
}
