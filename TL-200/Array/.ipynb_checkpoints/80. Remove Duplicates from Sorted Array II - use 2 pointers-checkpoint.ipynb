{
 "cells": [
  {
   "cell_type": "code",
   "execution_count": null,
   "id": "beb17156",
   "metadata": {},
   "outputs": [],
   "source": [
    "\"\"\"\n",
    "80. Remove Duplicates from Sorted Array II\n",
    "Given an integer array nums sorted in non-decreasing order, remove some duplicates in-place such that each unique \n",
    "element appears at most twice. The relative order of the elements should be kept the same.\n",
    "Since it is impossible to change the length of the array in some languages, you must instead have the result be \n",
    "placed in the first part of the array nums. More formally, if there are k elements after removing the duplicates, \n",
    "then the first k elements of nums should hold the final result. It does not matter what you leave beyond the first \n",
    "k elements.\n",
    "\n",
    "Return k after placing the final result in the first k slots of nums.\n",
    "Do not allocate extra space for another array. You must do this by modifying the input array in-place with O(1) \n",
    "extra memory.\n",
    "\n",
    "Input: nums = [1,1,1,2,2,3]                   Output: 5, nums = [1,1,2,2,3,_]\n",
    "Input: nums = [1,2,3,4]                   Output: 4, nums = [1,2,3,4]\n",
    "Input: nums = [0,0,1,1,1,1,2,3,3]             Output: 7, nums = [0,0,1,1,2,3,3,_,_]\n",
    "--------------------------------------------------------------------------\n",
    "\n",
    "解题思路:\n",
    "\n",
    "两个指针，一个遍历数，一个为最后返回的结果，如果当前的数与其之前的两个数不同，则保留这个数，将其复制到执行结果的指针出\n",
    "check condition: 没有3个相同的数. \n",
    "i.e. \n",
    "1) when moving pointer指向的值 = nums[current -2], 则只有moving pointer前进， 而current pointer 不动；\n",
    "2) 直到 nums[moving pointer] != nums[current -2], 就把moving pointer指向的值， 赋给current pointer. and \n",
    "   move the current pointer forward\n",
    "\n",
    "关键是找到如何做 condition check ！！！！\n",
    "\"\"\""
   ]
  },
  {
   "cell_type": "code",
   "execution_count": null,
   "id": "613859a4",
   "metadata": {},
   "outputs": [],
   "source": [
    "class Solution:\n",
    "    def removeDuplicates(self, nums: List[int]) -> int:\n",
    "        \"\"\"\n",
    "        :type nums: List[int]\n",
    "        :rtype: int\n",
    "        \"\"\"\n",
    "        \n",
    "        if not nums:\n",
    "            return 0\n",
    "        \n",
    "        current = 0 \n",
    "        \n",
    "        for i in range(len(nums)): \n",
    "            # first 2 elements are going be there anyway\n",
    "            if current < 2:    \n",
    "                current += 1 \n",
    "            #after first 2 elements, compare nums[i] with nums[current-2]. operate and move the current pointer\n",
    "            else:  \n",
    "                if nums[i] != nums[current - 2]:   \n",
    "                    nums[current] = nums[i]\n",
    "                    current += 1\n",
    "        \n",
    "        return current            "
   ]
  },
  {
   "cell_type": "code",
   "execution_count": null,
   "id": "99bb28f6",
   "metadata": {},
   "outputs": [],
   "source": []
  }
 ],
 "metadata": {
  "kernelspec": {
   "display_name": "Python 3 (ipykernel)",
   "language": "python",
   "name": "python3"
  },
  "language_info": {
   "codemirror_mode": {
    "name": "ipython",
    "version": 3
   },
   "file_extension": ".py",
   "mimetype": "text/x-python",
   "name": "python",
   "nbconvert_exporter": "python",
   "pygments_lexer": "ipython3",
   "version": "3.9.12"
  }
 },
 "nbformat": 4,
 "nbformat_minor": 5
}
