{
 "cells": [
  {
   "cell_type": "code",
   "execution_count": null,
   "id": "ddfc80d3",
   "metadata": {},
   "outputs": [],
   "source": [
    "\"\"\"\n",
    "35. Search Insert Position\n",
    "Given a sorted array of distinct integers and a target value, return the index if the target \n",
    "is found. If not, return the index where it would be if it were inserted in order.\n",
    "You must write an algorithm with O(log n) runtime complexity.\n",
    "\n",
    "Input: nums = [1,3,5,6], target = 5         Output: 2\n",
    "Input: nums = [1,3,5,6], target = 7         Output: 4\n",
    "\"\"\""
   ]
  },
  {
   "cell_type": "code",
   "execution_count": null,
   "id": "2c610eff",
   "metadata": {},
   "outputs": [],
   "source": [
    "class Solution:\n",
    "    def searchInsert(self, nums: List[int], target: int) -> int:\n",
    "        \"\"\"\n",
    "        :type nums: List[int]\n",
    "        :type target: int\n",
    "        :rtype: int\n",
    "        \"\"\"\n",
    "        \n",
    "        if not nums:\n",
    "            return 0\n",
    "        \n",
    "        left = 0\n",
    "        right = len(nums) - 1\n",
    "        \n",
    "        for i in range(len(nums)):\n",
    "            mid = left + (right -left) // 2\n",
    "            if nums[mid] == target:\n",
    "                return mid\n",
    "            elif nums[mid] < target:\n",
    "                left = mid + 1\n",
    "            else:\n",
    "                right = mid - 1\n",
    "        return left \n",
    "        "
   ]
  }
 ],
 "metadata": {
  "kernelspec": {
   "display_name": "Python 3 (ipykernel)",
   "language": "python",
   "name": "python3"
  },
  "language_info": {
   "codemirror_mode": {
    "name": "ipython",
    "version": 3
   },
   "file_extension": ".py",
   "mimetype": "text/x-python",
   "name": "python",
   "nbconvert_exporter": "python",
   "pygments_lexer": "ipython3",
   "version": "3.9.12"
  }
 },
 "nbformat": 4,
 "nbformat_minor": 5
}
