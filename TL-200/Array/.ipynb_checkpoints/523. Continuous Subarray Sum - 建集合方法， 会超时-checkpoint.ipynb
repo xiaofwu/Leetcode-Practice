{
 "cells": [
  {
   "cell_type": "code",
   "execution_count": null,
   "id": "c04075a5",
   "metadata": {},
   "outputs": [],
   "source": [
    "\"\"\"\n",
    "523. Continuous Subarray Sum\n",
    "Given an integer array nums and an integer k, return true if nums has a continuous subarray of size at least two \n",
    "whose elements sum up to a multiple of k, or false otherwise.\n",
    "An integer x is a multiple of k if there exists an integer n such that x = n * k. 0 is always a multiple of k.\n",
    "\n",
    "Input: nums = [23,2,4,6,7], k = 6\n",
    "Output: true\n",
    "Explanation: [2, 4] is a continuous subarray of size 2 whose elements sum up to 6.\n",
    "\n",
    "Input: nums = [23,2,6,4,7], k = 13\n",
    "Output: false\n",
    "\n",
    "Input: nums = [23,2,6,4,7], k = 6\n",
    "Output: true\n",
    "Explanation: [23, 2, 6, 4, 7] is an continuous subarray of size 5 whose elements sum up to 42.\n",
    "42 is a multiple of 6 because 42 = 7 * 6 and 7 is an integer.\n",
    "\n",
    "\n",
    "th\n",
    "\"\"\""
   ]
  },
  {
   "cell_type": "code",
   "execution_count": 14,
   "id": "f82cc97a",
   "metadata": {},
   "outputs": [],
   "source": [
    "class Solution:\n",
    "    def checkSubarraySum(sef, nums, k):\n",
    "        \"\"\"\n",
    "        type nums: List[int]\n",
    "        type k: int\n",
    "        rtype: bool\n",
    "        \"\"\"\n",
    "        \n",
    "        if len(nums) < 2:\n",
    "            return False\n",
    "        \n",
    "        superset = [[nums[0], nums[1]]]\n",
    "        subPrevious = [[nums[0], nums[1]]]\n",
    "        \n",
    "        for i in range(2, len(nums)):\n",
    "            subset = []\n",
    "            for j in subPrevious:\n",
    "                subset += [j + [nums[i]]]\n",
    "            subset.append([nums[i],nums[i-1]])\n",
    "                \n",
    "            superset += subset\n",
    "            subPrevious = subset\n",
    "            \n",
    "        for i in superset:\n",
    "            if sum(i) % k == 0:\n",
    "                return True\n",
    "            \n",
    "        return False\n",
    "                       "
   ]
  },
  {
   "cell_type": "code",
   "execution_count": 15,
   "id": "1ea4d632",
   "metadata": {
    "scrolled": false
   },
   "outputs": [
    {
     "name": "stdout",
     "output_type": "stream",
     "text": [
      "[[23, 2, 6], [6, 7]]\n",
      "[[23, 2, 6, 4], [4, 7]]\n",
      "[[23, 2, 6, 4], [4, 7], [6, 7, 4], [4, 7]]\n",
      "[[23, 2, 6, 4, 7], [7, 7]]\n",
      "[[23, 2, 6, 4, 7], [7, 7], [4, 7, 7], [7, 7]]\n",
      "[[23, 2, 6, 4, 7], [7, 7], [4, 7, 7], [7, 7], [6, 7, 4, 7], [7, 7]]\n",
      "[[23, 2, 6, 4, 7], [7, 7], [4, 7, 7], [7, 7], [6, 7, 4, 7], [7, 7], [4, 7, 7], [7, 7]]\n",
      "[[23, 2], [23, 2, 6], [6, 7], [23, 2, 6, 4], [4, 7], [6, 7, 4], [4, 7], [23, 2, 6, 4, 7], [7, 7], [4, 7, 7], [7, 7], [6, 7, 4, 7], [7, 7], [4, 7, 7], [7, 7]]\n"
     ]
    },
    {
     "data": {
      "text/plain": [
       "True"
      ]
     },
     "execution_count": 15,
     "metadata": {},
     "output_type": "execute_result"
    }
   ],
   "source": [
    "p1 = Solution()\n",
    "p1.checkSubarraySum([23,2,6,4,7], 13)"
   ]
  },
  {
   "cell_type": "code",
   "execution_count": null,
   "id": "3aa5cf06",
   "metadata": {},
   "outputs": [],
   "source": []
  }
 ],
 "metadata": {
  "kernelspec": {
   "display_name": "Python 3 (ipykernel)",
   "language": "python",
   "name": "python3"
  },
  "language_info": {
   "codemirror_mode": {
    "name": "ipython",
    "version": 3
   },
   "file_extension": ".py",
   "mimetype": "text/x-python",
   "name": "python",
   "nbconvert_exporter": "python",
   "pygments_lexer": "ipython3",
   "version": "3.9.12"
  }
 },
 "nbformat": 4,
 "nbformat_minor": 5
}
