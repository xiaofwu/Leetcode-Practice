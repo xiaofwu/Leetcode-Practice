{
 "cells": [
  {
   "cell_type": "code",
   "execution_count": null,
   "id": "86aec3a3",
   "metadata": {},
   "outputs": [],
   "source": [
    "\"\"\"\n",
    "18. 4Sum\n",
    "Given an array nums of n integers, return an array of all the unique quadruplets [nums[a], nums[b], nums[c], \n",
    "nums[d]] such that:\n",
    "\n",
    "0 <= a, b, c, d < n\n",
    "a, b, c, and d are distinct.\n",
    "nums[a] + nums[b] + nums[c] + nums[d] == target\n",
    "You may return the answer in any order.\n",
    "\n",
    "Input: nums = [1,0,-1,0,-2,2], target = 0              Output: [[-2,-1,1,2],[-2,0,0,2],[-1,0,0,1]]\n",
    "Input: nums = [2,2,2,2,2], target = 8                   Output: [[2,2,2,2]]\n",
    "\n",
    "\n",
    "\n",
    "\"\"\""
   ]
  },
  {
   "cell_type": "code",
   "execution_count": null,
   "id": "307b24c3",
   "metadata": {},
   "outputs": [],
   "source": [
    "class Solution:\n",
    "    def fourSum(self, nums: List[int], target: int) -> List[List[int]]:"
   ]
  }
 ],
 "metadata": {
  "kernelspec": {
   "display_name": "Python 3 (ipykernel)",
   "language": "python",
   "name": "python3"
  },
  "language_info": {
   "codemirror_mode": {
    "name": "ipython",
    "version": 3
   },
   "file_extension": ".py",
   "mimetype": "text/x-python",
   "name": "python",
   "nbconvert_exporter": "python",
   "pygments_lexer": "ipython3",
   "version": "3.9.12"
  }
 },
 "nbformat": 4,
 "nbformat_minor": 5
}
