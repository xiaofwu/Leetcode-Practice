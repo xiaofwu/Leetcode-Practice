{
 "cells": [
  {
   "cell_type": "code",
   "execution_count": null,
   "id": "efb719e6",
   "metadata": {},
   "outputs": [],
   "source": [
    "\"\"\"\n",
    "219. Contains Duplicate II\n",
    "Given an integer array nums and an integer k, return true if there are two distinct indices i and j in the array \n",
    "such that nums[i] == nums[j] and abs(i - j) <= k.\n",
    "\n",
    "Input: nums = [1,2,3,1], k = 3.              Output: true\n",
    "Input: nums = [1,2,3,1,2,3], k = 2           Output: false\n",
    "\n",
    "第二次卡这道题了。I somehow 对build stepwise hashmap非常不敏感 ！！！\n",
    "要多看几遍了。\n",
    " \n",
    "\"\"\""
   ]
  },
  {
   "cell_type": "code",
   "execution_count": null,
   "id": "0b807c3b",
   "metadata": {},
   "outputs": [],
   "source": [
    "class Solution:\n",
    "    def containsNearbyDuplicate(self, nums: List[int], k: int) -> bool:\n",
    "        \"\"\"\n",
    "        :type nums: List[int]\n",
    "        :type k: int\n",
    "        :rtype: bool\n",
    "        \"\"\"\n",
    "        hashmap = {}\n",
    "        if not nums:\n",
    "            return False\n",
    "        \n",
    "        # start to build the dictionary stepswise\n",
    "        for index, value in enumerate(nums):\n",
    "            if value not in hashmap:\n",
    "                hashmap[value] = index\n",
    "            else:\n",
    "                if abs(index - hashmap[value]) <= k:\n",
    "                    return True\n",
    "                else:\n",
    "                    # need to update the index of this value to the new index !!!\n",
    "                    hashmap[value] = index \n",
    "                    continue\n",
    "        \n",
    "        \n",
    "        "
   ]
  }
 ],
 "metadata": {
  "kernelspec": {
   "display_name": "Python 3 (ipykernel)",
   "language": "python",
   "name": "python3"
  },
  "language_info": {
   "codemirror_mode": {
    "name": "ipython",
    "version": 3
   },
   "file_extension": ".py",
   "mimetype": "text/x-python",
   "name": "python",
   "nbconvert_exporter": "python",
   "pygments_lexer": "ipython3",
   "version": "3.9.12"
  }
 },
 "nbformat": 4,
 "nbformat_minor": 5
}
