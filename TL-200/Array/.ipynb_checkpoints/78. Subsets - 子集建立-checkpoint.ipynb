{
 "cells": [
  {
   "cell_type": "code",
   "execution_count": null,
   "id": "d046af29",
   "metadata": {},
   "outputs": [],
   "source": [
    "\"\"\"\n",
    "78. Subsets\n",
    "Given an integer array nums of unique elements, return all possible subsets (the power set).\n",
    "The solution set must not contain duplicate subsets. Return the solution in any order.\n",
    "\n",
    "Input: nums = [1,2,3]               Output: [[],[1],[2],[1,2],[3],[1,3],[2,3],[1,2,3]]\n",
    "Input: nums = [0]                   Output: [[],[0]]\n",
    "\n",
    "从空开始，每一步都向子集添加新的整数，并生成新的子集. 这是比原来的集合中又多出来的新元素， 然后把它和前一个集合 合并。\n",
    "\"\"\""
   ]
  },
  {
   "cell_type": "code",
   "execution_count": null,
   "id": "0093777a",
   "metadata": {},
   "outputs": [],
   "source": [
    "class Solution:\n",
    "    def subsets(self, nums):\n",
    "        \"\"\"\n",
    "        type nums: List[int]\n",
    "        rtype: List[int]\n",
    "        \"\"\"      \n",
    "        superset = [[]]\n",
    "        \n",
    "        for num in nums: #every time you have a new element\n",
    "            subset = [] #need to set subset as empty first in each loop to build new subset\n",
    "            for arr in superset: #every time you have a new element, you need make new subset by add new element to each small set\n",
    "                subset += [arr + [num]]\n",
    "            superset += subset #then you need add element from this new subset to parental superset\n",
    "        return superset\n",
    "    \n",
    "    "
   ]
  }
 ],
 "metadata": {
  "kernelspec": {
   "display_name": "Python 3 (ipykernel)",
   "language": "python",
   "name": "python3"
  },
  "language_info": {
   "codemirror_mode": {
    "name": "ipython",
    "version": 3
   },
   "file_extension": ".py",
   "mimetype": "text/x-python",
   "name": "python",
   "nbconvert_exporter": "python",
   "pygments_lexer": "ipython3",
   "version": "3.9.12"
  }
 },
 "nbformat": 4,
 "nbformat_minor": 5
}
