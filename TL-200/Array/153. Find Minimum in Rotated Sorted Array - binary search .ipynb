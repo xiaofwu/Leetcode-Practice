{
 "cells": [
  {
   "cell_type": "code",
   "execution_count": null,
   "id": "47b518bb",
   "metadata": {},
   "outputs": [],
   "source": [
    "\"\"\"\n",
    "153. Find Minimum in Rotated Sorted Array\n",
    "Suppose an array of length n sorted in ascending order is rotated between 1 and n times. For example, the array \n",
    "nums = [0,1,2,4,5,6,7] might become:\n",
    "[4,5,6,7,0,1,2] if it was rotated 4 times.\n",
    "[0,1,2,4,5,6,7] if it was rotated 7 times.\n",
    "\n",
    "Notice that rotating an array [a[0], a[1], a[2], ..., a[n-1]] 1 time results in the array [a[n-1], a[0], a[1], a[2], ..., a[n-2]].\n",
    "Given the sorted rotated array nums of unique elements, return the minimum element of this array.\n",
    "You must write an algorithm that runs in O(log n) time.\n",
    "Input: nums = [3,4,5,1,2]          Output: 1       Explanation: The original array was [1,2,3,4,5] rotated 3 times.\n",
    "Input: nums = [11,13,15,17]        Output: 11      Explanation: The original array was [11,13,15,17] and it was rotated 4 times. \n",
    "\"\"\"\n",
    "应该还是binary search。 先找到min。 然后看min在array中的位置\n"
   ]
  },
  {
   "cell_type": "code",
   "execution_count": null,
   "id": "ec4a2ec7",
   "metadata": {},
   "outputs": [],
   "source": [
    "class Solution:\n",
    "    def findMin(self, nums: List[int]) -> int:\n",
    "        \"\"\"\n",
    "        :type nums[int]\n",
    "        :rtype: int\n",
    "        \"\"\"\n",
    "        if not nums:\n",
    "            return 0\n",
    "        \n",
    "        left = 0\n",
    "        right = len(nums) -1\n",
    "        res = nums[0]\n",
    "        \n",
    "        while left <= right:\n",
    "            if nums[left] < nums[right]: # whenever you get a completed sorted subarray, num[left] is smallest\n",
    "                res = min(res, nums[left])\n",
    "                break # to break out of the while loop\n",
    "                \n",
    "            mid = left + (right - left) // 2\n",
    "            res = min(res, nums[mid])\n",
    "            if nums[mid] >= nums[left]: #means left side is ascending, then min is in the right side\n",
    "                left = mid + 1\n",
    "            else:                      #means left side is ascending, then descending. Min must be in this side\n",
    "                right = mid - 1\n",
    "        return res\n",
    "            \n",
    "            \n",
    "            \n",
    "            \n",
    "        "
   ]
  }
 ],
 "metadata": {
  "kernelspec": {
   "display_name": "Python 3 (ipykernel)",
   "language": "python",
   "name": "python3"
  },
  "language_info": {
   "codemirror_mode": {
    "name": "ipython",
    "version": 3
   },
   "file_extension": ".py",
   "mimetype": "text/x-python",
   "name": "python",
   "nbconvert_exporter": "python",
   "pygments_lexer": "ipython3",
   "version": "3.9.12"
  }
 },
 "nbformat": 4,
 "nbformat_minor": 5
}
