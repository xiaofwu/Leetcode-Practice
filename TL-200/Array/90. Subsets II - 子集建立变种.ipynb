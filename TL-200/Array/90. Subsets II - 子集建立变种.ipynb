{
 "cells": [
  {
   "cell_type": "code",
   "execution_count": null,
   "id": "c9d9379a",
   "metadata": {},
   "outputs": [],
   "source": [
    "\"\"\"\n",
    "90. Subsets II\n",
    "Given an integer array nums that may contain duplicates, return all possible subsets (the power set).\n",
    "The solution set must not contain duplicate subsets. Return the solution in any order.\n",
    "\n",
    "Input: nums = [1,2,2]\n",
    "Output: [[],[1],[1,2],[1,2,2],[2],[2,2]]\n",
    "\n",
    "这个是78 subsets 的延伸， 因为有重复element。 这样建立子集时有两个选择\n",
    "1） 如果新的element与前面的不同， 就像78题一样， 把前面集合中的每个小集合中加上这个新的element\n",
    "2） 如果新的element与前面的相同。 我们就只能把这个element加到 处理前面那个相同element时建的小子集， 而不能象1）一样\n",
    "    把它加到大子集中（因为前面的那个相同的element已经干过一次了）\n",
    "\"\"\""
   ]
  },
  {
   "cell_type": "code",
   "execution_count": 2,
   "id": "49480979",
   "metadata": {},
   "outputs": [
    {
     "ename": "NameError",
     "evalue": "name 'List' is not defined",
     "output_type": "error",
     "traceback": [
      "\u001b[0;31m---------------------------------------------------------------------------\u001b[0m",
      "\u001b[0;31mNameError\u001b[0m                                 Traceback (most recent call last)",
      "Input \u001b[0;32mIn [2]\u001b[0m, in \u001b[0;36m<cell line: 1>\u001b[0;34m()\u001b[0m\n\u001b[0;32m----> 1\u001b[0m \u001b[38;5;28;01mclass\u001b[39;00m \u001b[38;5;21;01mSolution\u001b[39;00m:\n\u001b[1;32m      2\u001b[0m     \u001b[38;5;28;01mdef\u001b[39;00m \u001b[38;5;21msubsetsWithDup\u001b[39m(\u001b[38;5;28mself\u001b[39m, nums: List[\u001b[38;5;28mint\u001b[39m]) \u001b[38;5;241m-\u001b[39m\u001b[38;5;241m>\u001b[39m List[List[\u001b[38;5;28mint\u001b[39m]]:\n\u001b[1;32m      3\u001b[0m         \u001b[38;5;124;03m\"\"\"\u001b[39;00m\n\u001b[1;32m      4\u001b[0m \u001b[38;5;124;03m        :type nums: List[int]\u001b[39;00m\n\u001b[1;32m      5\u001b[0m \u001b[38;5;124;03m        :type: List[List[int]]\u001b[39;00m\n\u001b[1;32m      6\u001b[0m \u001b[38;5;124;03m        \"\"\"\u001b[39;00m\n",
      "Input \u001b[0;32mIn [2]\u001b[0m, in \u001b[0;36mSolution\u001b[0;34m()\u001b[0m\n\u001b[1;32m      1\u001b[0m \u001b[38;5;28;01mclass\u001b[39;00m \u001b[38;5;21;01mSolution\u001b[39;00m:\n\u001b[0;32m----> 2\u001b[0m     \u001b[38;5;28;01mdef\u001b[39;00m \u001b[38;5;21msubsetsWithDup\u001b[39m(\u001b[38;5;28mself\u001b[39m, nums: \u001b[43mList\u001b[49m[\u001b[38;5;28mint\u001b[39m]) \u001b[38;5;241m-\u001b[39m\u001b[38;5;241m>\u001b[39m List[List[\u001b[38;5;28mint\u001b[39m]]:\n\u001b[1;32m      3\u001b[0m         \u001b[38;5;124;03m\"\"\"\u001b[39;00m\n\u001b[1;32m      4\u001b[0m \u001b[38;5;124;03m        :type nums: List[int]\u001b[39;00m\n\u001b[1;32m      5\u001b[0m \u001b[38;5;124;03m        :type: List[List[int]]\u001b[39;00m\n\u001b[1;32m      6\u001b[0m \u001b[38;5;124;03m        \"\"\"\u001b[39;00m\n\u001b[1;32m      7\u001b[0m         nums\u001b[38;5;241m.\u001b[39msort()\n",
      "\u001b[0;31mNameError\u001b[0m: name 'List' is not defined"
     ]
    }
   ],
   "source": [
    "class Solution:\n",
    "    def subsetsWithDup(self, nums: List[int]) -> List[List[int]]:\n",
    "        \"\"\"\n",
    "        :type nums: List[int]\n",
    "        :type: List[List[int]]\n",
    "        \"\"\"\n",
    "        nums.sort()\n",
    "        if not nums:\n",
    "            return []\n",
    "        \n",
    "        superset = [[],[nums[0]]] #we need to start from 2nd element. starting superset should have element 1\n",
    "        subPrevious = [[nums[0]]] #we need to start from 2nd element. starting subPrevious should have element 1, but not []\n",
    "        \n",
    "        for i in range(1, len(nums)):\n",
    "            \n",
    "            subCurrent = [] \n",
    "            \n",
    "            if nums[i] != nums[i - 1]: #for a nonduplicate, deal like previous leetcode 78\n",
    "                for j in superset:     #add new value to every subset in previous superset \n",
    "                    subCurrent += [j + [nums[i]]]\n",
    "                \n",
    "            if nums[i] == nums[i - 1]: \n",
    "                for j in subPrevious: #for duplicate, only add value to previous subPrevious, not superset\n",
    "                    subCurrent += [j + [nums[i]]]\n",
    "            \n",
    "            superset += subCurrent\n",
    "            subPrevious = subCurrent\n",
    "                                    \n",
    "        return superset\n",
    "            \n",
    "            \n",
    "        "
   ]
  }
 ],
 "metadata": {
  "kernelspec": {
   "display_name": "Python 3 (ipykernel)",
   "language": "python",
   "name": "python3"
  },
  "language_info": {
   "codemirror_mode": {
    "name": "ipython",
    "version": 3
   },
   "file_extension": ".py",
   "mimetype": "text/x-python",
   "name": "python",
   "nbconvert_exporter": "python",
   "pygments_lexer": "ipython3",
   "version": "3.9.12"
  }
 },
 "nbformat": 4,
 "nbformat_minor": 5
}
