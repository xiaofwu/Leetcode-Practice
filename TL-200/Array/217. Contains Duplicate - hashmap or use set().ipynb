{
 "cells": [
  {
   "cell_type": "code",
   "execution_count": null,
   "id": "6b10c6e7",
   "metadata": {},
   "outputs": [],
   "source": [
    "\"\"\"\n",
    "Leetcode 217 Contains Duplicate\n",
    "Given an integer array nums, return true if any value appears at least twice in the array, \n",
    "and return false if every element is distinct.\n",
    "Input: nums = [1,2,3,1]     Output: true\n",
    "Input: nums = [1,2,3,4]     Output: false\n",
    "\"\"\"\n",
    "#This is a typical \"list to dict conversion\" with value's count of appearance as attribute to build the dict \n",
    "\n",
    "class Solution:\n",
    "    def containsDuplicate(self, nums: List[int]) -> bool:\n",
    "        \"\"\"\n",
    "        :type nums: List[int]\n",
    "        :rtype: bool\n",
    "        \"\"\"\n",
    "        \n",
    "        newDict = {}\n",
    "        if not nums:\n",
    "            return False\n",
    "        \n",
    "        #build a dict from the input list\n",
    "        for value in nums:\n",
    "            if value not in newDict:\n",
    "                newDict[value] = 1\n",
    "            else:\n",
    "                newDict[value] +=1\n",
    "                \n",
    "        #check the dict if there is duplicate\n",
    "        if max(newDict.values()) >= 2:\n",
    "            return True\n",
    "        else:\n",
    "            return False\n",
    "        \n",
    "\"\"\"\n",
    "Runtime: 1053 ms, faster than 5.02% of Python3 online submissions for Contains Duplicate.\n",
    "Memory Usage: 26 MB, less than 30.90% of Python3 online submissions for Contains Duplicate.\n",
    "apprantly, this solution is far away from a good answer.\n",
    "There is very easy way to solve this problem ---- > take advantege of a property of \"set\" \n",
    "----> there is no duplicate allowed in a set.\n",
    "\"\"\"\n",
    "\n",
    "class Solution:\n",
    "    def containsDuplicate(self, nums: List[int]) -> bool:\n",
    "        \"\"\"\n",
    "        :type nums: List[int]\n",
    "        :rtype: bool\n",
    "        \"\"\"\n",
    "        \n",
    "        return len(nums)!= len(set(nums))\n",
    "    \n",
    "    \n",
    "\"\"\"\n",
    "Runtime: 630 ms, faster than 60.84% of Python3 online submissions for Contains Duplicate.\n",
    "Memory Usage: 26.1 MB, less than 30.90% of Python3 online submissions for Contains Duplicate.\n",
    "\"\"\""
   ]
  }
 ],
 "metadata": {
  "kernelspec": {
   "display_name": "Python 3 (ipykernel)",
   "language": "python",
   "name": "python3"
  },
  "language_info": {
   "codemirror_mode": {
    "name": "ipython",
    "version": 3
   },
   "file_extension": ".py",
   "mimetype": "text/x-python",
   "name": "python",
   "nbconvert_exporter": "python",
   "pygments_lexer": "ipython3",
   "version": "3.9.12"
  }
 },
 "nbformat": 4,
 "nbformat_minor": 5
}
