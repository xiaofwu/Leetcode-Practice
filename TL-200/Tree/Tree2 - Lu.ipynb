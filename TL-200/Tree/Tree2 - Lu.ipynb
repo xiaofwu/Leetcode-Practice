{
 "cells": [
  {
   "cell_type": "code",
   "execution_count": null,
   "id": "200f7fe6",
   "metadata": {},
   "outputs": [],
   "source": [
    "1. 104.Maximum depth of binary tree \n",
    "2. 257. Binary Tree Paths\n",
    "3. 94. binary tree inorder traversal\n",
    "4. 111. Minimum depth of binary tree\n",
    "5. 112. path sum\n",
    "6. 144. binary tree preorder traversal\n",
    "7. 145. binary tree postorder traversal\n",
    "8. 199. binary tree right side view\n",
    "9. 394. decode string\n",
    "10. 513. find bottom left tree value\n",
    "11. 515. find largest value in each tree row "
   ]
  },
  {
   "cell_type": "markdown",
   "id": "068629ad",
   "metadata": {},
   "source": [
    "1. 104.Maximum depth of binary tree "
   ]
  },
  {
   "cell_type": "markdown",
   "id": "48453894",
   "metadata": {},
   "source": [
    "2. 257. Binary Tree Paths"
   ]
  },
  {
   "cell_type": "code",
   "execution_count": null,
   "id": "673000dd",
   "metadata": {},
   "outputs": [],
   "source": [
    "class Solution:\n",
    "    def binaryTreePaths(self, root):\n",
    "        \"\"\"\n",
    "        :type root: TreeNode\n",
    "        :rtype: List[str]\n",
    "        \"\"\"\n",
    "        def construct_paths(root, path):\n",
    "            if root:\n",
    "                path += str(root.val)\n",
    "                if not root.left and not root.right:  # if reach a leaf\n",
    "                    paths.append(path)  # update paths  \n",
    "                else:\n",
    "                    path += '->'  # extend the current path\n",
    "                    construct_paths(root.left, path)\n",
    "                    construct_paths(root.right, path)\n",
    "\n",
    "        paths = []\n",
    "        construct_paths(root, '')\n",
    "        return paths\n",
    "#from leetcode\n",
    "#here else, you only append one '->' , if check left and right, you will have one more '->'\n",
    "#T:O(N) S: path store>> less then logN(leave node...N/2??? why it said logN), call stack, O(H) logN ~N\n"
   ]
  },
  {
   "cell_type": "markdown",
   "id": "fd5da4a3",
   "metadata": {},
   "source": [
    "3. 94. binary tree inorder traversal"
   ]
  },
  {
   "cell_type": "code",
   "execution_count": null,
   "id": "55fb6ae9",
   "metadata": {},
   "outputs": [],
   "source": [
    "class Solution:\n",
    "    def inorderTraversal(self, root: Optional[TreeNode]) -> List[int]:\n",
    "        \n",
    "        def dfs(root,ans):\n",
    "            if not root: return \n",
    "            if root.left:\n",
    "                dfs(root.left,ans)\n",
    "            ans.append(root.val)\n",
    "            if root.right:\n",
    "                dfs(root.right,ans)\n",
    "                \n",
    "        ans = []\n",
    "        dfs(root,ans)\n",
    "        return ans"
   ]
  },
  {
   "cell_type": "markdown",
   "id": "82fa00d9",
   "metadata": {},
   "source": [
    "4. 111. Minimum depth of binary tree"
   ]
  },
  {
   "cell_type": "code",
   "execution_count": null,
   "id": "0ec5e284",
   "metadata": {},
   "outputs": [],
   "source": [
    "        def dfs(root,depth):\n",
    "            if not root:\n",
    "                return \n",
    "            if not root.left and not root.right:\n",
    "                self.min_depth = min(depth,self.min_depth)\n",
    "            dfs(root.left,depth + 1)\n",
    "            dfs(root.right,depth + 1)\n",
    "        if not root:\n",
    "            return 0\n",
    "        self.min_depth = 10**5\n",
    "        dfs(root,1)\n",
    "        return self.min_depth"
   ]
  },
  {
   "cell_type": "code",
   "execution_count": null,
   "id": "b0a2d2d1",
   "metadata": {},
   "outputs": [],
   "source": [
    "class Solution(object):\n",
    "    def minDFS(self, counter, rL, root):\n",
    "        if not root.left and not root.right:\n",
    "            return rL.append(counter)\n",
    "        if root.left:\n",
    "            self.minDFS(counter+1, rL, root.left)\n",
    "        if root.right:\n",
    "            self.minDFS(counter+1, rL, root.right)\n",
    "    \n",
    "    def minDepth(self, root):\n",
    "        \"\"\"\n",
    "        :type root: TreeNode\n",
    "        :rtype: int\n",
    "        \"\"\"\n",
    "        counter = 0\n",
    "        rL = []\n",
    "        if not root:\n",
    "            return 0\n",
    "        self.minDFS(1, rL, root)\n",
    "        return min(rL)"
   ]
  },
  {
   "cell_type": "markdown",
   "id": "5ac96c5b",
   "metadata": {},
   "source": [
    "5. 112. path sum"
   ]
  },
  {
   "cell_type": "code",
   "execution_count": null,
   "id": "cbdf2af1",
   "metadata": {},
   "outputs": [],
   "source": [
    "class Solution:\n",
    "    def hasPathSum(self, root: Optional[TreeNode], targetSum: int) -> bool:\n",
    "\n",
    "    \n",
    "        def sumDFS(root, rint, rL):\n",
    "            if root.left == None and root.right == None:\n",
    "                rL.append(rint)\n",
    "            if root.left:\n",
    "                sumDFS(root.left, rint+root.left.val, rL)\n",
    "            if root.right:\n",
    "                sumDFS(root.right, rint+root.right.val, rL)   \n",
    "\n",
    "  \n",
    "        rint = 0\n",
    "        rL = []\n",
    "        if not root:\n",
    "            return False\n",
    "        sumDFS(root, rint+root.val, rL)\n",
    "        return (targetSum in rL)"
   ]
  },
  {
   "cell_type": "markdown",
   "id": "6ffd95d1",
   "metadata": {},
   "source": [
    "6. 144. binary tree preorder traversal"
   ]
  },
  {
   "cell_type": "code",
   "execution_count": null,
   "id": "89a0c1d2",
   "metadata": {},
   "outputs": [],
   "source": [
    "class Solution:\n",
    "    def preorderTraversal(self, root: Optional[TreeNode]) -> List[int]:\n",
    "        \n",
    "        def dfs(root,ans):\n",
    "            if not root: return \n",
    "            \n",
    "            ans.append(root.val)\n",
    "            if root.left:\n",
    "                dfs(root.left, ans)\n",
    "            if root.right:\n",
    "                dfs(root.right,ans)\n",
    "        ans = []\n",
    "        dfs(root,ans)\n",
    "        return ans"
   ]
  },
  {
   "cell_type": "markdown",
   "id": "3a8d22bd",
   "metadata": {},
   "source": [
    "7. 145. binary tree postorder traversal"
   ]
  },
  {
   "cell_type": "code",
   "execution_count": null,
   "id": "e4a223f6",
   "metadata": {},
   "outputs": [],
   "source": [
    "class Solution:\n",
    "    def preorderTraversal(self, root: Optional[TreeNode]) -> List[int]:\n",
    "        \n",
    "        def dfs(root,ans):\n",
    "            if not root: return \n",
    "            \n",
    "            if root.left:\n",
    "                dfs(root.left, ans)\n",
    "            if root.right:\n",
    "                dfs(root.right,ans)\n",
    "            ans.append(root.val)\n",
    "        ans = []\n",
    "        dfs(root,ans)\n",
    "        return ans"
   ]
  },
  {
   "cell_type": "markdown",
   "id": "0bb980be",
   "metadata": {},
   "source": [
    "8. 199. binary tree right side view"
   ]
  },
  {
   "cell_type": "code",
   "execution_count": null,
   "id": "4949fc1f",
   "metadata": {},
   "outputs": [],
   "source": [
    "class Solution:\n",
    "    def rightSideView(self, root: Optional[TreeNode]) -> List[int]:\n",
    "        if not root: return []\n",
    "        \n",
    "        queue = [root]\n",
    "        \n",
    "        ans = []\n",
    "        \n",
    "        while queue:\n",
    "            size = len(queue)\n",
    "            for _ in range(size):\n",
    "                temp = queue.pop(0)\n",
    "                if temp.left:\n",
    "                    queue.append(temp.left)\n",
    "                if temp.right:\n",
    "                    queue.append(temp.right)\n",
    "            ans.append(temp.val)\n",
    "        return ans"
   ]
  },
  {
   "cell_type": "markdown",
   "id": "642c7bd5",
   "metadata": {},
   "source": [
    "9. 394. decode string"
   ]
  },
  {
   "cell_type": "code",
   "execution_count": null,
   "id": "d06fcc6f",
   "metadata": {},
   "outputs": [],
   "source": [
    "class Solution:\n",
    "    def decodeString(self, string: str) -> str:\n",
    "        ## RC ##        \n",
    "        ## APPROACH : 2 Stacks ##\n",
    "        \n",
    "\t\t## TIME COMPLEXITY : O(N) ##\n",
    "\t\t## SPACE COMPLEXITY : O(N) ##\n",
    "\n",
    "        nums = []\n",
    "        strs = []\n",
    "        num = \"\"\n",
    "        s = \"\"\n",
    "        for i, ch in enumerate(string):\n",
    "            if ch.isdigit():\n",
    "                num += ch\n",
    "            elif ch == \"[\":\n",
    "                nums.append(int(num))\n",
    "                strs.append(s)\n",
    "                num = \"\"\n",
    "                s = \"\"\n",
    "            elif ch == \"]\":\n",
    "                s =  strs.pop() + nums.pop() * s        # watchout, replacing with the same string\n",
    "            else:\n",
    "                s += ch\n",
    "        return s"
   ]
  },
  {
   "cell_type": "markdown",
   "id": "8c86aae5",
   "metadata": {},
   "source": [
    "10. 513. find bottom left tree value"
   ]
  },
  {
   "cell_type": "code",
   "execution_count": null,
   "id": "ccbfb7a1",
   "metadata": {},
   "outputs": [],
   "source": [
    "class Solution(object):\n",
    "    \n",
    "    def findBottomLeftValue(self, root):\n",
    "        \"\"\"\n",
    "        :type root: TreeNode\n",
    "        :rtype: int\n",
    "        \"\"\"\n",
    "        if not root:\n",
    "            return []\n",
    "        \n",
    "        queue =[root]\n",
    "       \n",
    "        \n",
    "        while queue:\n",
    "            size = len(queue)\n",
    "            res = []\n",
    "            for _ in range(size):\n",
    "                temp = queue.pop(0)\n",
    "                res.append(temp.val)\n",
    "                if temp.left:\n",
    "                    queue.append(temp.left)\n",
    "                if temp.right:\n",
    "                    queue.append(temp.right)\n",
    "            \n",
    "        return res[0]"
   ]
  },
  {
   "cell_type": "code",
   "execution_count": null,
   "id": "9c8efcbb",
   "metadata": {},
   "outputs": [],
   "source": [
    "T: O(N) S: O(1) >> O(logN)"
   ]
  },
  {
   "cell_type": "markdown",
   "id": "0471f8c3",
   "metadata": {},
   "source": [
    "11. 515. find largest value in each tree row "
   ]
  },
  {
   "cell_type": "code",
   "execution_count": null,
   "id": "82266e98",
   "metadata": {},
   "outputs": [],
   "source": [
    "class Solution:\n",
    "    def largestValues(self, root: Optional[TreeNode]) -> List[int]:\n",
    "        ans = []\n",
    "        if not root:\n",
    "            return ans\n",
    "\n",
    "        \n",
    "        queue = [root]\n",
    "        \n",
    "        while queue:\n",
    "            size = len(queue)\n",
    "            res = []\n",
    "           \n",
    "            for _ in range(size):\n",
    "                a = queue.pop(0)\n",
    "                res.append(a.val)\n",
    "                if a.left:\n",
    "                    queue.append(a.left)\n",
    "                if a.right:\n",
    "                    queue.append(a.right)\n",
    "                result = max(res)\n",
    "            ans.append(result)\n",
    "        return ans"
   ]
  },
  {
   "cell_type": "code",
   "execution_count": null,
   "id": "329d1c62",
   "metadata": {},
   "outputs": [],
   "source": [
    "T: O(N) S: O(H) logN - N"
   ]
  }
 ],
 "metadata": {
  "kernelspec": {
   "display_name": "Python 3 (ipykernel)",
   "language": "python",
   "name": "python3"
  },
  "language_info": {
   "codemirror_mode": {
    "name": "ipython",
    "version": 3
   },
   "file_extension": ".py",
   "mimetype": "text/x-python",
   "name": "python",
   "nbconvert_exporter": "python",
   "pygments_lexer": "ipython3",
   "version": "3.9.12"
  }
 },
 "nbformat": 4,
 "nbformat_minor": 5
}
