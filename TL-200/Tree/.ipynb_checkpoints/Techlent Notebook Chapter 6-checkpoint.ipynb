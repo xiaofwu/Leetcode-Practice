{
 "cells": [
  {
   "cell_type": "markdown",
   "id": "53e01b79",
   "metadata": {},
   "source": [
    "## <font color='red'>104.Maximum depth of binary tree </font>"
   ]
  },
  {
   "cell_type": "markdown",
   "id": "faf472b9",
   "metadata": {},
   "source": [
    "Given the root of a binary tree, return its maximum depth.\n",
    "\n",
    "A binary tree's maximum depth is the number of nodes along the longest path from the root node down to the farthest leaf node."
   ]
  },
  {
   "cell_type": "code",
   "execution_count": null,
   "id": "7315d544",
   "metadata": {},
   "outputs": [],
   "source": [
    "### recursive version\n",
    "class Solution:\n",
    "    def maxDepth(self, root: Optional[TreeNode]) -> int:\n",
    "        if not root: return 0\n",
    "        else:\n",
    "            L_depth = self.maxDepth(root.left) + 1\n",
    "            R_depth = self.maxDepth(root.right) + 1\n",
    "        return max(L_depth, R_depth)"
   ]
  },
  {
   "cell_type": "code",
   "execution_count": null,
   "id": "48b32ca5",
   "metadata": {},
   "outputs": [],
   "source": [
    "### dfs version\n",
    "class Solution:\n",
    "    \n",
    "    def maxDepth(self, root: Optional[TreeNode]) -> int:\n",
    "        if not root: return 0\n",
    "        \n",
    "        self.max =1\n",
    "        self.dfs(root, self.max)\n",
    "        \n",
    "        return self.max\n",
    "    \n",
    "    def dfs(self, root, ct):\n",
    "        # can not use if not root here?\n",
    "        if not root.left and not root.right:\n",
    "            self.max = max(ct, self.max)\n",
    "        if root.left:\n",
    "            self.dfs(root.left, ct+1)\n",
    "        if root.right:\n",
    "            self.dfs(root.right, ct+1)"
   ]
  },
  {
   "cell_type": "markdown",
   "id": "7e888d0b",
   "metadata": {},
   "source": [
    "## <font color='red'> 257. Binary Tree Paths\n",
    " </font>"
   ]
  },
  {
   "cell_type": "markdown",
   "id": "bb4d0dc1",
   "metadata": {},
   "source": [
    "Given the root of a binary tree, return all root-to-leaf paths in any order.\n",
    "\n",
    "A leaf is a node with no children."
   ]
  },
  {
   "cell_type": "code",
   "execution_count": null,
   "id": "13c2c7d6",
   "metadata": {},
   "outputs": [],
   "source": [
    "### recursive version\n",
    "class Solution:\n",
    "    def binaryTreePaths(self, root: Optional[TreeNode]) -> List[str]:\n",
    "        \n",
    "        if not root: return []\n",
    "        \n",
    "        if not root.left and not root.right:\n",
    "            return [str(root.val)]\n",
    "    \n",
    "        treepaths = [str(root.val) +'->' + path for path in self.binaryTreePaths(root.left)]\n",
    "        treepaths += [str(root.val) + '->' + path for path in self.binaryTreePaths(root.right)]\n",
    "        \n",
    "        return treepaths"
   ]
  },
  {
   "cell_type": "code",
   "execution_count": null,
   "id": "d824f628",
   "metadata": {},
   "outputs": [],
   "source": [
    "### dfs version\n",
    "class Solution:\n",
    "    def binaryTreePaths(self, root: Optional[TreeNode]) -> List[str]:\n",
    "        \n",
    "        if not root:\n",
    "            return []\n",
    "        res = []\n",
    "        self.dfs(root, \"\", res)\n",
    "        return res\n",
    "    \n",
    "    def dfs(self, root, ls, res):\n",
    "        # we can not use if not root here.\n",
    "        if not root.left and not root.right:\n",
    "            res.append(ls+str(root.val))\n",
    "            \n",
    "        if root.left:\n",
    "            self.dfs(root.left, ls+str(root.val)+\"->\", res)\n",
    "        if root.right:\n",
    "            self.dfs(root.right, ls+str(root.val)+\"->\", res)"
   ]
  },
  {
   "cell_type": "markdown",
   "id": "34dd8954",
   "metadata": {},
   "source": [
    "## <font color='red'> 94. Binary Tree Inorder Traversal</font>"
   ]
  },
  {
   "cell_type": "markdown",
   "id": "5409d3b8",
   "metadata": {},
   "source": [
    "Given the root of a binary tree, return the inorder traversal of its nodes' values."
   ]
  },
  {
   "cell_type": "code",
   "execution_count": null,
   "id": "c320d142",
   "metadata": {},
   "outputs": [],
   "source": [
    "### recursive version\n",
    "class Solution:\n",
    "    def inorderTraversal(self, root: Optional[TreeNode]) -> List[int]:\n",
    "        # recursive\n",
    "        if not root: return []\n",
    "        \n",
    "        return self.inorderTraversal(root.left)+[root.val]+self.inorderTraversal(root.right)"
   ]
  },
  {
   "cell_type": "code",
   "execution_count": null,
   "id": "095bf23c",
   "metadata": {},
   "outputs": [],
   "source": [
    "### dfs version\n",
    "class Solution:\n",
    "    def inorderTraversal(self, root: Optional[TreeNode]) -> List[int]:\n",
    "        if not root: return []\n",
    "        \n",
    "        res = []\n",
    "        self.dfs(root, res)\n",
    "        return res\n",
    "    \n",
    "    def dfs(self, root, lst):\n",
    "        if not root: return\n",
    "        \n",
    "        if root.left:\n",
    "            self.dfs(root.left, lst)\n",
    "        lst.append(root.val)\n",
    "        if root.right:\n",
    "            self.dfs(root.right, lst)"
   ]
  },
  {
   "cell_type": "markdown",
   "id": "98f43e4f",
   "metadata": {},
   "source": [
    "## <font color='red'> 111. Minimum Depth of Binary Tree  </font>"
   ]
  },
  {
   "cell_type": "markdown",
   "id": "4107ef67",
   "metadata": {},
   "source": [
    "Given a binary tree, find its minimum depth.\n",
    "\n",
    "The minimum depth is the number of nodes along the shortest path from the root node down to the nearest leaf node.\n",
    "\n",
    "Note: A leaf is a node with no children."
   ]
  },
  {
   "cell_type": "code",
   "execution_count": null,
   "id": "ab73afa9",
   "metadata": {},
   "outputs": [],
   "source": [
    "### recursive version\n",
    "class Solution:\n",
    "    def minDepth(self, root: Optional[TreeNode]) -> int:\n",
    "\n",
    "        if not root: return 0;\n",
    "        \n",
    "        L = self.minDepth(root.left);\n",
    "        R = self.minDepth(root.right);\n",
    "        \n",
    "        return L + R + 1 if L == 0 or R == 0 else min(L, R) + 1;"
   ]
  },
  {
   "cell_type": "code",
   "execution_count": null,
   "id": "d9b81293",
   "metadata": {},
   "outputs": [],
   "source": [
    "### recursive version - a more intuitive one\n",
    "class Solution:\n",
    "    def minDepth(self, root: Optional[TreeNode]) -> int:\n",
    "\n",
    "        if not root:\n",
    "            return 0\n",
    "        if not root.left and not root.right:\n",
    "            return 1\n",
    "        \n",
    "        if root.left and not root.right:\n",
    "            return 1 + self.minDepth(root.left)\n",
    "        if root.right and not root.left:\n",
    "            return 1 + self.minDepth(root.right)\n",
    "        \n",
    "        return 1 + min(self.minDepth(root.left), self.minDepth(root.right))"
   ]
  },
  {
   "cell_type": "code",
   "execution_count": null,
   "id": "804a819c",
   "metadata": {},
   "outputs": [],
   "source": [
    "### DFS version from notebook\n",
    "class Solution:\n",
    "    def minDepth(self, root: Optional[TreeNode]) -> int:\n",
    "\n",
    "        ct = 0\n",
    "        res = []\n",
    "\n",
    "        if not root: return 0\n",
    "        self.minDFS(1, res, root)\n",
    "        \n",
    "        return min(res)\n",
    "        \n",
    "    def minDFS(self, ct, res, root):\n",
    "        # can not use if not root\n",
    "        if not root.left and not root.right: \n",
    "            return res.append(ct)\n",
    "        if root.left:\n",
    "            self.minDFS(ct+1, res, root.left)\n",
    "        if root.right:\n",
    "            self.minDFS(ct+1, res, root.right)"
   ]
  },
  {
   "cell_type": "markdown",
   "id": "2ecddeb4",
   "metadata": {},
   "source": [
    "## <font color='red'> 112. Path Sum </font>"
   ]
  },
  {
   "cell_type": "markdown",
   "id": "d066077c",
   "metadata": {},
   "source": [
    "Given the root of a binary tree and an integer targetSum, return true if the tree has a root-to-leaf path such that adding up all the values along the path equals targetSum.\n",
    "\n",
    "A leaf is a node with no children."
   ]
  },
  {
   "cell_type": "code",
   "execution_count": null,
   "id": "cd1a61e5",
   "metadata": {},
   "outputs": [],
   "source": [
    "### recursive version base on \"minus\"\n",
    "class Solution:\n",
    "    def hasPathSum(self, root, targetSum):\n",
    "        if not root:\n",
    "            return False\n",
    "\n",
    "        if not root.left and not root.right and root.val == targetSum:\n",
    "            return True\n",
    "        \n",
    "        targetSum -= root.val\n",
    "\n",
    "        return self.hasPathSum(root.left, targetSum) or self.hasPathSum(root.right, targetSum)"
   ]
  },
  {
   "cell_type": "code",
   "execution_count": null,
   "id": "167077b2",
   "metadata": {},
   "outputs": [],
   "source": [
    "### DFS version base on \"minus\"\n",
    "class Solution:\n",
    "    def hasPathSum(self, root: Optional[TreeNode], targetSum: int) -> bool:\n",
    "        \n",
    "        res = []\n",
    "        self.dfs(root, targetSum, res)\n",
    "        return any(res)\n",
    "    \n",
    "    def dfs(self, root, targetSum, res):\n",
    "        if root:\n",
    "            if not root.left and not root.right and root.val == targetSum:\n",
    "                res.append(True)\n",
    "            if root.left:\n",
    "                self.dfs(root.left, targetSum-root.val, res)\n",
    "            if root.right:\n",
    "                self.dfs(root.right, targetSum-root.val, res)"
   ]
  },
  {
   "cell_type": "code",
   "execution_count": null,
   "id": "e9252154",
   "metadata": {},
   "outputs": [],
   "source": [
    "### DFS version base on \"calculate all path\"\n",
    "class Solution:\n",
    "    def hasPathSum(self, root: Optional[TreeNode], targetSum: int) -> bool:\n",
    "        res = []\n",
    "        if not root:\n",
    "            return False\n",
    "        \n",
    "        def dfs(r,path):\n",
    "            if not r.left and not r.right:\n",
    "                path+=[r.val]\n",
    "                res.append(path)\n",
    "                return\n",
    "            if r.left:\n",
    "                dfs(r.left,path+[r.val])\n",
    "            if r.right:\n",
    "                dfs(r.right,path+[r.val])\n",
    "            return \n",
    "        dfs(root,[])\n",
    "\n",
    "        for arr in res:\n",
    "            if sum(arr)==targetSum:\n",
    "                return True\n",
    "        return False      "
   ]
  },
  {
   "cell_type": "markdown",
   "id": "8a63cc04",
   "metadata": {},
   "source": [
    "## <font color='red'> 144. Binary Tree Preorder Traversal\n",
    " </font>"
   ]
  },
  {
   "cell_type": "markdown",
   "id": "5974c67a",
   "metadata": {},
   "source": [
    "Given the root of a binary tree, return the preorder traversal of its nodes' values."
   ]
  },
  {
   "cell_type": "code",
   "execution_count": null,
   "id": "cbdca483",
   "metadata": {},
   "outputs": [],
   "source": [
    "class Solution:\n",
    "    def preorderTraversal(self, root: Optional[TreeNode]) -> List[int]:\n",
    "        if not root:\n",
    "            return []\n",
    "        \n",
    "        return [root.val] + self.preorderTraversal(root.left) + self.preorderTraversal(root.right)"
   ]
  },
  {
   "cell_type": "code",
   "execution_count": null,
   "id": "05e3dd77",
   "metadata": {},
   "outputs": [],
   "source": [
    "class Solution:\n",
    "    def preorderTraversal(self, root: Optional[TreeNode]) -> List[int]:\n",
    "        res = []\n",
    "        self.dfs(root, res)\n",
    "        return res\n",
    "    \n",
    "    def dfs(self, root, res):\n",
    "        if root:\n",
    "            res.append(root.val)\n",
    "            self.dfs(root.left, res)\n",
    "            self.dfs(root.right, res)"
   ]
  },
  {
   "cell_type": "code",
   "execution_count": null,
   "id": "5589a4f1",
   "metadata": {},
   "outputs": [],
   "source": [
    "def preorderTraversal(self, root):\n",
    "    stack, res = [root], []\n",
    "    while stack:\n",
    "        node = stack.pop()\n",
    "        if node:\n",
    "            res.append(node.val)\n",
    "            stack.append(node.right)\n",
    "            stack.append(node.left)\n",
    "    return res"
   ]
  },
  {
   "cell_type": "markdown",
   "id": "933bcd5a",
   "metadata": {},
   "source": [
    "## <font color='red'> 145. Binary Tree Postorder Traversal\n",
    " </font>"
   ]
  },
  {
   "cell_type": "code",
   "execution_count": null,
   "id": "1eb74891",
   "metadata": {},
   "outputs": [],
   "source": [
    "class Solution:\n",
    "    def postorderTraversal(self, root: Optional[TreeNode]) -> List[int]:\n",
    "        if not root:\n",
    "            return []\n",
    "        \n",
    "        return  self.postorderTraversal(root.left) + self.postorderTraversal(root.right) + [root.val]"
   ]
  },
  {
   "cell_type": "code",
   "execution_count": null,
   "id": "1f57d243",
   "metadata": {},
   "outputs": [],
   "source": [
    "class Solution:\n",
    "    def postorderTraversal(self, root: Optional[TreeNode]) -> List[int]:\n",
    "        res = []\n",
    "        self.dfs(root, res)\n",
    "        return res\n",
    "    \n",
    "    def dfs(self, root, res):\n",
    "        if root:\n",
    "            self.dfs(root.left, res)\n",
    "            self.dfs(root.right, res)\n",
    "            res.append(root.val)"
   ]
  },
  {
   "cell_type": "code",
   "execution_count": null,
   "id": "712a07dc",
   "metadata": {},
   "outputs": [],
   "source": [
    "class Solution:\n",
    "    def postorderTraversal(self, root: Optional[TreeNode]) -> List[int]:\n",
    "\n",
    "        traversal, stack = [], [root]\n",
    "        while stack:\n",
    "            node = stack.pop()\n",
    "            if node:\n",
    "                # pre-order, right first\n",
    "                traversal.append(node.val)\n",
    "                stack.append(node.left)\n",
    "                stack.append(node.right)\n",
    "\n",
    "        # reverse result\n",
    "        return traversal[::-1]"
   ]
  },
  {
   "cell_type": "markdown",
   "id": "ccb45a1d",
   "metadata": {},
   "source": [
    "## <font color='red'>199. Binary Tree Right Side View\n",
    " </font>"
   ]
  },
  {
   "cell_type": "markdown",
   "id": "fc393237",
   "metadata": {},
   "source": [
    "Given the root of a binary tree, imagine yourself standing on the right side of it, return the values of the nodes you can see ordered from top to bottom."
   ]
  },
  {
   "cell_type": "code",
   "execution_count": null,
   "id": "cd36695c",
   "metadata": {},
   "outputs": [],
   "source": [
    "# Solution 2: Recursive, first come first serve: 9 lines, 48 ms\n",
    "# DFS-traverse the tree right-to-left, add values to the view whenever we first reach a new \n",
    "# record depth. This is O(n).\n",
    "# easiest to understand\n",
    "class Solution:\n",
    "    def rightSideView(self, root: Optional[TreeNode]) -> List[int]:\n",
    "        def collect(root, depth):\n",
    "            if root:\n",
    "                if depth == len(view):\n",
    "                    view.append(root.val)\n",
    "                collect(root.right, depth + 1)\n",
    "                collect(root.left, depth + 1)\n",
    "        view = []\n",
    "        collect(root, 0)\n",
    "        return view"
   ]
  },
  {
   "cell_type": "code",
   "execution_count": null,
   "id": "09d27b08",
   "metadata": {},
   "outputs": [],
   "source": [
    "class Solution:\n",
    "    def rightSideView(self, root: TreeNode) -> List[int]:\n",
    "        self.level_vals=[]\n",
    "        \n",
    "        def traverse(node, level):\n",
    "            if not node:\n",
    "                return\n",
    "            if len(self.level_vals)>level:\n",
    "                self.level_vals[level]=node.val\n",
    "            else:\n",
    "                self.level_vals.append(node.val)\n",
    "                \n",
    "            traverse(node.left, level+1)\n",
    "            traverse(node.right, level+1)\n",
    "       \n",
    "        traverse(root,0)\n",
    "        return self.level_vals"
   ]
  },
  {
   "cell_type": "code",
   "execution_count": null,
   "id": "fb5a33f3",
   "metadata": {},
   "outputs": [],
   "source": [
    "# Solution 3: Iterative, level-by-level: 7 lines, 48 ms\n",
    "# Traverse the tree level by level and add the last value of each level to the view. This is O(n).\n",
    "\n",
    "class Solution:\n",
    "    def rightSideView(self, root: Optional[TreeNode]) -> List[int]:\n",
    "        view = []\n",
    "        if root:\n",
    "            level = [root]\n",
    "            while level:\n",
    "                view += level[-1].val,\n",
    "                level = [kid for node in level for kid in (node.left, node.right) if kid]\n",
    "        return view"
   ]
  },
  {
   "cell_type": "markdown",
   "id": "f938434c",
   "metadata": {},
   "source": [
    "## <font color='red'> 394. Decode String </font>"
   ]
  },
  {
   "cell_type": "markdown",
   "id": "2cf0ec2b",
   "metadata": {},
   "source": [
    "Given an encoded string, return its decoded string.\n",
    "\n",
    "The encoding rule is: k[encoded_string], where the encoded_string inside the square brackets is being repeated exactly k times. Note that k is guaranteed to be a positive integer.\n",
    "\n",
    "You may assume that the input string is always valid; there are no extra white spaces, square brackets are well-formed, etc. Furthermore, you may assume that the original data does not contain any digits and that digits are only for those repeat numbers, k. For example, there will not be input like 3a or 2[4].\n",
    "\n",
    "The test cases are generated so that the length of the output will never exceed 105.\n",
    "\n",
    "Input: s = \"3[a]2[bc]\"   Output: \"aaabcbc\""
   ]
  },
  {
   "cell_type": "code",
   "execution_count": null,
   "id": "b090c0bf",
   "metadata": {},
   "outputs": [],
   "source": [
    "# from MaxMing\n",
    "class Solution:\n",
    "    def decodeString(self, s: str) -> str:\n",
    "        stack = []\n",
    "        cur_num = cur_str = ''\n",
    "        \n",
    "        for c in s:\n",
    "            # we append empty '' and num into the stack when we meet a '['\n",
    "            # we then start to grow cur_str until we meet a ']'\n",
    "            # when we meet a ']', we start to pop num and cur_str \n",
    "            # we use cur_str * num and add it to the \n",
    "            if c == '[':\n",
    "                stack.append(cur_str)\n",
    "                stack.append(int(cur_num))\n",
    "                cur_num = cur_str = ''\n",
    "            elif c == ']':\n",
    "                num = stack.pop()\n",
    "                prev_str = stack.pop()\n",
    "                cur_str = prev_str + cur_str * num\n",
    "            elif c.isdigit():\n",
    "                cur_num += c\n",
    "            else:\n",
    "                cur_str += c\n",
    "        return cur_str"
   ]
  },
  {
   "cell_type": "markdown",
   "id": "bd130ae1",
   "metadata": {},
   "source": [
    "## <font color='red'> 513. Find Bottom Left Tree Value\n",
    " </font>"
   ]
  },
  {
   "cell_type": "markdown",
   "id": "ad41a323",
   "metadata": {},
   "source": [
    "Given the root of a binary tree, return the leftmost value in the last row of the tree."
   ]
  },
  {
   "cell_type": "code",
   "execution_count": null,
   "id": "76d0a4a1",
   "metadata": {},
   "outputs": [],
   "source": [
    "# similar to 199\n",
    "class Solution:\n",
    "    def findBottomLeftValue(self, root: Optional[TreeNode]) -> int:\n",
    "        \n",
    "        left_most = []\n",
    "        \n",
    "        def dfs(node, parent_depth):            \n",
    "            my_depth = parent_depth + 1\n",
    "            \n",
    "            if my_depth > len(left_most):\n",
    "                left_most.append(node.val)\n",
    "                        \n",
    "            if node.left:\n",
    "                dfs(node.left, my_depth)\n",
    "            if node.right:\n",
    "                dfs(node.right, my_depth)\n",
    "\n",
    "        dfs(root, 0)        \n",
    "        return left_most[-1]"
   ]
  },
  {
   "cell_type": "code",
   "execution_count": null,
   "id": "6195cceb",
   "metadata": {},
   "outputs": [],
   "source": [
    "class Solution:\n",
    "    def findBottomLeftValue(self, root: Optional[TreeNode]) -> int:\n",
    "        queue = [root]\n",
    "        for node in queue:\n",
    "            if node.right:\n",
    "                queue += [node.right]\n",
    "            if node.left:\n",
    "                queue += [node.left]\n",
    "        return node.val"
   ]
  },
  {
   "cell_type": "markdown",
   "id": "3f75a71f",
   "metadata": {},
   "source": [
    "## <font color='red'> 515. Find Largest Value in Each Tree Row\n",
    " </font>"
   ]
  },
  {
   "cell_type": "markdown",
   "id": "3b5c3c4c",
   "metadata": {},
   "source": [
    "Given the root of a binary tree, return an array of the largest value in each row of the tree (0-indexed)."
   ]
  },
  {
   "cell_type": "code",
   "execution_count": null,
   "id": "3418cf22",
   "metadata": {},
   "outputs": [],
   "source": [
    "class Solution:\n",
    "    def largestValues(self, root: Optional[TreeNode]) -> List[int]:\n",
    "        max_array, self.n = [], 0\n",
    "\n",
    "        def dfs(cur_node: Optional[TreeNode], cur_row: int):\n",
    "            if not cur_node:\n",
    "                return\n",
    "\n",
    "            if cur_row == self.n:\n",
    "                self.n += 1\n",
    "                max_array.append(cur_node.val)\n",
    "\n",
    "            max_array[cur_row] = max(max_array[cur_row], cur_node.val)\n",
    "\n",
    "            dfs(cur_node.left, cur_row + 1)\n",
    "            dfs(cur_node.right, cur_row + 1)\n",
    "\n",
    "        dfs(root, 0)\n",
    "        return max_array"
   ]
  }
 ],
 "metadata": {
  "kernelspec": {
   "display_name": "Python 3 (ipykernel)",
   "language": "python",
   "name": "python3"
  },
  "language_info": {
   "codemirror_mode": {
    "name": "ipython",
    "version": 3
   },
   "file_extension": ".py",
   "mimetype": "text/x-python",
   "name": "python",
   "nbconvert_exporter": "python",
   "pygments_lexer": "ipython3",
   "version": "3.9.12"
  }
 },
 "nbformat": 4,
 "nbformat_minor": 5
}
