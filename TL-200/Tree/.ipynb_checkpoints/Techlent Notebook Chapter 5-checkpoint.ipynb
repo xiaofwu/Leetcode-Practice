{
 "cells": [
  {
   "cell_type": "markdown",
   "id": "a83c1b93",
   "metadata": {},
   "source": [
    "## <font color='red'> 104. Maximum Depth of Binary Tree </font>"
   ]
  },
  {
   "cell_type": "markdown",
   "id": "fc9cee40",
   "metadata": {},
   "source": [
    "Given the root of a binary tree, return its maximum depth.\n",
    "\n",
    "A binary tree's maximum depth is the number of nodes along the longest path from the root \n",
    "node down to the farthest leaf node.\n",
    "\n",
    "Input: root = [3,9,20,null,null,15,7]               Output: 3"
   ]
  },
  {
   "cell_type": "code",
   "execution_count": null,
   "id": "191c0bb1",
   "metadata": {},
   "outputs": [],
   "source": [
    "# Definition for a binary tree node.\n",
    "# class TreeNode:\n",
    "#     def __init__(self, val=0, left=None, right=None):\n",
    "#         self.val = val\n",
    "#         self.left = left\n",
    "#         self.right = right\n",
    "class Solution:\n",
    "    def maxDepth(self, root: Optional[TreeNode]) -> int:\n",
    "        \"\"\"\n",
    "        :Type root: TreeNode\n",
    "        :rtype: int\n",
    "        \"\"\"\n",
    "\n",
    "        if not root:\n",
    "            return 0\n",
    "        \n",
    "        left = self.maxDepth(root.left)\n",
    "        right = self.maxDepth(root.right)\n",
    "        \n",
    "        return max(left, right) + 1"
   ]
  },
  {
   "cell_type": "markdown",
   "id": "07f86c22",
   "metadata": {},
   "source": [
    "## <font color='red'> 67. Add Binary </font>"
   ]
  },
  {
   "cell_type": "markdown",
   "id": "555b83e7",
   "metadata": {},
   "source": [
    "Given two binary strings a and b, return their sum as a binary string."
   ]
  },
  {
   "cell_type": "code",
   "execution_count": null,
   "id": "db1d67ca",
   "metadata": {},
   "outputs": [],
   "source": [
    "   class Solution:\n",
    "        def addBinary(self, a, b):\n",
    "            if len(a)==0: return b\n",
    "            if len(b)==0: return a\n",
    "            if a[-1] == '1' and b[-1] == '1':\n",
    "                return self.addBinary(self.addBinary(a[0:-1],b[0:-1]),'1')+'0'\n",
    "            if a[-1] == '0' and b[-1] == '0':\n",
    "                return self.addBinary(a[0:-1],b[0:-1])+'0'\n",
    "            else:\n",
    "                return self.addBinary(a[0:-1],b[0:-1])+'1'"
   ]
  },
  {
   "cell_type": "code",
   "execution_count": null,
   "id": "1d9c4c21",
   "metadata": {},
   "outputs": [],
   "source": [
    "class Solution:\n",
    "    def addBinary(self, a: str, b: str) -> str:\n",
    "        carry = 0\n",
    "        result = ''\n",
    "\n",
    "        a = list(a)\n",
    "        b = list(b)\n",
    "\n",
    "        while a or b or carry:\n",
    "            if a:\n",
    "                carry += int(a.pop())\n",
    "            if b:\n",
    "                carry += int(b.pop())\n",
    "\n",
    "            result += str(carry %2)\n",
    "            carry //= 2\n",
    "\n",
    "        return result[::-1]"
   ]
  },
  {
   "cell_type": "markdown",
   "id": "447de1d6",
   "metadata": {},
   "source": [
    "## <font color='red'>100. Same Tree\n",
    " </font>"
   ]
  },
  {
   "cell_type": "markdown",
   "id": "05a2e51f",
   "metadata": {},
   "source": [
    "Given the roots of two binary trees p and q, write a function to check if they are the same or not.\n",
    "\n",
    "Two binary trees are considered the same if they are structurally identical, and the nodes have the same value.\n",
    "Input: p = [1,2,3], q = [1,2,3]          Output: true\n",
    "Input: p = [1,2,1], q = [1,1,2]          Output: false"
   ]
  },
  {
   "cell_type": "code",
   "execution_count": null,
   "id": "5b239d11",
   "metadata": {},
   "outputs": [],
   "source": [
    "# Definition for a binary tree node.\n",
    "# class TreeNode:\n",
    "#     def __init__(self, val=0, left=None, right=None):\n",
    "#         self.val = val\n",
    "#         self.left = left\n",
    "#         self.right = right\n",
    "class Solution:\n",
    "    def isSameTree(self, p: Optional[TreeNode], q: Optional[TreeNode]) -> bool:\n",
    "        if not p and not q: return True\n",
    "        if not p or not q: return False\n",
    "        \n",
    "       \n",
    "        if p.val != q.val:\n",
    "            return False\n",
    "        else:\n",
    "            return self.isSameTree(p.left, q.left) and self.isSameTree(p.right, q.right)"
   ]
  },
  {
   "cell_type": "markdown",
   "id": "c96ea1a5",
   "metadata": {},
   "source": [
    "## <font color='red'> 108. Convert Sorted Array to Binary Search Tree\n",
    " </font>"
   ]
  },
  {
   "cell_type": "markdown",
   "id": "67b6252a",
   "metadata": {},
   "source": [
    "Given an integer array nums where the elements are sorted in ascending order, convert it to a height-balanced binary search tree.\n",
    "\n",
    "A height-balanced binary tree is a binary tree in which the depth of the two subtrees of every node never differs by more than one.\n",
    "\n",
    "Input: nums = [-10,-3,0,5,9]                 Output: [0,-3,9,-10,null,5]\n",
    "Explanation: [0,-10,5,null,-3,null,9] is also accepted:"
   ]
  },
  {
   "cell_type": "code",
   "execution_count": null,
   "id": "f71f1f42",
   "metadata": {},
   "outputs": [],
   "source": [
    "# Definition for a binary tree node.\n",
    "# class TreeNode:\n",
    "#     def __init__(self, val=0, left=None, right=None):\n",
    "#         self.val = val\n",
    "#         self.left = left\n",
    "#         self.right = right\n",
    "class Solution:\n",
    "    def sortedArrayToBST(self, nums: List[int]) -> Optional[TreeNode]:\n",
    "        # you can not return []\n",
    "        if not nums:\n",
    "            return \n",
    "        \n",
    "        L, R = 0, len(nums) -1\n",
    "        M = L + (R - L) // 2\n",
    "        \n",
    "        root = TreeNode(nums[M])\n",
    "        root.left = self.sortedArrayToBST(nums[:M])\n",
    "        root.right = self.sortedArrayToBST(nums[M+1:])\n",
    "        \n",
    "        return root"
   ]
  },
  {
   "cell_type": "markdown",
   "id": "7ffc85bf",
   "metadata": {},
   "source": [
    "## <font color='red'> 559. Maximum Depth of N-ary Tree </font>"
   ]
  },
  {
   "cell_type": "markdown",
   "id": "2a149df4",
   "metadata": {},
   "source": [
    "Given a n-ary tree, find its maximum depth.\n",
    "\n",
    "The maximum depth is the number of nodes along the longest path from the root node down to the farthest leaf node.\n",
    "\n",
    "Nary-Tree input serialization is represented in their level order traversal, each group of children is separated by the null value (See examples).\n",
    "\n",
    "Input: root = [1,null,3,2,4,null,5,6]     Output: 3"
   ]
  },
  {
   "cell_type": "code",
   "execution_count": null,
   "id": "72e67bf4",
   "metadata": {},
   "outputs": [],
   "source": [
    "\"\"\"\n",
    "# Definition for a Node.\n",
    "class Node:\n",
    "    def __init__(self, val=None, children=None):\n",
    "        self.val = val\n",
    "        self.children = children\n",
    "\"\"\"\n",
    "class Solution:\n",
    "    def maxDepth(self, root: 'Node') -> int:\n",
    "        \"\"\"\n",
    "        :type root: Node\n",
    "        :rtype: int\n",
    "        \"\"\"\n",
    "        if not root: return 0\n",
    "        \n",
    "        maxDep = 0        \n",
    "       \n",
    "        for children in root.children:\n",
    "            tmp = self.maxDepth(children)\n",
    "            maxDep = max(maxDep, tmp)\n",
    "        \n",
    "        return maxDep + 1"
   ]
  },
  {
   "cell_type": "markdown",
   "id": "e3e973e7",
   "metadata": {},
   "source": [
    "## <font color='red'>589. N-ary Tree Preorder Traversal  </font>"
   ]
  },
  {
   "cell_type": "markdown",
   "id": "46587f82",
   "metadata": {},
   "source": [
    "Given the root of an n-ary tree, return the preorder traversal of its nodes' values.\n",
    "\n",
    "Nary-Tree input serialization is represented in their level order traversal. Each group of children is separated by the null value (See examples)\n",
    "\n",
    "Input: root = [1,null,3,2,4,null,5,6]     Output: [1,3,5,6,2,4]"
   ]
  },
  {
   "cell_type": "code",
   "execution_count": null,
   "id": "1eaca69d",
   "metadata": {},
   "outputs": [],
   "source": [
    "\"\"\"\n",
    "# Definition for a Node.\n",
    "class Node:\n",
    "    def __init__(self, val=None, children=None):\n",
    "        self.val = val\n",
    "        self.children = children\n",
    "\"\"\"\n",
    "class Solution:\n",
    "    def preorder(self, root: 'Node') -> List[int]:\n",
    "        \"\"\"\n",
    "        :type root: Node\n",
    "        :rtype: List[int]\n",
    "        \"\"\"\n",
    "        if not root: return []\n",
    "        \n",
    "        res = []\n",
    "        res.append(root.val)\n",
    "\n",
    "        for children in root.children:\n",
    "            res += self.preorder(children)\n",
    "                \n",
    "        return res"
   ]
  },
  {
   "cell_type": "markdown",
   "id": "246edd6f",
   "metadata": {},
   "source": [
    "## <font color='red'>617. Merge Two Binary Trees </font>"
   ]
  },
  {
   "cell_type": "markdown",
   "id": "fda8a73d",
   "metadata": {},
   "source": [
    "Imagine that when you put one of them to cover the other, some nodes of the two trees are overlapped while the others are not. You need to merge the two trees into a new binary tree. The merge rule is that if two nodes overlap, then sum node values up as the new value of the merged node. Otherwise, the NOT null node will be used as the node of the new tree.\n",
    "\n",
    "Return the merged tree.\n",
    "\n",
    "Note: The merging process must start from the root nodes of both trees."
   ]
  },
  {
   "cell_type": "code",
   "execution_count": null,
   "id": "89479577",
   "metadata": {},
   "outputs": [],
   "source": [
    "# Definition for a binary tree node.\n",
    "# class TreeNode:\n",
    "#     def __init__(self, val=0, left=None, right=None):\n",
    "#         self.val = val\n",
    "#         self.left = left\n",
    "#         self.right = right\n",
    "class Solution:\n",
    "    def mergeTrees(self, root1: Optional[TreeNode], root2: Optional[TreeNode]) -> Optional[TreeNode]:\n",
    "        \"\"\"\n",
    "        :type root1: TreeNode\n",
    "        :type root2: Treenode\n",
    "        :rtype: Treenode\n",
    "        \"\"\"\n",
    "        \n",
    "        if not root1:\n",
    "            return root2\n",
    "        if not root2:\n",
    "            return root1\n",
    "        \n",
    "        root1.val = root1.val + root2.val\n",
    "        root1.left = self.mergeTrees(root1.left, root2.left)\n",
    "        root1.right = self.mergeTrees(root1.right, root2.right)\n",
    "                \n",
    "        return root1"
   ]
  },
  {
   "cell_type": "markdown",
   "id": "34f910fa",
   "metadata": {},
   "source": [
    "## <font color='red'>669. Trim a Binary Search Tree </font>"
   ]
  },
  {
   "cell_type": "markdown",
   "id": "d08e8731",
   "metadata": {},
   "source": [
    "Given the root of a binary search tree and the lowest and highest boundaries as low and high, trim the tree so that all its elements lies in [low, high]. Trimming the tree should not change the relative structure of the elements that will remain in the tree (i.e., any node's descendant should remain a descendant). It can be proven that there is a unique answer.\n",
    "\n",
    "Return the root of the trimmed binary search tree. Note that the root may change depending on the given bounds.\n",
    "\n",
    "Input: root = [1,0,2], low = 1, high = 2.    Output: [1,null,2]"
   ]
  },
  {
   "cell_type": "code",
   "execution_count": null,
   "id": "17447fd0",
   "metadata": {},
   "outputs": [],
   "source": [
    "# Definition for a binary tree node.\n",
    "# class TreeNode:\n",
    "#     def __init__(self, val=0, left=None, right=None):\n",
    "#         self.val = val\n",
    "#         self.left = left\n",
    "#         self.right = right\n",
    "class Solution:\n",
    "    def trimBST(self, root: Optional[TreeNode], low: int, high: int) -> Optional[TreeNode]:\n",
    "        \"\"\"\n",
    "        :type root: TreeNode\n",
    "        :type low: int\n",
    "        :type high: int\n",
    "        :rtype: TreeNode\n",
    "        \"\"\"\n",
    "        if not root:\n",
    "            return\n",
    "        \n",
    "        if root.val < low:\n",
    "            return self.trimBST(root.right, low, high)\n",
    "        if root.val > high:\n",
    "            return self.trimBST(root.left, low, high)\n",
    "        \n",
    "        root.left = self.trimBST(root.left, low, high)\n",
    "        root.right = self.trimBST(root.right, low, high)\n",
    "        \n",
    "        return root"
   ]
  },
  {
   "cell_type": "markdown",
   "id": "891b8393",
   "metadata": {},
   "source": [
    "## <font color='red'> 700. Search in a Binary Search Tree\n",
    "</font>"
   ]
  },
  {
   "cell_type": "markdown",
   "id": "126fb7e6",
   "metadata": {},
   "source": [
    "You are given the root of a binary search tree (BST) and an integer val.\n",
    "\n",
    "Find the node in the BST that the node's value equals val and return the subtree rooted with that node. If such a node does not exist, return null."
   ]
  },
  {
   "cell_type": "code",
   "execution_count": null,
   "id": "1cc67d50",
   "metadata": {},
   "outputs": [],
   "source": [
    "# Definition for a binary tree node.\n",
    "# class TreeNode:\n",
    "#     def __init__(self, val=0, left=None, right=None):\n",
    "#         self.val = val\n",
    "#         self.left = left\n",
    "#         self.right = right\n",
    "class Solution:\n",
    "    def searchBST(self, root: Optional[TreeNode], val: int) -> Optional[TreeNode]:\n",
    "        \"\"\"\n",
    "        :type toor: TreeNode\n",
    "        :type val: int\n",
    "        :rtype: TreeNode\n",
    "        \"\"\"\n",
    "        if not root:\n",
    "            return None\n",
    "        \n",
    "        if root.val == val:\n",
    "            return root\n",
    "        elif root.val > val:\n",
    "            return self.searchBST(root.left, val)\n",
    "        else:\n",
    "            return self.searchBST(root.right, val)"
   ]
  },
  {
   "cell_type": "markdown",
   "id": "12cf1b37",
   "metadata": {},
   "source": [
    "## <font color='red'> 938. Range Sum of BST</font>"
   ]
  },
  {
   "cell_type": "markdown",
   "id": "4f6cc988",
   "metadata": {},
   "source": [
    "Given the root node of a binary search tree and two integers low and high, return the sum of values of all nodes with a value in the inclusive range [low, high]."
   ]
  },
  {
   "cell_type": "code",
   "execution_count": null,
   "id": "4b540404",
   "metadata": {},
   "outputs": [],
   "source": [
    "# Definition for a binary tree node.\n",
    "# class TreeNode:\n",
    "#     def __init__(self, val=0, left=None, right=None):\n",
    "#         self.val = val\n",
    "#         self.left = left\n",
    "#         self.right = right\n",
    "class Solution:\n",
    "    def rangeSumBST(self, root: Optional[TreeNode], low: int, high: int) -> int:\n",
    "        \"\"\"\n",
    "        :type root: TreeNode\n",
    "        :type low: int\n",
    "        :type high: int\n",
    "        :rtype: int\n",
    "        \"\"\"\n",
    "        \n",
    "        sum = 0\n",
    "        if not root:\n",
    "            return 0       \n",
    "        \n",
    "        if low <= root.val <= high:\n",
    "            sum += root.val\n",
    "        if root.val >= low:\n",
    "            sum += self.rangeSumBST(root.left, low, high)\n",
    "        if root.val =< high:\n",
    "            sum +=  self.rangeSumBST(root.right, low, high)\n",
    "            \n",
    "        return sum"
   ]
  },
  {
   "cell_type": "markdown",
   "id": "94fd96d6",
   "metadata": {},
   "source": [
    "## <font color='red'>965. Univalued Binary Tree</font>"
   ]
  },
  {
   "cell_type": "markdown",
   "id": "ebc4c42a",
   "metadata": {},
   "source": [
    "A binary tree is uni-valued if every node in the tree has the same value.\n",
    "\n",
    "Given the root of a binary tree, return true if the given tree is uni-valued, or false otherwise."
   ]
  },
  {
   "cell_type": "code",
   "execution_count": null,
   "id": "28e9e9de",
   "metadata": {},
   "outputs": [],
   "source": [
    "# Definition for a binary tree node.\n",
    "# class TreeNode:\n",
    "#     def __init__(self, val=0, left=None, right=None):\n",
    "#         self.val = val\n",
    "#         self.left = left\n",
    "#         self.right = right\n",
    "class Solution:\n",
    "    def isUnivalTree(self, root: Optional[TreeNode]) -> bool:\n",
    "        \"\"\"\n",
    "        :type root: TreeNode\n",
    "        :rtype: bool\n",
    "        \"\"\"\n",
    "        \n",
    "        if not root:\n",
    "            return True\n",
    "\n",
    "        if root.left and root.val != root.left.val:\n",
    "            return False     \n",
    "        if root.right and root.val != root.right.val:\n",
    "            return False  \n",
    "                \n",
    "        return self.isUnivalTree(root.left) and self.isUnivalTree(root.right)"
   ]
  }
 ],
 "metadata": {
  "kernelspec": {
   "display_name": "Python 3 (ipykernel)",
   "language": "python",
   "name": "python3"
  },
  "language_info": {
   "codemirror_mode": {
    "name": "ipython",
    "version": 3
   },
   "file_extension": ".py",
   "mimetype": "text/x-python",
   "name": "python",
   "nbconvert_exporter": "python",
   "pygments_lexer": "ipython3",
   "version": "3.9.12"
  }
 },
 "nbformat": 4,
 "nbformat_minor": 5
}
