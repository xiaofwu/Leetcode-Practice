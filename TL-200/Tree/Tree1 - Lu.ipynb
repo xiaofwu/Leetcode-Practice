{
 "cells": [
  {
   "cell_type": "code",
   "execution_count": null,
   "id": "be1adff2",
   "metadata": {},
   "outputs": [],
   "source": [
    "5. Recursion and Tree"
   ]
  },
  {
   "cell_type": "code",
   "execution_count": null,
   "id": "1ffeaa51",
   "metadata": {},
   "outputs": [],
   "source": [
    "1. 1137. Nth tribonacci number\n",
    "2. 104. maximum depth of binary tree\n",
    "3. 67. add binary\n",
    "4. 100. same tree\n",
    "5. 108. convert sorted arrary to binary search tree\n",
    "6. 559. maximum depth of N_ary tree\n",
    "7. 589. N_ary tree preorder traversal\n",
    "8. 617. Merge two Binary trees\n",
    "9. 669. trim a binary search tree\n",
    "10. 700. search in a binary search tree\n",
    "11. 938. range sum of BST\n",
    "12. 965. univalued binary tree "
   ]
  },
  {
   "cell_type": "markdown",
   "id": "f5af26c8",
   "metadata": {},
   "source": [
    "1. 1137.N-th Tribonacci Number"
   ]
  },
  {
   "cell_type": "code",
   "execution_count": null,
   "id": "3a4baeb5",
   "metadata": {},
   "outputs": [],
   "source": [
    "class Solution:\n",
    "    def tribonacci(self, n: int) -> int:\n",
    "        if n == 0: return 0\n",
    "        if n == 1: return 1\n",
    "        if n == 2: return 1\n",
    "        \n",
    "        \n",
    "        if n > 2:\n",
    "            return self.tribonacci(n-3) + self.tribonacci(n-2) + self.tribonacci(n-1)\n",
    "T: O(???)\n",
    "S: O(???)"
   ]
  },
  {
   "cell_type": "code",
   "execution_count": null,
   "id": "b833161a",
   "metadata": {},
   "outputs": [],
   "source": [
    "斐波那契数列是我们学过的第一个递归问题，相信大家都会写。泰波那契数是个简单的拓展，很快我们就写出来下面的 python 代码：\n",
    "\n",
    "\n",
    "class Solution(object):\n",
    "    def tribonacci(self, n):\n",
    "        if n == 0: return 0\n",
    "        if n == 1: return 1\n",
    "        if n == 2: return 1\n",
    "        return self.tribonacci(n - 1) + self.tribonacci(n - 2) + self.tribonacci(n - 3)\n",
    "时间复杂度：O(3 ^ n)类似于三叉树的节点数。\n",
    "空间复杂度：O(n)，栈的深度。\n"
   ]
  },
  {
   "cell_type": "code",
   "execution_count": null,
   "id": "15beb7d0",
   "metadata": {},
   "outputs": [],
   "source": [
    "class Solution(object):\n",
    "    def __init__(self):\n",
    "        self.memo = {0:0, 1:1, 2:1}\n",
    "    \n",
    "    def tribonacci(self, n):\n",
    "        if n in self.memo:\n",
    "            return self.memo[n]\n",
    "        res = self.tribonacci(n - 1) + self.tribonacci(n - 2) + self.tribonacci(n - 3)\n",
    "        self.memo[n] = res\n",
    "        return res"
   ]
  },
  {
   "cell_type": "code",
   "execution_count": null,
   "id": "0a3c5020",
   "metadata": {},
   "outputs": [],
   "source": [
    "在 python3 中，可以使用语言自带的「记忆化搜索」的注解：@functools.lru_cache()，它的用法只有一行，即在要执行记忆化的函数上面加上一行注解，即可在语言级别的自动化的记忆化递归。\n",
    "\n",
    "\n",
    "class Solution:\n",
    "    @functools.lru_cache()\n",
    "    def tribonacci(self, n: int) -> int:\n",
    "        if n == 0: return 0\n",
    "        if n == 1: return 1\n",
    "        if n == 2: return 1\n",
    "        return self.tribonacci(n - 1) + self.tribonacci(n - 2) + self.tribonacci(n - 3)\n",
    "时间复杂度：O(n)，因为避免了重复的计算。\n",
    "空间复杂度：O(n)，栈的深度。\n",
    "使用简单的记忆化搜索，成功降低了时间复杂度，提交就能不再超时了。\n",
    "\n",
    "作者：fuxuemingzhu\n",
    "链接：https://leetcode.cn/problems/n-th-tribonacci-number/solution/fu-xue-ming-zhu-di-gui-ji-yi-hua-sou-suo-7o7j/\n"
   ]
  },
  {
   "cell_type": "markdown",
   "id": "b8c37c6d",
   "metadata": {},
   "source": [
    "Least Recently Used (LRU) is a cache replacement algorithm that replaces cache when the space is full. It allows us to access the values faster by removing the least recently used values. LRU cache is a standard question most of the time, it is usually asked directly but sometimes can be asked with some variation."
   ]
  },
  {
   "cell_type": "code",
   "execution_count": null,
   "id": "0755b53b",
   "metadata": {},
   "outputs": [],
   "source": [
    "recursion with memoization...hmmm...memoization"
   ]
  },
  {
   "cell_type": "code",
   "execution_count": null,
   "id": "a06694bc",
   "metadata": {},
   "outputs": [],
   "source": [
    "class Tri:\n",
    "    def __init__(self):\n",
    "        def helper(k):\n",
    "            if k == 0:\n",
    "                return 0\n",
    "            \n",
    "            if nums[k]:\n",
    "                return nums[k]\n",
    "\n",
    "            nums[k] = helper(k - 1) + helper(k - 2) + helper(k - 3) \n",
    "            return nums[k]\n",
    "        \n",
    "        n = 38\n",
    "        self.nums = nums = [0] * n\n",
    "        nums[1] = nums[2] = 1\n",
    "        helper(n - 1)\n",
    "                    \n",
    "class Solution:\n",
    "    t = Tri()\n",
    "    def tribonacci(self, n: int) -> int:\n",
    "        return self.t.nums[n]"
   ]
  },
  {
   "cell_type": "markdown",
   "id": "3e4d55c8",
   "metadata": {},
   "source": [
    "Time complexity : O(1) to retrieve preliminary computed Tribonacci number, and 38 operations for the preliminary computations.\n",
    "\n",
    "Space complexity : constant space to keep an array of 38 Tribonacci numbers."
   ]
  },
  {
   "cell_type": "markdown",
   "id": "f4d18e31",
   "metadata": {},
   "source": [
    "2. 104. maximum depth of binary tree"
   ]
  },
  {
   "cell_type": "markdown",
   "id": "34d9803b",
   "metadata": {},
   "source": [
    "recursive"
   ]
  },
  {
   "cell_type": "code",
   "execution_count": null,
   "id": "f30b529b",
   "metadata": {},
   "outputs": [],
   "source": [
    "class Solution:\n",
    "    def maxDepth(self, root: Optional[TreeNode]) -> int:\n",
    "        if not root: return 0\n",
    "        return max(self.maxDepth(root.left), self.maxDepth(root.right)) + 1"
   ]
  },
  {
   "cell_type": "markdown",
   "id": "c2415004",
   "metadata": {},
   "source": [
    "Time complexity : we visit each node exactly once, thus the time complexity is O(N), where N is the number of nodes.\n",
    "\n",
    "Space complexity : in the worst case, the tree is completely unbalanced, e.g. each node has only left child node, the recursion call would occur N times (the height of the tree), therefore the storage to keep the call stack would be O(N). \n",
    "But in the best case (the tree is completely balanced),\n",
    "\n",
    "the height of the tree would be log(N). Therefore, the space complexity in this case would be O(log(N))."
   ]
  },
  {
   "cell_type": "code",
   "execution_count": null,
   "id": "3ed5b30e",
   "metadata": {},
   "outputs": [],
   "source": [
    "时间复杂度：O(n)，其中 nn 为二叉树节点的个数。每个节点在递归中只被遍历一次。\n",
    "\n",
    "空间复杂度：O(height)，其中 height 表示二叉树的高度。\n",
    "递归函数需要栈空间，而栈空间取决于递归的深度，因此空间复杂度等价于二叉树的高度。\n",
    "\n",
    "二叉树的高度就是从logN ~ N"
   ]
  },
  {
   "cell_type": "markdown",
   "id": "f8dfbc33",
   "metadata": {},
   "source": [
    "iterative dfs"
   ]
  },
  {
   "cell_type": "code",
   "execution_count": null,
   "id": "1b677469",
   "metadata": {},
   "outputs": [],
   "source": [
    "class Solution:\n",
    "    def maxDepth(self, root: Optional[TreeNode]) -> int:\n",
    "        stack = []\n",
    "        if root:\n",
    "            #中括号也可以\n",
    "            stack.append([1,root])\n",
    "        \n",
    "        depth = 0\n",
    "        #??? while stack != []\n",
    "        while stack:\n",
    "            current_depth, root = stack.pop()\n",
    "            ??? 都pop出来了，那肯定不是none？？？所以不需要\n",
    "            #if root:\n",
    "            depth = max(depth, current_depth)\n",
    "            if root.left:\n",
    "                stack.append([current_depth + 1,root.left])\n",
    "            if root.right:\n",
    "                stack.append([current_depth + 1, root.right])\n",
    "        return depth"
   ]
  },
  {
   "cell_type": "markdown",
   "id": "a1dc5403",
   "metadata": {},
   "source": [
    "Time complexity : O(N).\n",
    "\n",
    "Space complexity : in the worst case, the tree is completely unbalanced, e.g. each node has only left child node, the recursion call would occur N times (the height of the tree), therefore the storage to keep the call stack would be O(N). \n",
    "But in the average case (the tree is balanced), \n",
    "\n",
    "the height of the tree would be log(N). Therefore, the space complexity in this case would be O(log(N))."
   ]
  },
  {
   "cell_type": "code",
   "execution_count": 2,
   "id": "e39d2a29",
   "metadata": {},
   "outputs": [
    {
     "data": {
      "text/plain": [
       "False"
      ]
     },
     "execution_count": 2,
     "metadata": {},
     "output_type": "execute_result"
    }
   ],
   "source": [
    "[] == None"
   ]
  },
  {
   "cell_type": "code",
   "execution_count": null,
   "id": "2712834b",
   "metadata": {},
   "outputs": [],
   "source": [
    "iterative bfs"
   ]
  },
  {
   "cell_type": "code",
   "execution_count": null,
   "id": "2477853b",
   "metadata": {},
   "outputs": [],
   "source": [
    "class Solution:\n",
    "    def maxDepth(self, root: Optional[TreeNode]) -> int:\n",
    "        if not root:\n",
    "            return 0\n",
    "        \n",
    "        queue = [root]\n",
    "        ans = 0\n",
    "        while queue:\n",
    "            size = len(queue)\n",
    "            for _ in range(size):\n",
    "                temp = queue.pop(0)\n",
    "                if temp.left:\n",
    "                    queue.append(temp.left)\n",
    "                if temp.right:\n",
    "                    queue.append(temp.right)\n",
    "            ans += 1\n",
    "        return ans"
   ]
  },
  {
   "cell_type": "code",
   "execution_count": null,
   "id": "f7d69f08",
   "metadata": {},
   "outputs": [],
   "source": [
    "#T: O(N)\n",
    "#S: 1 to logN... 一层最多几个结点？？？\n"
   ]
  },
  {
   "cell_type": "markdown",
   "id": "7fad5849",
   "metadata": {},
   "source": [
    "3. 67. add binary"
   ]
  },
  {
   "cell_type": "markdown",
   "id": "4e3b05b1",
   "metadata": {},
   "source": [
    "4. 100. same tree"
   ]
  },
  {
   "cell_type": "code",
   "execution_count": null,
   "id": "68c0173a",
   "metadata": {},
   "outputs": [],
   "source": [
    "recursive"
   ]
  },
  {
   "cell_type": "code",
   "execution_count": null,
   "id": "e22e830e",
   "metadata": {},
   "outputs": [],
   "source": [
    "    def isSameTree(self, p: Optional[TreeNode], q: Optional[TreeNode]) -> bool:\n",
    "        if p and q:\n",
    "            if p.val == q.val:\n",
    "                return self.isSameTree(p.left, q.left) and self.isSameTree(p.right,q.right)\n",
    "            else: return False\n",
    "        elif not p and not q: return True\n",
    "        else: \n",
    "            return False"
   ]
  },
  {
   "cell_type": "code",
   "execution_count": null,
   "id": "268dbcdd",
   "metadata": {},
   "outputs": [],
   "source": [
    "#T: O(N) \n",
    "#S:O(logN) in the best case of completely balanced tree\n",
    "#O(N) in the worst case of completely unbalanced tree, to keep a recursion stack. "
   ]
  },
  {
   "cell_type": "code",
   "execution_count": null,
   "id": "dad609eb",
   "metadata": {},
   "outputs": [],
   "source": [
    "class Solution(object):\n",
    "    def isSameTree(self, p, q):\n",
    "        \n",
    "        if not p and not q:\n",
    "            return True\n",
    "        \n",
    "        if p and q and p.val == q.val:          \n",
    "            return self.isSameTree(p.left, q.left) and self.isSameTree(p.right,q.right)\n",
    "        \n",
    "        return False\n",
    "\n",
    "from neetcode"
   ]
  },
  {
   "cell_type": "code",
   "execution_count": null,
   "id": "7c213fe8",
   "metadata": {},
   "outputs": [],
   "source": [
    "iterative"
   ]
  },
  {
   "cell_type": "code",
   "execution_count": null,
   "id": "3e4612c2",
   "metadata": {},
   "outputs": [],
   "source": [
    "from collections import deque\n",
    "class Solution:\n",
    "    def isSameTree(self, p, q):\n",
    " \n",
    "        def check(p, q):\n",
    "            # if both are None\n",
    "            if not p and not q:\n",
    "                return True\n",
    "            # one of p and q is None\n",
    "            if not q or not p:\n",
    "                return False\n",
    "            if p.val != q.val:\n",
    "                return False\n",
    "            return True\n",
    "        \n",
    "        deq = deque([(p, q),]) #same with deq = deque([(p, q)])\n",
    "        while deq:\n",
    "            p, q = deq.popleft()\n",
    "            if not check(p, q):\n",
    "                return False\n",
    "            \n",
    "            if p: # it means check is true, it means not p and not q or p and q \n",
    "                deq.append((p.left, q.left))\n",
    "                deq.append((p.right, q.right))\n",
    "                    \n",
    "        return True\n",
    "    \n",
    "    #Time complexity :O(N) since each node is visited exactly once.\n",
    "\n",
    "##Space complexity : O(log(N)) in the best case of completely balanced tree and \n",
    "   # O(N) in the worst case of completely unbalanced tree, to keep a deque.\n",
    "    \n",
    "    so looks like iterative way and recursive way has some Time and space complexity? which is better?\n",
    "时间复杂度：\n",
    "O(n)，其中 n 是数组的长度。每个数字只访问一次。\n",
    "\n",
    "空间复杂度：\n",
    "O(logn)，其中 n 是数组的长度。空间复杂度不考虑返回值，\n",
    "因此空间复杂度主要取决于递归栈的深度，递归栈的深度是 \n",
    "O(logn)。"
   ]
  },
  {
   "cell_type": "markdown",
   "id": "773c5e63",
   "metadata": {},
   "source": [
    "5. 108. convert sorted arrary to binary search tree"
   ]
  },
  {
   "cell_type": "code",
   "execution_count": null,
   "id": "c6f78792",
   "metadata": {},
   "outputs": [],
   "source": [
    "class Solution:\n",
    "    def sortedArrayToBST(self, nums: List[int]) -> Optional[TreeNode]:\n",
    "        #need to be nothing...can't be []\n",
    "        if not nums: return \n",
    "        \n",
    "        left, right = 0, len(nums) - 1\n",
    "        mid = left + (right - left)//2\n",
    "        root = TreeNode(nums[mid])\n",
    "        root.left = self.sortedArrayToBST(nums[0:mid])\n",
    "        root.right = self.sortedArrayToBST(nums[mid+1:])\n",
    "        \n",
    "        return root"
   ]
  },
  {
   "cell_type": "markdown",
   "id": "8c49fde5",
   "metadata": {},
   "source": [
    "6. 559. maximum depth of N_ary tree"
   ]
  },
  {
   "cell_type": "code",
   "execution_count": null,
   "id": "5026f8ca",
   "metadata": {},
   "outputs": [],
   "source": [
    "class Solution:\n",
    "    def maxDepth(self, root: 'Node') -> int:\n",
    "        \n",
    "        if not root:\n",
    "            return 0 \n",
    "        max_d = 0\n",
    "        for child in root.children:\n",
    "            depth = self.maxDepth(child)\n",
    "            max_d = max(depth,max_d)\n",
    "        return max_d + 1\n",
    "#max-d 是孩子的最大深度，所以最后要加1"
   ]
  },
  {
   "cell_type": "code",
   "execution_count": null,
   "id": "a9751cdc",
   "metadata": {},
   "outputs": [],
   "source": [
    "class Solution:\n",
    "    def maxDepth(self, root: 'Node') -> int:\n",
    "        if not root: return 0\n",
    "        max_depth = 1\n",
    "        for child in root.children:\n",
    "            depth = self.maxDepth(child) +  1\n",
    "            max_depth = max(max_depth,depth)\n",
    "        return max_depth"
   ]
  },
  {
   "cell_type": "code",
   "execution_count": null,
   "id": "168e94cd",
   "metadata": {},
   "outputs": [],
   "source": [
    "class Solution(object):\n",
    "    def maxDepth(self, root):\n",
    "        \"\"\"\n",
    "        :type root: Node\n",
    "        :rtype: int\n",
    "        \"\"\" \n",
    "        stack = []\n",
    "        if root is not None:\n",
    "            stack.append((1, root))\n",
    "        \n",
    "        depth = 0\n",
    "        while stack != []:\n",
    "            current_depth, root = stack.pop()\n",
    "            if root is not None:\n",
    "                depth = max(depth, current_depth)\n",
    "                for c in root.children:\n",
    "                    stack.append((current_depth + 1, c))\n",
    "                \n",
    "        return depth"
   ]
  },
  {
   "cell_type": "markdown",
   "id": "72b0d5f4",
   "metadata": {},
   "source": [
    "7. 589. N_ary tree preorder traversal"
   ]
  },
  {
   "cell_type": "markdown",
   "id": "8b0f6676",
   "metadata": {},
   "source": [
    "recursive"
   ]
  },
  {
   "cell_type": "code",
   "execution_count": null,
   "id": "56e62576",
   "metadata": {},
   "outputs": [],
   "source": [
    "class Solution:\n",
    "    def preorder(self, root: 'Node') -> List[int]:\n",
    "        if not root: return []\n",
    "        \n",
    "        ans = [root.val]\n",
    "        for child in root.children:\n",
    "            ans.extend(self.preorder(child))\n",
    "        return ans"
   ]
  },
  {
   "cell_type": "code",
   "execution_count": null,
   "id": "8a863daf",
   "metadata": {},
   "outputs": [],
   "source": []
  },
  {
   "cell_type": "markdown",
   "id": "bd4d6fd3",
   "metadata": {},
   "source": [
    "8. 617. Merge two Binary trees"
   ]
  },
  {
   "cell_type": "code",
   "execution_count": null,
   "id": "1583b815",
   "metadata": {},
   "outputs": [],
   "source": [
    "class Solution:\n",
    "    def mergeTrees(self, root1: Optional[TreeNode], root2: Optional[TreeNode]) -> Optional[TreeNode]:\n",
    "        if not root1 and not root2: return \n",
    "        if not root1:\n",
    "            return root2\n",
    "        if not root2:\n",
    "            return root1\n",
    "        \n",
    "        if root1 and root2:\n",
    "            root1.val += root2.val\n",
    "            root1.left = self.mergeTrees(root1.left, root2.left)\n",
    "            root1.right = self.mergeTrees(root1.right, root2.right)\n",
    "        return root1"
   ]
  },
  {
   "cell_type": "markdown",
   "id": "f4275a9b",
   "metadata": {},
   "source": [
    "9. 669. trim a binary search tree"
   ]
  },
  {
   "cell_type": "code",
   "execution_count": null,
   "id": "86dd5cf4",
   "metadata": {},
   "outputs": [],
   "source": [
    "class Solution:\n",
    "    def trimBST(self, root: Optional[TreeNode], low: int, high: int) -> Optional[TreeNode]:\n",
    "        if not root: return \n",
    "        if root.val < low:\n",
    "            return self.trimBST(root.right, low, high)\n",
    "        if root.val > high:\n",
    "            return self.trimBST(root.left, low, high)\n",
    "        \n",
    "        root.left = self.trimBST(root.left, low,high)\n",
    "        root.right = self.trimBST(root.right, low, high)\n",
    "        return root"
   ]
  },
  {
   "cell_type": "markdown",
   "id": "9307298d",
   "metadata": {},
   "source": [
    "10. 700. search in a binary search tree"
   ]
  },
  {
   "cell_type": "code",
   "execution_count": null,
   "id": "68ff8135",
   "metadata": {},
   "outputs": [],
   "source": [
    "class Solution:\n",
    "    def searchBST(self, root: Optional[TreeNode], val: int) -> Optional[TreeNode]:\n",
    "        if not root: return \n",
    "        if root.val == val: return root\n",
    "        \n",
    "        if root.val > val:\n",
    "            return self.searchBST(root.left,val)\n",
    "        if root.val < val: \n",
    "            return self.searchBST(root.right,val)"
   ]
  },
  {
   "cell_type": "code",
   "execution_count": null,
   "id": "f2f36111",
   "metadata": {},
   "outputs": [],
   "source": [
    "11. 938. range sum of BST"
   ]
  },
  {
   "cell_type": "code",
   "execution_count": null,
   "id": "1db74920",
   "metadata": {},
   "outputs": [],
   "source": [
    "class Solution:\n",
    "    def rangeSumBST(self, root: Optional[TreeNode], low: int, high: int) -> int:\n",
    "        if not root: return 0\n",
    "        \n",
    "        sum = 0\n",
    "        \n",
    "        if root.val >= low and root.val <= high: \n",
    "            sum += root.val \n",
    "            sum += self.rangeSumBST(root.right,low, high)\n",
    "            sum+= self.rangeSumBST(root.left, low, high)\n",
    "        \n",
    "        if root.val < low:\n",
    "            \n",
    "            sum += self.rangeSumBST(root.right,low, high)\n",
    "        if root.val > high:\n",
    "            \n",
    "            sum+= self.rangeSumBST(root.left, low, high)\n",
    "            \n",
    "        return sum"
   ]
  },
  {
   "cell_type": "code",
   "execution_count": null,
   "id": "9caa4023",
   "metadata": {},
   "outputs": [],
   "source": [
    "12. 965. univalued binary tree "
   ]
  },
  {
   "cell_type": "code",
   "execution_count": null,
   "id": "34a114b3",
   "metadata": {},
   "outputs": [],
   "source": [
    "class Solution:\n",
    "    def isUnivalTree(self, root: Optional[TreeNode]) -> bool:\n",
    "        if not root: return True\n",
    "        \n",
    "        if not root.left and not root.right: return True\n",
    "        if root.left and not root.right:\n",
    "            return root.val == root.left.val and self.isUnivalTree(root.left)\n",
    "        if root.right and not root.left:\n",
    "            return root.val == root.right.val and self.isUnivalTree(root.right)\n",
    "        \n",
    "        if root.right and root.left:\n",
    "            if root.right.val != root.val or root.left.val != root.val:\n",
    "                return False\n",
    "            else:\n",
    "                return self.isUnivalTree(root.left) and self.isUnivalTree(root.right)"
   ]
  }
 ],
 "metadata": {
  "kernelspec": {
   "display_name": "Python 3 (ipykernel)",
   "language": "python",
   "name": "python3"
  },
  "language_info": {
   "codemirror_mode": {
    "name": "ipython",
    "version": 3
   },
   "file_extension": ".py",
   "mimetype": "text/x-python",
   "name": "python",
   "nbconvert_exporter": "python",
   "pygments_lexer": "ipython3",
   "version": "3.9.12"
  }
 },
 "nbformat": 4,
 "nbformat_minor": 5
}
