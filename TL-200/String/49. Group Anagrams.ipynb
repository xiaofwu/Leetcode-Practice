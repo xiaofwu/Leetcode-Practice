{
 "cells": [
  {
   "cell_type": "markdown",
   "id": "ef666ef4",
   "metadata": {},
   "source": [
    "49. Group Anagrams\n",
    "Given an array of strings strs, group the anagrams together. You can return the answer in any order.\n",
    "An Anagram is a word or phrase formed by rearranging the letters of a different word or phrase, typically using all the original letters exactly once.\n",
    "\n",
    "Example 1:\n",
    "\n",
    "Input: strs = [\"eat\",\"tea\",\"tan\",\"ate\",\"nat\",\"bat\"]\n",
    "Output: [[\"bat\"],[\"nat\",\"tan\"],[\"ate\",\"eat\",\"tea\"]]\n",
    "\n",
    "Input: strs = [\"a\"]\n",
    "Output: [[\"a\"]]"
   ]
  },
  {
   "cell_type": "markdown",
   "id": "b71d5dea",
   "metadata": {},
   "source": [
    "We recall that anagrams are strings which have identical counts of characters. So anagrams, when sorted, result in the same string. We take advantage of this last property.\n",
    "\n",
    "We create a dictionary and for each word in the input array, we add a key to the dictionary if the sorted version of the word doesn't already exist in the list of keys. The key then becomes the sorted version of the word, and the value for the key is an array that stores each anagram of the key. i.e. for every next word that is an anagram, we would sort the word, find the key that is equal to the sorted form, and add the original word to the list of values for the key.\n",
    "\n",
    "At the end of it, we just add every value in the dictionary to the final array."
   ]
  },
  {
   "cell_type": "code",
   "execution_count": null,
   "id": "52708372",
   "metadata": {},
   "outputs": [],
   "source": [
    "class Solution:\n",
    "    def groupAnagrams(self, strs: List[str]) -> List[List[str]]:\n",
    "        res = []\n",
    "        hashmap = {}\n",
    "        # for anagram strings, sorted(str) will return the same list\n",
    "        # ''.join(sorted(word)) will give same sorted string if anagrams.\n",
    "        # then we store anagram strings in one list\n",
    "        for word in strs:\n",
    "            sortedWord = ''.join(sorted(word))\n",
    "            if sortedWord not in hashmap:\n",
    "                hashmap[sortedWord] = [word]\n",
    "            else:\n",
    "                hashmap[sortedWord].append(word)\n",
    "      \n",
    "        for v in h.values():\n",
    "            final.append(value)\n",
    "        return final\n",
    "    \n",
    "\"\"\"\n",
    "Time complexity: O(m*nlogn))\n",
    "Space complexity: O(n)\n",
    "\"\"\""
   ]
  }
 ],
 "metadata": {
  "kernelspec": {
   "display_name": "Python 3 (ipykernel)",
   "language": "python",
   "name": "python3"
  },
  "language_info": {
   "codemirror_mode": {
    "name": "ipython",
    "version": 3
   },
   "file_extension": ".py",
   "mimetype": "text/x-python",
   "name": "python",
   "nbconvert_exporter": "python",
   "pygments_lexer": "ipython3",
   "version": "3.9.12"
  }
 },
 "nbformat": 4,
 "nbformat_minor": 5
}
