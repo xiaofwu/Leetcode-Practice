{
 "cells": [
  {
   "cell_type": "markdown",
   "id": "2088e718",
   "metadata": {},
   "source": [
    "### 537. Complex Number Multiplication\n"
   ]
  },
  {
   "cell_type": "markdown",
   "id": "80a4750d",
   "metadata": {},
   "source": [
    "A complex number can be represented as a string on the form \"real+imaginaryi\" where:\n",
    "\n",
    "- real is the real part and is an integer in the range [-100, 100].\n",
    "- imaginary is the imaginary part and is an integer in the range [-100, 100].\n",
    "- i2 == -1.\n",
    "\n",
    "Given two complex numbers num1 and num2 as strings, return a string of the complex number that represents their multiplications.\n",
    "\n",
    "Input: num1 = \"1+1i\", num2 = \"1+1i\"\n",
    "Output: \"0+2i\"\n",
    "Explanation: (1 + i) * (1 + i) = 1 + i2 + 2 * i = 2i, and you need convert it to the form of 0+2i."
   ]
  },
  {
   "cell_type": "markdown",
   "id": "ce3ed921",
   "metadata": {},
   "source": [
    "This is a straightforward string manipulation problem. Our goal is to extract the integers from the strings, deduce the answer, then output the answer in the required format.\n",
    "\n",
    "First, we should extract the integers from the string representation of the complex number. We split a string like \"a+bi\" into parts first = \"a\", second = \"bi\", then truncate the \"i\" part in second. We return these as integers.\n",
    "\n",
    "After, we perform the complex number multiplication: (ar + i * ai) * (br + i * bi) = ar * br + i^2 * ai * bi + (ar * bi + ai * br) i =(ar * br - ai * bi) + (ar * bi + ai * br) * i. We then format the output correctly using 'format', i.e. output real = (ar * br - ai * bi), while output imaginary = (ar * bi + ai * br)"
   ]
  },
  {
   "cell_type": "code",
   "execution_count": null,
   "id": "04da60b4",
   "metadata": {},
   "outputs": [],
   "source": [
    "class Solution:\n",
    "    def complexNumberMultiply(self, num1: str, num2: str) -> str:\n",
    "        \n",
    "        ar, ai = int(num1.split('+')[0]), int(num1.split('+')[1].strip('i'))\n",
    "        br, bi = int(num2.split('+')[0]), int(num2.split('+')[1].strip('i'))\n",
    "        \n",
    "        real = ar * br - ai * bi\n",
    "        imag = ar * bi + br * ai\n",
    "        return \"{}+{}i\".format(real, imag)"
   ]
  },
  {
   "cell_type": "markdown",
   "id": "6b7f7435",
   "metadata": {},
   "source": [
    "### 647. Palindromic Substrings\n"
   ]
  },
  {
   "cell_type": "markdown",
   "id": "60ac2fbc",
   "metadata": {},
   "source": [
    "Given a string s, return the number of palindromic substrings in it.\n",
    "A string is a palindrome when it reads the same backward as forward.\n",
    "A substring is a contiguous sequence of characters within the string.\n",
    "\n",
    "Input: s = \"aaa\"\n",
    "Output: 6\n",
    "Explanation: Six palindromic strings: \"a\", \"a\", \"a\", \"aa\", \"aa\", \"aaa\".\n",
    "\n",
    "Input: s = \"abc\"\n",
    "Output: 3\n",
    "Explanation: Three palindromic strings: \"a\", \"b\", \"c\"."
   ]
  },
  {
   "cell_type": "markdown",
   "id": "28c96f21",
   "metadata": {},
   "source": [
    "1. 动态规划法\n",
    "首先这一题可以使用动态规划来进行解决：\n",
    "\n",
    "状态：dp[i][j] 表示字符串s在[i,j]区间的子串是否是一个回文串。\n",
    "状态转移方程：当 s[i] == s[j] && (j - i < 2 || dp[i + 1][j - 1]) 时，dp[i][j]=true，否则为false\n",
    "这个状态转移方程是什么意思呢？\n",
    "\n",
    "当只有一个字符时，比如 a 自然是一个回文串。\n",
    "当有两个字符时，如果是相等的，比如 aa，也是一个回文串。\n",
    "当有三个及以上字符时，比如 ababa 这个字符记作串 1，把两边的 a 去掉，也就是 bab 记作串 2，可以看出只要串2是一个回文串，那么左右各多了一个 a 的串 1 必定也是回文串。所以当 s[i]==s[j] 时，自然要看 dp[i+1][j-1] 是不是一个回文串。\n",
    "\n",
    "作者：jawhiow\n",
    "链接：https://leetcode.cn/problems/palindromic-substrings/solution/liang-dao-hui-wen-zi-chuan-de-jie-fa-xiang-jie-zho/\n",
    "来源：力扣（LeetCode）\n",
    "著作权归作者所有。商业转载请联系作者获得授权，非商业转载请注明出处。"
   ]
  },
  {
   "cell_type": "code",
   "execution_count": null,
   "id": "8cf78059",
   "metadata": {},
   "outputs": [],
   "source": [
    "class Solution:\n",
    "    def countSubstrings(self, s: str) -> int:\n",
    "        dp = [[False for _ in range(len(s))] for _ in range(len(s))]\n",
    "        ans = 0\n",
    "\n",
    "        for j in range(len(s)):\n",
    "            for i in range(j+1):\n",
    "                if s[i] == s[j] and (j-i<2 or dp[i+1][j-1]):\n",
    "                    dp[i][j] = True\n",
    "                    ans += 1\n",
    "        return ans\n",
    "#上述代码，时间复杂度为 O(N^2)，空间复杂度为 O(N^2)。"
   ]
  },
  {
   "cell_type": "markdown",
   "id": "eb3b03c5",
   "metadata": {},
   "source": [
    "2. 中心扩展法\n",
    "这是一个比较巧妙的方法，实质的思路和动态规划的思路类似。\n",
    "\n",
    "比如对一个字符串 ababa，选择最中间的 a 作为中心点，往两边扩散，第一次扩散发现 left 指向的是 b，right 指向的也是 b，所以是回文串，继续扩散，同理 ababa 也是回文串。\n",
    "\n",
    "这个是确定了一个中心点后的寻找的路径，然后我们只要寻找到所有的中心点，问题就解决了。\n",
    "\n",
    "中心点一共有多少个呢？看起来像是和字符串长度相等，但你会发现，如果是这样，上面的例子永远也搜不到 abab，想象一下单个字符的哪个中心点扩展可以得到这个子串？似乎不可能。所以中心点不能只有单个字符构成，还要包括两个字符，比如上面这个子串 abab，就可以有中心点 ba 扩展一次得到，所以最终的中心点由 2 * len - 1 个，分别是 len 个单字符和 len - 1 个双字符。\n",
    "\n",
    "如果上面看不太懂的话，还可以看看下面几个问题：\n",
    "\n",
    "为什么有 2 * len - 1 个中心点？\n",
    "aba 有5个中心点，分别是 a、b、c、ab、ba\n",
    "abba 有7个中心点，分别是 a、b、b、a、ab、bb、ba\n",
    "什么是中心点？\n",
    "中心点即 left 指针和 right 指针初始化指向的地方，可能是一个也可能是两个\n",
    "为什么不可能是三个或者更多？\n",
    "因为 3 个可以由 1 个扩展一次得到，4 个可以由两个扩展一次得到\n",
    "\n",
    "时间复杂度为 O(N^2)，空间复杂度为 O(1)\n",
    "\n",
    "作者：jawhiow\n",
    "链接：https://leetcode.cn/problems/palindromic-substrings/solution/liang-dao-hui-wen-zi-chuan-de-jie-fa-xiang-jie-zho/\n",
    "来源：力扣（LeetCode）\n",
    "著作权归作者所有。商业转载请联系作者获得授权，非商业转载请注明出处。\n",
    "\n",
    "我觉得中心扩展法不是这个意思吧； 简单理解一下就好了： 1.遍历每个字符作为中心 2.判断每个字符左右来辨别是不是回文，是的话继续左--，右++再判断。 3.特殊处理一下有两个相同字符时，作为中心\n",
    "\n",
    "**中心扩展法** 中心点不仅只有单个字符构成，还要包括两个字符，所以最终的中心点由 2 * len - 1 个，分别是 len 个单字符和 len - 1 个双字符。"
   ]
  },
  {
   "cell_type": "code",
   "execution_count": null,
   "id": "9fd466c3",
   "metadata": {},
   "outputs": [],
   "source": [
    "class Solution:\n",
    "    def countSubstrings(self, s: str) -> int:\n",
    "        count = 0\n",
    "        n = len(s)\n",
    "        for i in range(2*n-1):\n",
    "            l = i//2\n",
    "            r = i//2+i%2\n",
    "            while(l>=0 and r<n and s[l]==s[r]):\n",
    "                count+=1\n",
    "                l-=1\n",
    "                r+=1\n",
    "\n",
    "        return count"
   ]
  },
  {
   "cell_type": "code",
   "execution_count": null,
   "id": "92ef6d3b",
   "metadata": {},
   "outputs": [],
   "source": []
  },
  {
   "cell_type": "code",
   "execution_count": null,
   "id": "4ebf6ad3",
   "metadata": {},
   "outputs": [],
   "source": [
    "class Solution:\n",
    "    def countSubstrings(self, s: str) -> int:\n",
    "        n= len(s)\n",
    "        t = \"$#\"   \n",
    "        for i in range(n):\n",
    "            t += s[i]\n",
    "            t += '#'\n",
    "        n= len(t)\n",
    "        t += '!' # 加入'$'和'!'是为了循环时避免越界\n",
    "\n",
    "        f =[0]*n\n",
    "        iMax,rMax,ans = 0,0,0 # iMax,rMax 分别是回文中心和最远的回文右半径端点\n",
    "\n",
    "        for i in range(n):\n",
    "            # 初始化 f[i]\n",
    "            if i <= rMax:\n",
    "                f[i] = min(rMax - i + 1, f[2 * iMax - i]) # min(对称位置的回文半径, 到rMax的距离)\n",
    "            # 中心拓展\n",
    "            while t[i+f[i]] == t[i-f[i]]:\n",
    "                f[i] +=1\n",
    "            # 动态维护 iMax和rMax\n",
    "            if i + f[i] - 1 > rMax:\n",
    "                iMax = i;\n",
    "                rMax = i + f[i] - 1\n",
    "            # 统计答案, 当前贡献为 (f[i] - 1) / 2 上取整\n",
    "            ans += f[i] // 2 \n",
    "        \n",
    "        return ans"
   ]
  },
  {
   "cell_type": "markdown",
   "id": "dc828fda",
   "metadata": {},
   "source": [
    "### 12. Integer to Roman"
   ]
  },
  {
   "cell_type": "markdown",
   "id": "d9348830",
   "metadata": {},
   "source": [
    "Roman numerals are represented by seven different symbols: I, V, X, L, C, D and M.\n",
    "\n",
    "Symbol       Value\n",
    "I             1\n",
    "V             5\n",
    "X             10\n",
    "L             50\n",
    "C             100\n",
    "D             500\n",
    "M             1000\n",
    "For example, 2 is written as II in Roman numeral, just two one's added together. 12 is written as XII, which is simply X + II. The number 27 is written as XXVII, which is XX + V + II.\n",
    "\n",
    "Roman numerals are usually written largest to smallest from left to right. However, the numeral for four is not IIII. Instead, the number four is written as IV. Because the one is before the five we subtract it making four. The same principle applies to the number nine, which is written as IX. There are six instances where subtraction is used:\n",
    "\n",
    "I can be placed before V (5) and X (10) to make 4 and 9. \n",
    "X can be placed before L (50) and C (100) to make 40 and 90. \n",
    "C can be placed before D (500) and M (1000) to make 400 and 900.\n",
    "Given an integer, convert it to a roman numeral.\n",
    "\n",
    "Input: num = 3\n",
    "Output: \"III\"\n",
    "Explanation: 3 is represented as 3 ones."
   ]
  },
  {
   "cell_type": "code",
   "execution_count": null,
   "id": "26c34996",
   "metadata": {},
   "outputs": [],
   "source": [
    "class Solution:\n",
    "    def intToRoman(self, num: int) -> str:\n",
    "        d = {1000: 'M', 900: 'CM', 500: 'D', 400: 'CD', 100: 'C', 90: 'XC', 50: 'L', \n",
    "             40: 'XL', 10: 'X', 9: 'IX', 5: 'V', 4: 'IV', 1: 'I'} \n",
    "        \n",
    "        res = \"\"\n",
    "        \n",
    "        for i in d:\n",
    "            res += (num//i) * d[i]\n",
    "            num %= i\n",
    "        \n",
    "        return res"
   ]
  },
  {
   "cell_type": "markdown",
   "id": "b5b89936",
   "metadata": {},
   "source": [
    "### 17. Letter Combinations of a Phone Number\n"
   ]
  },
  {
   "cell_type": "markdown",
   "id": "c7e328a9",
   "metadata": {},
   "source": [
    "Given a string containing digits from 2-9 inclusive, return all possible letter combinations that the number could represent. Return the answer in any order.\n",
    "\n",
    "A mapping of digits to letters (just like on the telephone buttons) is given below. Note that 1 does not map to any letters.\n",
    "Input: digits = \"23\"\n",
    "Output: [\"ad\",\"ae\",\"af\",\"bd\",\"be\",\"bf\",\"cd\",\"ce\",\"cf\"]"
   ]
  },
  {
   "cell_type": "code",
   "execution_count": null,
   "id": "3c883c9e",
   "metadata": {},
   "outputs": [],
   "source": [
    "class Solution(object):\n",
    "    def letterCombinations(self, digits):\n",
    "        \"\"\"\n",
    "        :type digits: str\n",
    "        :rtype: List[str]\n",
    "        \"\"\"\n",
    "        interpret_digit = {\n",
    "            '1': '',\n",
    "            '2': 'abc',\n",
    "            '3': 'def',\n",
    "            '4': 'ghi',\n",
    "            '5': 'jkl',\n",
    "            '6': 'mno',\n",
    "            '7': 'pqrs',\n",
    "            '8': 'tuv',\n",
    "            '9': 'wxyz',\n",
    "            '0': ' '}\n",
    "        all_combinations = [''] if digits else []\n",
    "        for digit in digits:\n",
    "            current_combinations = list()\n",
    "            for letter in interpret_digit[digit]:\n",
    "                for combination in all_combinations:\n",
    "                    current_combinations.append(combination + letter)\n",
    "            all_combinations = current_combinations\n",
    "        return all_combinations"
   ]
  },
  {
   "cell_type": "code",
   "execution_count": null,
   "id": "68237d7d",
   "metadata": {},
   "outputs": [],
   "source": [
    "# Input: digits = \"23\"\n",
    "# Output: [\"ad\",\"ae\",\"af\",\"bd\",\"be\",\"bf\",\"cd\",\"ce\",\"cf\"]\n",
    "\n",
    "def letterCombinations(self, digits):\n",
    "    dict = {'2':\"abc\", '3':\"def\", '4':\"ghi\", '5':\"jkl\", '6':\"mno\", '7': \"pqrs\", \n",
    "        '8':\"tuv\", '9':\"wxyz\"}\n",
    "    \n",
    "    cmb = [''] if digits else []\n",
    "    for d in digits:\n",
    "        cmb = [p + q for p in cmb for q in dict[d]]\n",
    "    return cmb"
   ]
  },
  {
   "cell_type": "markdown",
   "id": "2fa9b183",
   "metadata": {},
   "source": [
    "### 38. Count and Say\n"
   ]
  },
  {
   "cell_type": "markdown",
   "id": "6e24a861",
   "metadata": {},
   "source": [
    "The count-and-say sequence is a sequence of digit strings defined by the recursive formula:\n",
    "\n",
    "countAndSay(1) = \"1\"\n",
    "countAndSay(n) is the way you would \"say\" the digit string from countAndSay(n-1), which is then converted into a different digit string.\n",
    "To determine how you \"say\" a digit string, split it into the minimal number of substrings such that each substring contains exactly one unique digit. Then for each substring, say the number of digits, then say the digit. Finally, concatenate every said digit.\n",
    "\n",
    "For example, the saying and conversion for digit string \"3322251\":\n",
    "\n",
    "Input: n = 4\n",
    "Output: \"1211\"\n",
    "Explanation:\n",
    "countAndSay(1) = \"1\"\n",
    "countAndSay(2) = say \"1\" = one 1 = \"11\"\n",
    "countAndSay(3) = say \"11\" = two 1's = \"21\"\n",
    "countAndSay(4) = say \"21\" = one 2 + one 1 = \"12\" + \"11\" = \"1211\"\n",
    "\n"
   ]
  },
  {
   "cell_type": "code",
   "execution_count": null,
   "id": "d53a3337",
   "metadata": {},
   "outputs": [],
   "source": [
    "class Solution:\n",
    "    def countAndSay(self, n: int) -> str:\n",
    "        \"\"\"\n",
    "        :type n: int\n",
    "        :rtype : str\n",
    "        \"\"\"\n",
    "        #base case\n",
    "        if n == 1:\n",
    "            return \"1\"\n",
    "        prev = self.countAndSay(n -1) #recursion\n",
    "        \n",
    "        res = \"\" #reset res to empty every time we call this function \n",
    "        ct = 1\n",
    "        \n",
    "        for i in range(len(prev)): #need set up precedure how to interpret string from prev to current\n",
    "            if i == len(prev) -1 or prev[i] != prev[i + 1]: \n",
    "                res += str(ct) + prev[i]\n",
    "                ct = 1   #need reset ct to 1 every time we finish check \"same number\"\n",
    "            else: \n",
    "                ct += 1\n",
    "        return res"
   ]
  }
 ],
 "metadata": {
  "kernelspec": {
   "display_name": "Python 3 (ipykernel)",
   "language": "python",
   "name": "python3"
  },
  "language_info": {
   "codemirror_mode": {
    "name": "ipython",
    "version": 3
   },
   "file_extension": ".py",
   "mimetype": "text/x-python",
   "name": "python",
   "nbconvert_exporter": "python",
   "pygments_lexer": "ipython3",
   "version": "3.9.12"
  }
 },
 "nbformat": 4,
 "nbformat_minor": 5
}
