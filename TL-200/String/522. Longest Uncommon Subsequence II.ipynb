{
 "cells": [
  {
   "cell_type": "code",
   "execution_count": null,
   "id": "6dfd73a6",
   "metadata": {},
   "outputs": [],
   "source": [
    "\"\"\"\n",
    "522. Longest Uncommon Subsequence II\n",
    "Given an array of strings strs, return the length of the longest uncommon subsequence between them. If the longest \n",
    "uncommon subsequence does not exist, return -1.\n",
    "An uncommon subsequence between an array of strings is a string that is a subsequence of one string but not the others.\n",
    "A subsequence of a string s is a string that can be obtained after deleting any number of characters from s.\n",
    "For example, \"abc\" is a subsequence of \"aebdc\" because you can delete the underlined characters in \"aebdc\" to \n",
    "get \"abc\". Other subsequences of \"aebdc\" include \"aebdc\", \"aeb\", and \"\" (empty string).\n",
    "\n",
    "Input: strs = [\"aba\",\"cdc\",\"eae\"]              Output: 3\n",
    "Input: strs = [\"aaa\",\"aaa\",\"aa\"]               Output: -1\n",
    "\"\"\""
   ]
  },
  {
   "cell_type": "code",
   "execution_count": null,
   "id": "fb0c9434",
   "metadata": {},
   "outputs": [],
   "source": [
    "class Solution:\n",
    "    def findLUSlength(self, strs: List[str]) -> int:\n",
    "        \"\"\"\n",
    "        :type strs: List[str]\n",
    "        :rtype: int\n",
    "        \"\"\"\n",
    "        \n",
    "        short = \"\"\n",
    "        minLen = len(str[0])\n",
    "        for i in strs:\n",
    "            if len(i) < minLen:\n",
    "                minLen = len(i)\n",
    "                short = i\n",
    "                \n",
    "        shortDict  = dict(enumerate(short)) \n",
    "        \n",
    "        for i in strs:\n",
    "            \n",
    "            \n",
    "            "
   ]
  }
 ],
 "metadata": {
  "kernelspec": {
   "display_name": "Python 3 (ipykernel)",
   "language": "python",
   "name": "python3"
  },
  "language_info": {
   "codemirror_mode": {
    "name": "ipython",
    "version": 3
   },
   "file_extension": ".py",
   "mimetype": "text/x-python",
   "name": "python",
   "nbconvert_exporter": "python",
   "pygments_lexer": "ipython3",
   "version": "3.9.12"
  }
 },
 "nbformat": 4,
 "nbformat_minor": 5
}
