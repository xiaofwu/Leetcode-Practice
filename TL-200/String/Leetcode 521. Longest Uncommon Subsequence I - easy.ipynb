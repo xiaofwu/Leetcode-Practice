{
 "cells": [
  {
   "cell_type": "markdown",
   "id": "6a2a25aa",
   "metadata": {},
   "source": [
    "521. Longest Uncommon Subsequence I\n",
    "Given two strings a and b, return the length of the longest uncommon subsequence between a and b. If the longest uncommon subsequence does not exist, return -1.\n",
    "\n",
    "An uncommon subsequence between two strings is a string that is a subsequence of one but not the other.\n",
    "\n",
    "A subsequence of a string s is a string that can be obtained after deleting any number of characters from s.\n",
    "\n",
    "For example, \"abc\" is a subsequence of \"aebdc\" because you can delete the underlined characters in \"aebdc\" to get \"abc\". Other subsequences of \"aebdc\" include \"aebdc\", \"aeb\", and \"\" (empty string).\n",
    "\n",
    "Example 1:\n",
    "\n",
    "Input: a = \"aba\", b = \"cdc\"\n",
    "Output: 3\n",
    "Explanation: One longest uncommon subsequence is \"aba\" because \"aba\" is a subsequence of \"aba\" but not \"cdc\".\n",
    "Note that \"cdc\" is also a longest uncommon subsequence.\n",
    "Example 2:\n",
    "\n",
    "Input: a = \"aaa\", b = \"bbb\"\n",
    "Output: 3\n",
    "Explanation: The longest uncommon subsequences are \"aaa\" and \"bbb\".\n",
    "Example 3:\n",
    "\n",
    "Input: a = \"aaa\", b = \"aaa\"\n",
    "Output: -1\n",
    "Explanation: Every subsequence of string a is also a subsequence of string b. Similarly, every subsequence of string b is also a subsequence of string a."
   ]
  },
  {
   "cell_type": "markdown",
   "id": "f0aef22c",
   "metadata": {},
   "source": [
    "方法一：脑筋急转弯\n",
    "字符串的子序列的长度不会超过该字符串的长度。若子序列的长度等于字符串的长度，那么子序列就是该字符串。\n",
    "\n",
    "若两字符串不相同，那么我们可以选择较长的字符串作为最长特殊序列，显然它不会是较短的字符串的子序列。特别地，当两字符串长度相同时（但不是同一字符串），我们仍然可以选择其中的一个字符串作为最长特殊序列，它不会是另一个字符串的子序列。\n",
    "\n",
    "若两字符串相同，那么任一字符串的子序列均会出现在两个字符串中，此时应返回 -1−1。\n"
   ]
  },
  {
   "cell_type": "code",
   "execution_count": null,
   "id": "27c6a4f7",
   "metadata": {},
   "outputs": [],
   "source": [
    "class Solution:\n",
    "    def findLUSlength(self, a: str, b: str) -> int:\n",
    "        return max(len(a), len(b)) if a != b else -1\n",
    "    \n",
    "# O(n), O(1)"
   ]
  },
  {
   "cell_type": "code",
   "execution_count": null,
   "id": "1613e51a",
   "metadata": {},
   "outputs": [],
   "source": [
    "def findLUSlength(self, A, B):\n",
    "    if A == B:\n",
    "        return -1\n",
    "    return max(len(A), len(B))"
   ]
  }
 ],
 "metadata": {
  "kernelspec": {
   "display_name": "Python 3 (ipykernel)",
   "language": "python",
   "name": "python3"
  },
  "language_info": {
   "codemirror_mode": {
    "name": "ipython",
    "version": 3
   },
   "file_extension": ".py",
   "mimetype": "text/x-python",
   "name": "python",
   "nbconvert_exporter": "python",
   "pygments_lexer": "ipython3",
   "version": "3.9.12"
  }
 },
 "nbformat": 4,
 "nbformat_minor": 5
}
