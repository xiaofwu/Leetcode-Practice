{
 "cells": [
  {
   "cell_type": "markdown",
   "id": "64fbe5d6",
   "metadata": {},
   "source": [
    "387. First Unique Character in a String\n",
    "Given a string s, find the first non-repeating character in it and return its index. If it does not exist, return -1.\n",
    "\n",
    "Input: s = \"leetcode\"\n",
    "Output: 0\n",
    "\n",
    "Input: s = \"loveleetcode\"\n",
    "Output: 2"
   ]
  },
  {
   "cell_type": "code",
   "execution_count": null,
   "id": "0c8e6abc",
   "metadata": {},
   "outputs": [],
   "source": [
    "class Solution:\n",
    "    def firstUniqChar(self, s: str) -> int:\n",
    "        if not s: return -1\n",
    "        d={}\n",
    "        for char in s:\n",
    "            d[char] = d.get(char, 0) + 1\n",
    "        for i in range(len(s)):\n",
    "            if d[s[i]] == 1:\n",
    "                return i\n",
    "        return -1"
   ]
  }
 ],
 "metadata": {
  "kernelspec": {
   "display_name": "Python 3 (ipykernel)",
   "language": "python",
   "name": "python3"
  },
  "language_info": {
   "codemirror_mode": {
    "name": "ipython",
    "version": 3
   },
   "file_extension": ".py",
   "mimetype": "text/x-python",
   "name": "python",
   "nbconvert_exporter": "python",
   "pygments_lexer": "ipython3",
   "version": "3.9.12"
  }
 },
 "nbformat": 4,
 "nbformat_minor": 5
}
