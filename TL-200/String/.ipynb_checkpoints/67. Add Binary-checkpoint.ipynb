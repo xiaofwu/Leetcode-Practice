{
 "cells": [
  {
   "cell_type": "markdown",
   "id": "e86e3173",
   "metadata": {},
   "source": [
    "67. Add Binary\n",
    "Given two binary strings a and b, return their sum as a binary string.\n",
    "\n"
   ]
  },
  {
   "cell_type": "code",
   "execution_count": null,
   "id": "db1d67ca",
   "metadata": {},
   "outputs": [],
   "source": [
    "   class Solution:\n",
    "        def addBinary(self, a, b):\n",
    "            if len(a)==0: return b\n",
    "            if len(b)==0: return a\n",
    "            if a[-1] == '1' and b[-1] == '1':\n",
    "                return self.addBinary(self.addBinary(a[0:-1],b[0:-1]),'1')+'0'\n",
    "            if a[-1] == '0' and b[-1] == '0':\n",
    "                return self.addBinary(a[0:-1],b[0:-1])+'0'\n",
    "            else:\n",
    "                return self.addBinary(a[0:-1],b[0:-1])+'1'"
   ]
  },
  {
   "cell_type": "code",
   "execution_count": null,
   "id": "1d9c4c21",
   "metadata": {},
   "outputs": [],
   "source": [
    "class Solution:\n",
    "    def addBinary(self, a: str, b: str) -> str:\n",
    "        carry = 0\n",
    "        result = ''\n",
    "\n",
    "        a = list(a)\n",
    "        b = list(b)\n",
    "\n",
    "        while a or b or carry:\n",
    "            if a:\n",
    "                carry += int(a.pop())\n",
    "            if b:\n",
    "                carry += int(b.pop())\n",
    "\n",
    "            result += str(carry %2)\n",
    "            carry //= 2\n",
    "\n",
    "        return result[::-1]"
   ]
  }
 ],
 "metadata": {
  "kernelspec": {
   "display_name": "Python 3 (ipykernel)",
   "language": "python",
   "name": "python3"
  },
  "language_info": {
   "codemirror_mode": {
    "name": "ipython",
    "version": 3
   },
   "file_extension": ".py",
   "mimetype": "text/x-python",
   "name": "python",
   "nbconvert_exporter": "python",
   "pygments_lexer": "ipython3",
   "version": "3.9.12"
  }
 },
 "nbformat": 4,
 "nbformat_minor": 5
}
