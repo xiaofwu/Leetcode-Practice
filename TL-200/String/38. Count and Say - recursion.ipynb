{
 "cells": [
  {
   "cell_type": "code",
   "execution_count": null,
   "id": "a522fae6",
   "metadata": {},
   "outputs": [],
   "source": [
    "\"\"\"\n",
    "38. Count and Say\n",
    "The count-and-say sequence is a sequence of digit strings defined by the recursive formula:\n",
    "countAndSay(1) = \"1\"\n",
    "countAndSay(n) is the way you would \"say\" the digit string from countAndSay(n-1), which is then converted into a \n",
    "different digit string.\n",
    "To determine how you \"say\" a digit string, split it into the minimal number of substrings such that each substring \n",
    "contains exactly one unique digit. Then for each substring, say the number of digits, then say the digit. \n",
    "Finally, concatenate every said digit.\n",
    "\n",
    "Input: n = 4\n",
    "Output: \"1211\"\n",
    "Explanation:\n",
    "countAndSay(1) = \"1\"\n",
    "countAndSay(2) = say \"1\" = one 1 = \"11\"\n",
    "countAndSay(3) = say \"11\" = two 1's = \"21\"\n",
    "countAndSay(4) = say \"21\" = one 2 + one 1 = \"12\" + \"11\" = \"1211\"\n",
    "\"\"\""
   ]
  },
  {
   "cell_type": "code",
   "execution_count": null,
   "id": "1bffa1bd",
   "metadata": {},
   "outputs": [],
   "source": [
    "class Solution:\n",
    "    def countAndSay(self, n: int) -> str:\n",
    "        \"\"\"\n",
    "        :type n: int\n",
    "        :rtype : str\n",
    "        \"\"\"\n",
    "        #base case\n",
    "        if n == 1:\n",
    "            return \"1\"\n",
    "        prev = self.countAndSay(n -1) #recursion\n",
    "        \n",
    "        res = \"\" #reset res to empty every time we call this function \n",
    "        ct = 1\n",
    "        \n",
    "        for i in range(len(prev)): #need set up precedure how to interpret string from prev to current\n",
    "            if i == len(prev) -1 or prev[i] != prev[i + 1]: \n",
    "                res += str(ct) + prev[i]\n",
    "                ct = 1   #need reset ct to 1 every time we finish check \"same number\"\n",
    "            else: \n",
    "                ct += 1\n",
    "        return res\n",
    "            \n",
    "            \n",
    "            \n",
    "            \n",
    "        "
   ]
  }
 ],
 "metadata": {
  "kernelspec": {
   "display_name": "Python 3 (ipykernel)",
   "language": "python",
   "name": "python3"
  },
  "language_info": {
   "codemirror_mode": {
    "name": "ipython",
    "version": 3
   },
   "file_extension": ".py",
   "mimetype": "text/x-python",
   "name": "python",
   "nbconvert_exporter": "python",
   "pygments_lexer": "ipython3",
   "version": "3.9.12"
  }
 },
 "nbformat": 4,
 "nbformat_minor": 5
}
