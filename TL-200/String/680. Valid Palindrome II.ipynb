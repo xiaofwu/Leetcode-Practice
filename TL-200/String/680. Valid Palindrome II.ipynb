{
 "cells": [
  {
   "cell_type": "markdown",
   "id": "373aab6f",
   "metadata": {},
   "source": [
    "680. Valid Palindrome II\n",
    "Given a string s, return true if the s can be palindrome after deleting at most one character from it.\n",
    "\n",
    "Example 1:\n",
    "\n",
    "Input: s = \"aba\"\n",
    "Output: true\n",
    "Example 2:\n",
    "\n",
    "Input: s = \"abca\"\n",
    "Output: true\n",
    "Explanation: You could delete the character 'c'.\n",
    "Example 3:\n",
    "\n",
    "Input: s = \"abc\"\n",
    "Output: false"
   ]
  },
  {
   "cell_type": "code",
   "execution_count": null,
   "id": "9e825257",
   "metadata": {},
   "outputs": [],
   "source": [
    "class Solution:\n",
    "    def validPalindrome(self, s: str) -> bool:\n",
    "        i, j = 0, len(s) - 1\n",
    "        is_palindrome = lambda x: x == x[::-1]\n",
    "        while i < j:\n",
    "            if s[i] != s[j]:\n",
    "                return is_palindrome(s[i:j]) or is_palindrome(s[i + 1:j + 1])\n",
    "            i += 1\n",
    "            j -= 1\n",
    "        return True"
   ]
  }
 ],
 "metadata": {
  "kernelspec": {
   "display_name": "Python 3 (ipykernel)",
   "language": "python",
   "name": "python3"
  },
  "language_info": {
   "codemirror_mode": {
    "name": "ipython",
    "version": 3
   },
   "file_extension": ".py",
   "mimetype": "text/x-python",
   "name": "python",
   "nbconvert_exporter": "python",
   "pygments_lexer": "ipython3",
   "version": "3.9.12"
  }
 },
 "nbformat": 4,
 "nbformat_minor": 5
}
