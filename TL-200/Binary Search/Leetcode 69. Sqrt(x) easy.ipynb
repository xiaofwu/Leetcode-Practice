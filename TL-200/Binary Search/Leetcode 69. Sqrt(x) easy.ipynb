{
 "cells": [
  {
   "cell_type": "markdown",
   "id": "4278993c",
   "metadata": {},
   "source": [
    "69. Sqrt(x) easy\n",
    "Given a non-negative integer x, compute and return the square root of x.\n",
    "Since the return type is an integer, the decimal digits are truncated, and only the integer part of the result is returned.\n",
    "Note: You are not allowed to use any built-in exponent function or operator, such as pow(x, 0.5) or x ** 0.5.\n",
    "\n",
    "Input: x = 8     Output: 2\n",
    "Explanation: The square root of 8 is 2.82842..., and since the decimal part is truncated, 2 is returned."
   ]
  },
  {
   "cell_type": "code",
   "execution_count": null,
   "id": "820f0c5b",
   "metadata": {},
   "outputs": [],
   "source": [
    "class Solution:\n",
    "    def mySqrt(self, x: int) -> int:\n",
    "        \"\"\"\n",
    "        :type x: int\n",
    "        :rtype int\n",
    "        \"\"\"\n",
    "        # intuitive solution is to use BS!\n",
    "        if not x: return 0\n",
    "        if x == 1: return 1\n",
    "        \n",
    "        L = 0\n",
    "        R = x\n",
    "        \n",
    "        while L <= R:\n",
    "            mid = L + (R - L) // 2\n",
    "            if mid * mid == x:\n",
    "                return mid\n",
    "            elif mid * mid < x:\n",
    "                L = mid + 1\n",
    "            else:\n",
    "                R = mid - 1\n",
    "        return L - 1\n",
    "            \n",
    "        "
   ]
  }
 ],
 "metadata": {
  "kernelspec": {
   "display_name": "Python 3 (ipykernel)",
   "language": "python",
   "name": "python3"
  },
  "language_info": {
   "codemirror_mode": {
    "name": "ipython",
    "version": 3
   },
   "file_extension": ".py",
   "mimetype": "text/x-python",
   "name": "python",
   "nbconvert_exporter": "python",
   "pygments_lexer": "ipython3",
   "version": "3.9.12"
  }
 },
 "nbformat": 4,
 "nbformat_minor": 5
}
