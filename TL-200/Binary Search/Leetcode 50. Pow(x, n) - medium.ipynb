{
 "cells": [
  {
   "cell_type": "code",
   "execution_count": null,
   "id": "187c834a",
   "metadata": {},
   "outputs": [],
   "source": [
    "# Leetcode 50. Pow(x, n) medium\n",
    "# Implement pow(x, n), which calculates x raised to the power n (i.e., xn).\n",
    "# 「快速幂算法」的本质是分治算法\n",
    "# x→ x^2 →x^4 →x^8 →x^16 →x^32 →x^64\n",
    "# x→ x^2 →x^4 →x^8 →x^16 →x^32 →x^64 → x^65\n",
    "class Solution:\n",
    "    def myPow(self, x: float, n: int) -> float:\n",
    "        # This is the most intuitive code.\n",
    "        # cover the corner case\n",
    "        if x == 1 or n == 0: \n",
    "            return 1\n",
    "        # cover cases when n is negative. Convert problem to a problem \n",
    "        # that can be solved as n is a positive number\n",
    "        if n < 0: \n",
    "            return self.myPow(1/x, -n)\n",
    "        # a general solution to the problem considering n as positive\n",
    "        temp = n // 2\n",
    "        if n % 2 == 0:\n",
    "            return self.myPow(x, temp) ** 2\n",
    "        else:\n",
    "            return x * self.myPow(x, temp) ** 2\n",
    "O(log n)\n",
    "O(logn)"
   ]
  },
  {
   "cell_type": "code",
   "execution_count": null,
   "id": "4d7b9a68",
   "metadata": {},
   "outputs": [],
   "source": [
    "# From Leetcode - Recursive:\n",
    "class Solution:\n",
    "    def myPow(self, x, n):\n",
    "        if not n:\n",
    "            return 1\n",
    "        if n < 0:\n",
    "            return 1 / self.myPow(x, -n)\n",
    "        if n % 2:\n",
    "            return x * self.myPow(x, n-1)\n",
    "        return self.myPow(x*x, n/2)"
   ]
  },
  {
   "cell_type": "code",
   "execution_count": null,
   "id": "da7dbd42",
   "metadata": {},
   "outputs": [],
   "source": [
    "# From Leetcode - iterative\n",
    "class Solution:\n",
    "    def myPow(self, x, n):\n",
    "        if n < 0:\n",
    "            x = 1 / x\n",
    "            n = -n\n",
    "        pow = 1\n",
    "        while n:\n",
    "            if n & 1:\n",
    "                pow *= x\n",
    "            x *= x\n",
    "            n >>= 1\n",
    "        return pow"
   ]
  }
 ],
 "metadata": {
  "kernelspec": {
   "display_name": "Python 3 (ipykernel)",
   "language": "python",
   "name": "python3"
  },
  "language_info": {
   "codemirror_mode": {
    "name": "ipython",
    "version": 3
   },
   "file_extension": ".py",
   "mimetype": "text/x-python",
   "name": "python",
   "nbconvert_exporter": "python",
   "pygments_lexer": "ipython3",
   "version": "3.9.12"
  }
 },
 "nbformat": 4,
 "nbformat_minor": 5
}
