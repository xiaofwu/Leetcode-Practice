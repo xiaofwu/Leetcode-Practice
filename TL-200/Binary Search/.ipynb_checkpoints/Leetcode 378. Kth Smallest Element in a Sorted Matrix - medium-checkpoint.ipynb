{
 "cells": [
  {
   "cell_type": "markdown",
   "id": "35bad062",
   "metadata": {},
   "source": [
    "378. Kth Smallest Element in a Sorted Matrix\n",
    "Given an n x n matrix where each of the rows and columns is sorted in ascending order, return the kth smallest element in the matrix.\n",
    "\n",
    "Note that it is the kth smallest element in the sorted order, not the kth distinct element.\n",
    "\n",
    "You must find a solution with a memory complexity better than O(n2).\n",
    "\n",
    "Input: matrix = [[1,5,9],[10,11,13],[12,13,15]], k = 8\n",
    "Output: 13\n",
    "Explanation: The elements in the matrix are [1,5,9,10,11,12,13,13,15], and the 8th smallest number is 13"
   ]
  },
  {
   "cell_type": "code",
   "execution_count": null,
   "id": "ecb6d16b",
   "metadata": {},
   "outputs": [],
   "source": [
    "# Binary Search Method: Time Complexity: O(Nlog(max-min))\n",
    "class Solution:\n",
    "    def kthSmallest(self, matrix: List[List[int]], k: int):\n",
    "        rows, cols = len(matrix), len(matrix[0])\n",
    "        minval, maxval = matrix[0][0], matrix[-1][-1]\n",
    "        \n",
    "        def matrixCount(num):\n",
    "            count = 0\n",
    "            r, c = 0, cols-1\n",
    "            while r < rows and c >= 0:\n",
    "                if matrix[r][c] <= num:\n",
    "                    count += c+1\n",
    "                    r += 1\n",
    "                else:\n",
    "                    c -= 1\n",
    "            return count\n",
    "        \n",
    "        while minval < maxval:\n",
    "            mid = (minval+maxval)//2\n",
    "            countl = matrixCount(mid)\n",
    "            if countl < k:\n",
    "                minval = mid+1\n",
    "            else:\n",
    "                maxval = mid\n",
    "        \n",
    "        return maxval"
   ]
  },
  {
   "cell_type": "code",
   "execution_count": null,
   "id": "4147f90f",
   "metadata": {},
   "outputs": [],
   "source": [
    "# Heap Method 2, Time Complexity: O(Klog(min(N,K)) or O(KlogN)\n",
    "class Solution:\n",
    "    def kthSmallest(self, matrix: List[List[int]], k: int) :\n",
    "        rows, cols = len(matrix), len(matrix[0])\n",
    "        heap = []\n",
    "        heapify(heap)\n",
    "        for i in range(min(cols, k)):\n",
    "            heappush(heap, (matrix[0][i], 0, i))\n",
    "        \n",
    "        for i in range(k-1):\n",
    "            _, r, c = heappop(heap)\n",
    "            if r+1 < rows:\n",
    "                heappush(heap, (matrix[r+1][c], r+1, c))      \n",
    "        \n",
    "        return heappop(heap)[0]"
   ]
  },
  {
   "cell_type": "code",
   "execution_count": null,
   "id": "e669883b",
   "metadata": {},
   "outputs": [],
   "source": [
    "#Heap Method 1, Time Complexity: O(log(K!))\n",
    "class Solution:\n",
    "    def kthSmallest(self, matrix: List[List[int]], k: int):\n",
    "        rows, cols = len(matrix), len(matrix[0])\n",
    "        heap = [(matrix[0][0], 0, 0)]\n",
    "        heapify(heap)\n",
    "        visited = {(0,0)}\n",
    "        \n",
    "        for i in range(k-1):\n",
    "            _, r0, c0 = heappop(heap)\n",
    "            \n",
    "            for r, c in [(r0+1, c0), (r0, c0+1)]:\n",
    "                if r < rows and c < cols and (r,c) not in visited:\n",
    "                    heappush(heap, (matrix[r][c], r, c))\n",
    "                    visited.add((r, c))        \n",
    "        \n",
    "        return heappop(heap)[0]"
   ]
  },
  {
   "cell_type": "code",
   "execution_count": null,
   "id": "30daf4f4",
   "metadata": {},
   "outputs": [],
   "source": [
    "class Solution:\n",
    "    def kthSmallest(self, matrix: List[List[int]], k: int):\n",
    "        return sorted([i for row in matrix for i in row])[k-1]\n",
    "\"\"\"\n",
    "Naive Method\n",
    "Time Complexity: O(N²logN²)\n",
    "Note: Performs really fast due to simple test cases\n",
    "\"\"\""
   ]
  }
 ],
 "metadata": {
  "kernelspec": {
   "display_name": "Python 3 (ipykernel)",
   "language": "python",
   "name": "python3"
  },
  "language_info": {
   "codemirror_mode": {
    "name": "ipython",
    "version": 3
   },
   "file_extension": ".py",
   "mimetype": "text/x-python",
   "name": "python",
   "nbconvert_exporter": "python",
   "pygments_lexer": "ipython3",
   "version": "3.9.12"
  }
 },
 "nbformat": 4,
 "nbformat_minor": 5
}
