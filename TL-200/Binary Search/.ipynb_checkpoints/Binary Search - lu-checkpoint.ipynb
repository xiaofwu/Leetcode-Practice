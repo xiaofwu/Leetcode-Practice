{
 "cells": [
  {
   "cell_type": "code",
   "execution_count": null,
   "id": "75dce3c2",
   "metadata": {},
   "outputs": [],
   "source": [
    "Binary Search"
   ]
  },
  {
   "cell_type": "raw",
   "id": "2db51eb7",
   "metadata": {},
   "source": [
    "1. 50. pow(x,n)\n",
    "2. 29. divide two integers\n",
    "3. 209. minimum size subarrary sum\n",
    "4. 454. 4sum II\n",
    "5. 718. maximum length of repeated subarray\n",
    "6. 240. search a 2D matrix II\n",
    "7. 378. Kth smallest element in a sorted matrix\n",
    "8. 74. search a 2D matrix \n",
    "9. 33. search in rotated sorted array\n",
    "10. 81. search in rotated sorted array II\n"
   ]
  },
  {
   "cell_type": "markdown",
   "id": "025fd144",
   "metadata": {},
   "source": [
    "1. 50. pow(x,n)"
   ]
  },
  {
   "cell_type": "code",
   "execution_count": null,
   "id": "93119368",
   "metadata": {},
   "outputs": [],
   "source": []
  },
  {
   "cell_type": "code",
   "execution_count": null,
   "id": "e347124b",
   "metadata": {},
   "outputs": [],
   "source": [
    "class Solution:\n",
    "    def myPow(self, x: float, n: int) -> float:\n",
    "        def helper(x, n):\n",
    "            #corner case\n",
    "            if x == 0:\n",
    "                return 0\n",
    "            if n == 0:\n",
    "                return 1\n",
    "            \n",
    "            #each time, we calculate half of it \n",
    "            res = helper(x * x, n // 2)\n",
    "            return x * res if n % 2 else res\n",
    "        \n",
    "        # we need to consider n is negative\n",
    "        res = helper(x, abs(n))\n",
    "        return res if n >= 0 else 1 / res\n",
    "#neetcode"
   ]
  },
  {
   "cell_type": "code",
   "execution_count": null,
   "id": "aeaa13e7",
   "metadata": {},
   "outputs": [],
   "source": [
    "class Solution:\n",
    "    def myPow(self, x: float, n: int) -> float:\n",
    "        def quickMul(N):\n",
    "            if N == 0:\n",
    "                return 1.0\n",
    "            y = quickMul(N // 2)\n",
    "            return y * y if N % 2 == 0 else y * y * x\n",
    "        \n",
    "        return quickMul(n) if n >= 0 else 1.0 / quickMul(-n)\n",
    "\n",
    "作者：LeetCode-Solution\n",
    "链接：https://leetcode.cn/problems/powx-n/solution/powx-n-by-leetcode-solution/\n"
   ]
  },
  {
   "cell_type": "markdown",
   "id": "e56ab4cf",
   "metadata": {},
   "source": [
    "2. 29. divide two integers"
   ]
  },
  {
   "cell_type": "code",
   "execution_count": null,
   "id": "f0dc5f4e",
   "metadata": {},
   "outputs": [],
   "source": [
    "class Solution:\n",
    "    def divide(self, dividend: int, divisor: int) -> int:\n",
    "        d = abs(dividend)\n",
    "        dv = abs(divisor)\n",
    "        output = 0\n",
    "        while d >= dv:\n",
    "            tmp = dv\n",
    "            mul = 1\n",
    "            while d >= tmp:\n",
    "                d -= tmp\n",
    "                output += mul\n",
    "                mul += mul\n",
    "                tmp += tmp\n",
    "        if (dividend < 0 and divisor >= 0) or (divisor < 0 and dividend >= 0):\n",
    "            output = - output\n",
    "        boundary = 2**31\n",
    "        \n",
    "        return max(-boundary, min(output,boundary - 1))\n",
    "        #return min(boundary - 1, max(-boundary, output))\n",
    "#T:\n",
    "#S:"
   ]
  },
  {
   "cell_type": "markdown",
   "id": "e2624f13",
   "metadata": {},
   "source": [
    "3. 209. minimum size subarrary sum"
   ]
  },
  {
   "cell_type": "markdown",
   "id": "ba72e66b",
   "metadata": {},
   "source": [
    "But, we could easily find the sum in O(1) time by storing the cumulative sum from the beginning(Memoization)\n",
    "前缀 + bs"
   ]
  },
  {
   "cell_type": "markdown",
   "id": "9d1e5b35",
   "metadata": {},
   "source": [
    "在很多语言中，都有现成的库和函数来为我们实现这里二分查找大于等于某个数的第一个位置的功能，\n",
    "C++ 的 lower_bound，\n",
    "Java 中的 Arrays.binarySearch，\n",
    "C# 中的 Array.BinarySearch，\n",
    "Python 中的 bisect.bisect_left。\n",
    "\n"
   ]
  },
  {
   "cell_type": "code",
   "execution_count": null,
   "id": "cee0a2a2",
   "metadata": {},
   "outputs": [],
   "source": [
    "class Solution:\n",
    "    def minSubArrayLen(self, s: int, nums: List[int]) -> int:\n",
    "        if not nums:\n",
    "            return 0\n",
    "        \n",
    "        n = len(nums)\n",
    "        ans = n + 1\n",
    "        sums = [0]\n",
    "        for i in range(n):\n",
    "            sums.append(sums[-1] + nums[i])\n",
    "            #nums [1,2,3]\n",
    "            #sums [0,1,3,6] (we do binary search in this array...find a target = s + sum..., left is larger )\n",
    "        \n",
    "        for i in range(1, n + 1):\n",
    "            target = s + sums[i - 1]\n",
    "            bound = bisect.bisect_left(sums, target)\n",
    "            if bound != len(sums):\n",
    "                # i - 1 \n",
    "                ans = min(ans, bound - (i - 1))\n",
    "        \n",
    "        return 0 if ans == n + 1 else ans\n",
    "\n",
    "作者：LeetCode-Solution\n",
    "链接：https://leetcode.cn/problems/minimum-size-subarray-sum/solution/chang-du-zui-xiao-de-zi-shu-zu-by-leetcode-solutio/\n"
   ]
  },
  {
   "cell_type": "markdown",
   "id": "13e2deac",
   "metadata": {},
   "source": [
    "时间复杂度：O(nlogn)，其中 nn 是数组的长度。需要遍历每个下标作为子数组的开始下标，遍历的时间复杂度是O(n)，对于每个开始下标，需要通过二分查找得到长度最小的子数组，二分查找得时间复杂度是 O(logn)，因此总时间复杂度是O(nlogn)。\n",
    "\n",
    "空间复杂度：O(n)，其中 n 是数组的长度。额外创建数组 sums 存储前缀和。\n",
    "\n",
    "作者：LeetCode-Solution\n",
    "链接：https://leetcode.cn/problems/minimum-size-subarray-sum/solution/chang-du-zui-xiao-de-zi-shu-zu-by-leetcode-solutio/"
   ]
  },
  {
   "cell_type": "markdown",
   "id": "0dc48d8c",
   "metadata": {},
   "source": [
    "sliding window "
   ]
  },
  {
   "cell_type": "code",
   "execution_count": null,
   "id": "4af112f3",
   "metadata": {},
   "outputs": [],
   "source": [
    "class Solution:\n",
    "    def minSubArrayLen(self, target: int, nums: List[int]) -> int:\n",
    "        if nums is None or not nums:\n",
    "            return 0\n",
    "        result = len(nums) + 1\n",
    "        total = 0\n",
    "        slow,fast = 0,0\n",
    "        \n",
    "        while fast < len(nums):\n",
    "            total += nums[fast]\n",
    "            fast += 1\n",
    "            \n",
    "            while total >= target:\n",
    "                #because we already move fast forward\n",
    "                #so here is fast - slow \n",
    "                result = min(result,fast-slow)\n",
    "                total -= nums[slow]\n",
    "                slow += 1\n",
    "        return 0 if result == len(nums) + 1 else result\n",
    "\n",
    "#Time complexity: O(n). Single iteration of O(n).\n",
    "#Each element can be visited atmost twice, once by the right pointer(i) and (atmost)once by the left pointer.\n",
    "#Space complexity: O(1) extra space. Only constant space required for left, sum, ans and ii."
   ]
  },
  {
   "cell_type": "markdown",
   "id": "48ca0e63",
   "metadata": {},
   "source": [
    "4. 454. 4sum II"
   ]
  },
  {
   "cell_type": "code",
   "execution_count": null,
   "id": "de822330",
   "metadata": {},
   "outputs": [],
   "source": [
    "class Solution:\n",
    "    def fourSumCount(self,nums1, nums2,nums3,nums4):\n",
    "        \n",
    "        record = {}\n",
    "        \n",
    "        for n1 in nums1:\n",
    "            for n2 in nums2:\n",
    "                if n1 + n2 not in record:\n",
    "                    record[n1 + n2] = 1\n",
    "                else:\n",
    "                    record[n1 + n2] += 1\n",
    "        \n",
    "        #store result \n",
    "        count = 0\n",
    "        \n",
    "        for n3 in nums3:\n",
    "            for n4 in nums4:\n",
    "                if -n3-n4 in record:\n",
    "                    count += record[-n3-n4]\n",
    "        return count \n",
    "#T: O(N^2)\n",
    "#S：O(N^2)"
   ]
  },
  {
   "cell_type": "markdown",
   "id": "b98ad66c",
   "metadata": {},
   "source": [
    "5. 718. maximum length of repeated subarray"
   ]
  },
  {
   "cell_type": "markdown",
   "id": "8ae5eafc",
   "metadata": {},
   "source": [
    "bs and rolling hash?"
   ]
  },
  {
   "cell_type": "code",
   "execution_count": null,
   "id": "00a3764c",
   "metadata": {},
   "outputs": [],
   "source": []
  },
  {
   "cell_type": "markdown",
   "id": "23d7fdad",
   "metadata": {},
   "source": [
    "two states dp\n",
    "dp[i][j]\n",
    "0 - i in nums1, ending at i \n",
    "0 - j in nums2, ending at j "
   ]
  },
  {
   "cell_type": "code",
   "execution_count": null,
   "id": "e65069ec",
   "metadata": {},
   "outputs": [],
   "source": [
    "class Solution:\n",
    "    def findLength(self, nums1: List[int], nums2: List[int]) -> int:\n",
    "        m = len(nums1)\n",
    "        n = len(nums2)\n",
    "        ans = 0\n",
    "        \n",
    "        dp = [[0]*(n + 1) for _ in range(m + 1)]\n",
    "        \n",
    "        for i in range(1, m + 1):\n",
    "            for j in range(1, n + 1):\n",
    "                if nums1[i - 1] == nums2[j - 1]:\n",
    "                    dp[i][j] = 1 + dp[i - 1][j - 1]\n",
    "                \n",
    "                ans = max(ans,dp[i][j])\n",
    "        return ans \n",
    "#T: O(M*N)\n",
    "#S: O(M*N)"
   ]
  },
  {
   "cell_type": "code",
   "execution_count": null,
   "id": "da2b3241",
   "metadata": {},
   "outputs": [],
   "source": [
    "class Solution:\n",
    "    def findLength(self, nums1: List[int], nums2: List[int]) -> int:\n",
    "        m = len(nums1)\n",
    "        n = len(nums2)\n",
    "        ans = 0\n",
    "        \n",
    "        dp = [[0]*(n + 1) for _ in range(m + 1)]\n",
    "        \n",
    "        for i in range(m):\n",
    "            for j in range(n):\n",
    "                if nums1[i] == nums2[j]:\n",
    "                    dp[i + 1][j + 1] = 1 + dp[i][j]\n",
    "                \n",
    "                ans = max(ans,dp[i+1][j+1])\n",
    "        return ans "
   ]
  },
  {
   "cell_type": "code",
   "execution_count": null,
   "id": "dc57619f",
   "metadata": {},
   "outputs": [],
   "source": [
    "class Solution:\n",
    "    def findLength(self, nums1: List[int], nums2: List[int]) -> int:\n",
    "\n",
    "        m=len(nums1)\n",
    "        n=len(nums2)\n",
    "        dp = [[0 for _ in range(n+1)] for _ in range(m+1)]\n",
    "        res=0\n",
    "        for i in range(m):\n",
    "            for j in range(n):\n",
    "                if nums1[i]==nums2[j]:\n",
    "                    dp[i+1][j+1]=dp[i][j]+1\n",
    "                else:\n",
    "                    dp[i+1][j+1]=0\n",
    "                res=max(res,dp[i+1][j+1])\n",
    "\n",
    "        return res "
   ]
  },
  {
   "cell_type": "markdown",
   "id": "14f4cd6b",
   "metadata": {},
   "source": [
    "6. 240. search a 2D matrix II"
   ]
  },
  {
   "cell_type": "code",
   "execution_count": null,
   "id": "35469fb1",
   "metadata": {},
   "outputs": [],
   "source": [
    "Search Space Reduction"
   ]
  },
  {
   "cell_type": "code",
   "execution_count": null,
   "id": "20bca324",
   "metadata": {},
   "outputs": [],
   "source": [
    "class Solution:\n",
    "    def searchMatrix(self, matrix: List[List[int]], target: int) -> bool:\n",
    "        # an empty matrix obviously does not contain `target` (make this check\n",
    "        # because we want to cache `width` for efficiency's sake)\n",
    "        if len(matrix) == 0 or len(matrix[0]) == 0:\n",
    "            return False\n",
    "\n",
    "        # cache these, as they won't change.\n",
    "        height = len(matrix) #row\n",
    "        width = len(matrix[0]) #column\n",
    "\n",
    "        # start our \"pointer\" in the bottom-left\n",
    "        row = height - 1\n",
    "        col = 0\n",
    "\n",
    "        while col < width and row >= 0:\n",
    "            if matrix[row][col] > target:\n",
    "                row -= 1\n",
    "            elif matrix[row][col] < target:\n",
    "                col += 1\n",
    "            else: # found it\n",
    "                return True\n",
    "        \n",
    "        return False\n",
    "#T: O(M+N)\n",
    "#S: O(1)"
   ]
  },
  {
   "cell_type": "code",
   "execution_count": null,
   "id": "c31a8b93",
   "metadata": {},
   "outputs": [],
   "source": [
    "bs, O(log(N!)) ???\n",
    "divide and conquer...."
   ]
  },
  {
   "cell_type": "code",
   "execution_count": null,
   "id": "ffb7c1eb",
   "metadata": {},
   "outputs": [],
   "source": []
  },
  {
   "cell_type": "markdown",
   "id": "caf6dfb8",
   "metadata": {},
   "source": [
    "7. 378. Kth smallest element in a sorted matrix"
   ]
  },
  {
   "cell_type": "code",
   "execution_count": null,
   "id": "9f25b1a8",
   "metadata": {},
   "outputs": [],
   "source": [
    "class Solution():\n",
    "    def kthSmallest(self,matrix, k):\n",
    "        n = len(matrix)\n",
    "        matrix_min = matrix[0][0]\n",
    "        matrix_max = matrix[n - 1][n - 1]\n",
    "        \n",
    "        while matrix_min < matrix_max:\n",
    "            mid = matrix_min + (matrix_max - matrix_min)//2\n",
    "            if self.myCount(mid, matrix) < k:\n",
    "                matrix_min = mid + 1\n",
    "            else:\n",
    "                matrix_max = mid\n",
    "        return matrix_max\n",
    "    \n",
    "    def myCount(self, i, matrix):\n",
    "        n = len(matrix)\n",
    "        row = 0\n",
    "        column = n - 1\n",
    "        count = 0\n",
    "        while row < n and col >= 0: \n",
    "            if matrix[row][col] <= i:\n",
    "                count += col + 1\n",
    "                row += 1\n",
    "            else:\n",
    "                col -= 1\n",
    "        return count \n",
    "    \n",
    "#T: O (Nlog(max-min))\n",
    "#https://www.youtube.com/watch?v=oeQlc87HbbQ"
   ]
  },
  {
   "cell_type": "markdown",
   "id": "73a44425",
   "metadata": {},
   "source": [
    "8. 74. search a 2D matrix "
   ]
  },
  {
   "cell_type": "markdown",
   "id": "6c136856",
   "metadata": {},
   "source": [
    "how can i reduce my search space "
   ]
  },
  {
   "cell_type": "code",
   "execution_count": null,
   "id": "dcb03105",
   "metadata": {},
   "outputs": [],
   "source": [
    "class Solution():\n",
    "    def searchMatrix(self, matrix, target):\n",
    "        rows, cols = len(matrix), len(matrix[0])\n",
    "        \n",
    "        #first use bs to find which row the target might be in\n",
    "        top, bot = 0, rows - 1\n",
    "        while top <= bot:\n",
    "            row = top + (bot - top)//2\n",
    "            if target > matrix[row][-1]:\n",
    "                top = row + 1\n",
    "            else target < matrix[row][0]:\n",
    "                bot = row - 1\n",
    "            else:\n",
    "                break\n",
    "        \n",
    "        if not (top <= bot): return False #what is this...没找到？ \n",
    "        \n",
    "        #second, use bs to find target in the row we just found \n",
    "        row = top + (bot - top)//2\n",
    "        l, r = 0, cols - 1\n",
    "        while l <= r:\n",
    "            mid = l + (r - l)//2\n",
    "            if target > matrix[row][mid]:\n",
    "                l = mid + 1\n",
    "            elif target < matrix[row][mid]:\n",
    "                r = mid - 1\n",
    "            else:\n",
    "                return True \n",
    "        return False \n",
    "        \n",
    "# https://www.youtube.com/watch?v=Ber2pi2C0j0\n",
    "#Time complexity :O(log(mn)) since it's a standard binary search.\n",
    "\n",
    "#Space complexity :O(1).\n",
    "\n",
    "#logM + log N = log(MN)\n",
    "\n"
   ]
  },
  {
   "cell_type": "code",
   "execution_count": null,
   "id": "50f54997",
   "metadata": {},
   "outputs": [],
   "source": [
    "use first column's value "
   ]
  },
  {
   "cell_type": "code",
   "execution_count": null,
   "id": "38b3728b",
   "metadata": {},
   "outputs": [],
   "source": [
    "#row and col mapping system %\n",
    "class Solution:\n",
    "    def searchMatrix(self, matrix: List[List[int]], target: int) -> bool:\n",
    "        m, n = len(matrix), len(matrix[0])\n",
    "        i = 0\n",
    "        j = m*n-1\n",
    "        while i<j-1:\n",
    "            mid = i+(j-i)//2\n",
    "            if matrix[mid//n][mid%n] > target:\n",
    "                j = mid\n",
    "            else:\n",
    "                i = mid\n",
    "        return matrix[i//n][i%n] == target or matrix[j//n][j%n] == target\n",
    "    \n",
    "#Time complexity :O(log(mn)) since it's a standard binary search.\n",
    "\n",
    "#Space complexity :O(1).\n",
    "作者：liupengsay\n",
    "链接：https://leetcode.cn/problems/search-a-2d-matrix/solution/er-xu-cheng-ming-jiu-xu-zui-python3er-fe-8hrt/\n",
    "来源：力扣（LeetCode）\n"
   ]
  },
  {
   "cell_type": "raw",
   "id": "b979acae",
   "metadata": {},
   "source": [
    "our template/practice "
   ]
  },
  {
   "cell_type": "code",
   "execution_count": null,
   "id": "53b92551",
   "metadata": {},
   "outputs": [],
   "source": [
    "class Solution:\n",
    "    def searchMatrix(self, matrix: List[List[int]], target: int) -> bool:\n",
    "        n_row = len(matrix)\n",
    "        n_column = len(matrix[0])\n",
    "        \n",
    "        top = 0\n",
    "        bottom = n_row - 1\n",
    "        \n",
    "        while top <= bottom:\n",
    "            target_row = top + (bottom -  top)//2\n",
    "            \n",
    "            if target > matrix[target_row][n_column - 1]:\n",
    "                top = target_row + 1\n",
    "            elif target < matrix[target_row][0]:\n",
    "                bottom = target_row - 1\n",
    "            #here you break, you find the target column\n",
    "            else:\n",
    "                break \n",
    "                \n",
    "        #adding this will improve the search speed        \n",
    "        if top > bottom: return False\n",
    "        \n",
    "        left, right = 0, n_column - 1\n",
    "        while left <= right:\n",
    "            mid = left + (right - left)//2\n",
    "            if target > matrix[target_row][mid]:\n",
    "                left = mid + 1\n",
    "            elif target < matrix[target_row][mid]:\n",
    "                right = mid - 1\n",
    "            else:\n",
    "                return True\n",
    "        return False \n",
    "    \n",
    "#Time complexity :O(log(mn)) since it's a standard binary search.\n",
    "#Space complexity :O(1).     "
   ]
  },
  {
   "cell_type": "code",
   "execution_count": null,
   "id": "25b785b6",
   "metadata": {},
   "outputs": [],
   "source": [
    "class Solution:\n",
    "    def searchMatrix(self, matrix: List[List[int]], target: int) -> bool:\n",
    "        row = len(matrix)\n",
    "        col = len(matrix[0]) \n",
    "        \n",
    "        left = 0 \n",
    "        right = row*col - 1\n",
    "        while left <= right:\n",
    "            mid = left + (right - left)//2\n",
    "            \n",
    "            r = mid//col\n",
    "            c = mid%col \n",
    "            if target > matrix[r][c]:\n",
    "                left = mid + 1\n",
    "            elif target < matrix[r][c]:\n",
    "                right = mid - 1\n",
    "            else:\n",
    "                return True\n",
    "        return False \n",
    "    \n",
    "#Time complexity :O(log(mn)) since it's a standard binary search.\n",
    "\n",
    "#Space complexity :O(1)."
   ]
  },
  {
   "cell_type": "markdown",
   "id": "6c8b59a6",
   "metadata": {},
   "source": [
    "9. 33. search in rotated sorted array"
   ]
  },
  {
   "cell_type": "markdown",
   "id": "c352e2cb",
   "metadata": {},
   "source": [
    "Solution 1, one pass bs\n",
    "find which portion we are in and make the judgement based on the discrete segments "
   ]
  },
  {
   "cell_type": "code",
   "execution_count": null,
   "id": "dcf8e238",
   "metadata": {},
   "outputs": [],
   "source": [
    "class Solution:\n",
    "    def search(self, nums: List[int], target: int) -> int:\n",
    "        start, end = 0, len(nums) - 1\n",
    "        while start <= end:\n",
    "            mid = start + (end - start) // 2\n",
    "            if nums[mid] == target:\n",
    "                return mid\n",
    "            elif nums[mid] >= nums[start]:\n",
    "                if target >= nums[start] and target < nums[mid]:\n",
    "                    end = mid - 1\n",
    "                else:\n",
    "                    start = mid + 1\n",
    "            else:\n",
    "                if target <= nums[end] and target > nums[mid]:\n",
    "                    start = mid + 1\n",
    "                else:\n",
    "                    end = mid - 1\n",
    "        return -1\n",
    "    \n",
    "#T: O(logN)\n",
    "#S: O(1)\n",
    "#leetcode eng"
   ]
  },
  {
   "cell_type": "code",
   "execution_count": null,
   "id": "2f30bc79",
   "metadata": {},
   "outputs": [],
   "source": [
    "class Solution:\n",
    "    def search(self, nums: List[int], target: int) -> int:\n",
    "        l, r = 0, len(nums) - 1\n",
    "\n",
    "        while l <= r:\n",
    "            mid = (l + r) // 2\n",
    "            if target == nums[mid]:\n",
    "                return mid\n",
    "\n",
    "            # left sorted portion\n",
    "            if nums[l] <= nums[mid]:\n",
    "                if target > nums[mid] or target < nums[l]:\n",
    "                    l = mid + 1\n",
    "                else:\n",
    "                    r = mid - 1\n",
    "            # right sorted portion\n",
    "            else:\n",
    "                if target < nums[mid] or target > nums[r]:\n",
    "                    r = mid - 1\n",
    "                else:\n",
    "                    l = mid + 1\n",
    "        return -1\n",
    "    \n",
    "#T: O(logN)\n",
    "#S: O(1)\n",
    "#neetcode, same as before actually, one is tail and head so 'or', the other is middle, so 'and'"
   ]
  },
  {
   "cell_type": "markdown",
   "id": "18866e57",
   "metadata": {},
   "source": [
    "Solution2, find rotate index first...\n",
    "looks more complicate..."
   ]
  },
  {
   "cell_type": "markdown",
   "id": "0ba6581d",
   "metadata": {},
   "source": [
    "10. 81. search in rotated sorted array II"
   ]
  },
  {
   "cell_type": "markdown",
   "id": "19ae3609",
   "metadata": {},
   "source": [
    "最坏都是O（N）了，for 循环不香么？？？"
   ]
  },
  {
   "cell_type": "code",
   "execution_count": null,
   "id": "b994e0c7",
   "metadata": {},
   "outputs": [],
   "source": [
    "class Solution:\n",
    "    def search(self, nums: List[int], target: int) -> bool:\n",
    "        for i in range(len(nums)):\n",
    "            if nums[i] == target:\n",
    "                return True\n",
    "        return False"
   ]
  },
  {
   "cell_type": "code",
   "execution_count": null,
   "id": "fe8807d2",
   "metadata": {},
   "outputs": [],
   "source": [
    "class Solution:\n",
    "    def search(self, nums: List[int], target: int) -> bool:\n",
    "        if not nums:\n",
    "            return False\n",
    "        \n",
    "        n = len(nums)\n",
    "        if n == 1:\n",
    "            return nums[0] == target\n",
    "        \n",
    "        l, r = 0, n - 1\n",
    "        while l <= r:\n",
    "            mid = (l + r) // 2\n",
    "            if nums[mid] == target:\n",
    "                return True\n",
    "            \n",
    "            #[1,3,1,1,1]\n",
    "            # if nums[l] == nums[mid] == nums[r]: this is fine also\n",
    "            #why there are together...so when nums[l] = nums[mid] it will be the same as nums[r]?\n",
    "            if nums[l] == nums[mid] and nums[mid] == nums[r]:\n",
    "                l += 1\n",
    "                r -= 1\n",
    "            #why use if????\n",
    "            \n",
    "            \n",
    "            elif nums[l] <= nums[mid]:\n",
    "                if nums[l] <= target and target < nums[mid]:\n",
    "                    r = mid - 1\n",
    "                else:\n",
    "                    l = mid + 1\n",
    "            else:\n",
    "                if nums[mid] < target and target <= nums[n - 1]:\n",
    "                    l = mid + 1\n",
    "                else:\n",
    "                    r = mid - 1\n",
    "        \n",
    "        return False\n",
    "    \n",
    "#时间复杂度：O(n)，其中 n 是数组 nums 的长度。最坏情况下数组元素均相等且不为 target，我们需要访问所有位置才能得出结果。\n",
    "\n",
    "#空间复杂度：O(1)。\n",
    "\n",
    "\n",
    "\n",
    "作者：LeetCode-Solution\n",
    "链接：https://leetcode.cn/problems/search-in-rotated-sorted-array-ii/solution/sou-suo-xuan-zhuan-pai-xu-shu-zu-ii-by-l-0nmp/\n"
   ]
  },
  {
   "cell_type": "code",
   "execution_count": null,
   "id": "9d1daa7e",
   "metadata": {},
   "outputs": [],
   "source": [
    "if len(nums)==1:\n",
    "    if nums[0]!=target: return False\n",
    "    else: return True\n",
    "\n",
    "left=0\n",
    "right=len(nums)-1\n",
    "# binary search \n",
    "while(left<=right):\n",
    "    # shifting to remove duplicate elements\n",
    "    while left<right and nums[left] == nums[left+1]:\n",
    "        left+=1\n",
    "    while left<right and nums[right] == nums[right-1]:\n",
    "        right-=1\n",
    "\n",
    "    # step 1 calculate the mid    \n",
    "    mid=(left+right)//2\n",
    "    #step 2\n",
    "    if nums[mid]==target:\n",
    "        return True\n",
    "    #step 3\n",
    "    elif nums[left]<=nums[mid]:\n",
    "        if nums[mid]>=target and nums[left]<=target:\n",
    "            right=mid-1\n",
    "        else:\n",
    "            left=mid+1\n",
    "    # step 4\n",
    "    else:\n",
    "        if target>=nums[mid] and target<=nums[right]:\n",
    "            left=mid+1\n",
    "        else:\n",
    "            right=mid-1\n",
    "return False\n",
    "#https://leetcode.com/problems/search-in-rotated-sorted-array-ii/discuss/1890363/python-or-binary-search-or-explained-or"
   ]
  },
  {
   "cell_type": "code",
   "execution_count": null,
   "id": "d9a25994",
   "metadata": {},
   "outputs": [],
   "source": []
  },
  {
   "cell_type": "code",
   "execution_count": null,
   "id": "30c3c7a3",
   "metadata": {},
   "outputs": [],
   "source": []
  },
  {
   "cell_type": "code",
   "execution_count": null,
   "id": "858e212e",
   "metadata": {},
   "outputs": [],
   "source": []
  },
  {
   "cell_type": "code",
   "execution_count": null,
   "id": "a5293414",
   "metadata": {},
   "outputs": [],
   "source": []
  },
  {
   "cell_type": "code",
   "execution_count": null,
   "id": "097a3369",
   "metadata": {},
   "outputs": [],
   "source": []
  },
  {
   "cell_type": "code",
   "execution_count": null,
   "id": "392c9c09",
   "metadata": {},
   "outputs": [],
   "source": []
  },
  {
   "cell_type": "code",
   "execution_count": null,
   "id": "5b0fc3d5",
   "metadata": {},
   "outputs": [],
   "source": []
  },
  {
   "cell_type": "code",
   "execution_count": null,
   "id": "d0a2df0a",
   "metadata": {},
   "outputs": [],
   "source": []
  },
  {
   "cell_type": "code",
   "execution_count": null,
   "id": "0a190de7",
   "metadata": {},
   "outputs": [],
   "source": []
  }
 ],
 "metadata": {
  "kernelspec": {
   "display_name": "Python 3 (ipykernel)",
   "language": "python",
   "name": "python3"
  },
  "language_info": {
   "codemirror_mode": {
    "name": "ipython",
    "version": 3
   },
   "file_extension": ".py",
   "mimetype": "text/x-python",
   "name": "python",
   "nbconvert_exporter": "python",
   "pygments_lexer": "ipython3",
   "version": "3.9.12"
  }
 },
 "nbformat": 4,
 "nbformat_minor": 5
}
