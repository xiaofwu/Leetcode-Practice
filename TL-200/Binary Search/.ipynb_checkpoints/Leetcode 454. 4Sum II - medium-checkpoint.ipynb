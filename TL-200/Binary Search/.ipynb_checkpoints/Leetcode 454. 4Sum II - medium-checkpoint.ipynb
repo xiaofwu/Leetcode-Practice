{
 "cells": [
  {
   "cell_type": "markdown",
   "id": "aa7d60cf",
   "metadata": {},
   "source": [
    "454. 4Sum II\n",
    "Given four integer arrays nums1, nums2, nums3, and nums4 all of length n, return the number of tuples (i, j, k, l) such that:\n",
    "\n",
    "0 <= i, j, k, l < n\n",
    "nums1[i] + nums2[j] + nums3[k] + nums4[l] == 0\n",
    "\n",
    "Input: nums1 = [1,2], nums2 = [-2,-1], nums3 = [-1,2], nums4 = [0,2]\n",
    "Output: 2\n",
    "Explanation:\n",
    "The two tuples are:\n",
    "1. (0, 0, 0, 1) -> nums1[0] + nums2[0] + nums3[0] + nums4[1] = 1 + (-2) + (-1) + 2 = 0\n",
    "2. (1, 1, 0, 0) -> nums1[1] + nums2[1] + nums3[0] + nums4[0] = 2 + (-1) + (-1) + 0 = 0\n",
    "\n",
    "The simple bruteforce solution would take n^4 time complexity here. We can do better by dividing given lists into \n",
    "two groups and precalculating all possible sums for the first group. Results go to a hashmap where keys are sums \n",
    "and values are frequencies. It will take n^2 time and space. After that, we iterate over elements of the second \n",
    "group, and for every pair check whether their sum can add up to zero with a sum from the first group using a hashmap.\n",
    "\n",
    "Time: O(n^2) - double n^2 scan\n",
    "Space: O(n^2) - for hashmap"
   ]
  },
  {
   "cell_type": "code",
   "execution_count": null,
   "id": "b9176c06",
   "metadata": {},
   "outputs": [],
   "source": [
    "class Solution:\n",
    "    def fourSumCount(self, A: List[int], B: List[int], C: List[int], D: List[int]) -> int:\n",
    "        res, d = 0, {}\n",
    "        for n1 in nums1:\n",
    "            for n2 in nums2:\n",
    "                temp = n1 + n2\n",
    "                if temp in d: d[temp] += 1\n",
    "                else: d[temp] = 1\n",
    "            \n",
    "        for n1 in nums3:\n",
    "            for n2 in nums4:\n",
    "                temp = 0  - (n1 + n2)\n",
    "                if temp in d:\n",
    "                    # 要的是排列组合的方式，every single (nums3 + 4) can pair with any (nums1 + 2)\n",
    "                    # as long as sum is 0\n",
    "                    res += d[temp]\n",
    "        return res "
   ]
  }
 ],
 "metadata": {
  "kernelspec": {
   "display_name": "Python 3 (ipykernel)",
   "language": "python",
   "name": "python3"
  },
  "language_info": {
   "codemirror_mode": {
    "name": "ipython",
    "version": 3
   },
   "file_extension": ".py",
   "mimetype": "text/x-python",
   "name": "python",
   "nbconvert_exporter": "python",
   "pygments_lexer": "ipython3",
   "version": "3.9.12"
  }
 },
 "nbformat": 4,
 "nbformat_minor": 5
}
