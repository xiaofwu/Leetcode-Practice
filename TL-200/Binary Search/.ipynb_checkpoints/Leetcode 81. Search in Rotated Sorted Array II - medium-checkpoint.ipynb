{
 "cells": [
  {
   "cell_type": "markdown",
   "id": "f07444d6",
   "metadata": {},
   "source": [
    "Leetcode 81. Search in Rotated Sorted Array II\n",
    "\n",
    "There is an integer array nums sorted in non-decreasing order (not necessarily with distinct values).\n",
    "\n",
    "Before being passed to your function, nums is rotated at an unknown pivot index k (0 <= k < nums.length) such that the resulting array is [nums[k], nums[k+1], ..., nums[n-1], nums[0], nums[1], ..., nums[k-1]] (0-indexed). For example, [0,1,2,4,4,4,5,6,6,7] might be rotated at pivot index 5 and become [4,5,6,6,7,0,1,2,4,4].\n",
    "\n",
    "Given the array nums after the rotation and an integer target, return true if target is in nums, or false if it is not in nums.\n",
    "\n",
    "You must decrease the overall operation steps as much as possible."
   ]
  },
  {
   "cell_type": "code",
   "execution_count": null,
   "id": "ce3d1c30",
   "metadata": {},
   "outputs": [],
   "source": [
    "def search(self, nums, target):\n",
    "    l, r = 0, len(nums)-1\n",
    "    while l <= r:\n",
    "        mid = l + (r-l)//2\n",
    "        if nums[mid] == target:\n",
    "            return True\n",
    "        while l < mid and nums[l] == nums[mid]: # tricky part\n",
    "            l += 1\n",
    "        # the first half is ordered\n",
    "        if nums[l] <= nums[mid]:\n",
    "            # target is in the first half\n",
    "            if nums[l] <= target < nums[mid]:\n",
    "                r = mid - 1\n",
    "            else:\n",
    "                l = mid + 1\n",
    "        # the second half is ordered\n",
    "        else:\n",
    "            # target is in the second half\n",
    "            if nums[mid] < target <= nums[r]:\n",
    "                l = mid + 1\n",
    "            else:\n",
    "                r = mid - 1\n",
    "    return False"
   ]
  }
 ],
 "metadata": {
  "kernelspec": {
   "display_name": "Python 3 (ipykernel)",
   "language": "python",
   "name": "python3"
  },
  "language_info": {
   "codemirror_mode": {
    "name": "ipython",
    "version": 3
   },
   "file_extension": ".py",
   "mimetype": "text/x-python",
   "name": "python",
   "nbconvert_exporter": "python",
   "pygments_lexer": "ipython3",
   "version": "3.9.12"
  }
 },
 "nbformat": 4,
 "nbformat_minor": 5
}
