{
 "cells": [
  {
   "cell_type": "code",
   "execution_count": null,
   "id": "2e5f737d",
   "metadata": {},
   "outputs": [],
   "source": [
    "\"\"\"\n",
    "29. Divide Two Integers- medium\n",
    "Given two integers dividend and divisor, divide two integers without using multiplication, \n",
    "division, and mod operator.\n",
    "The integer division should truncate toward zero, which means losing its fractional part. \n",
    "For example, 8.345 would be truncated to 8, and -2.7335 would be truncated to -2.\n",
    "Return the quotient after dividing dividend by divisor.\n",
    "Note: Assume we are dealing with an environment that could only store integers within the \n",
    "32-bit signed integer range: [−2(31), 2(31) − 1]. For this problem, if the quotient is \n",
    "strictly greater than 231 - 1, then return 231 - 1, and if the quotient is strictly less \n",
    "than -231, then return -231.\n",
    "\n",
    "Input: dividend = 10, divisor = 3       Output: 3\n",
    "Explanation: 10/3 = 3.33333.. which is truncated to 3.\n",
    "\n",
    "Input: dividend = 7, divisor = -3       Output: -2\n",
    "Explanation: 7/-3 = -2.33333.. which is truncated to -2.\n",
    "\n",
    "关于如何提高效率快速逼近结果\n",
    "举个例子：11 除以 3 。\n",
    "首先11比3大，结果至少是1， 然后我让3翻倍，就是6，发现11比3翻倍后还要大，那么结果就至少是2了，那我让这个6再翻倍，\n",
    "得12，11不比12大，吓死我了，差点让就让刚才的最小解2也翻倍得到4了。但是我知道最终结果肯定在2和4之间。也就是说2\n",
    "再加上某个数，这个数是多少呢？我让11减去刚才最后一次的结果6，剩下5，我们计算5是3的几倍，也就是除法，看，\n",
    "递归出现了。说得很乱，不严谨，大家看个大概，然后自己在纸上画一画，或者直接看我代码就好啦！\n",
    "\n",
    "整理了一下思路，可以简单概括为： 60/8 = (60-32)/8 + 4 = (60-32-16)/8 + 2 + 4 = 1 + 2 + 4 = 7\n",
    "\"\"\""
   ]
  },
  {
   "cell_type": "code",
   "execution_count": 7,
   "id": "c9dff62c",
   "metadata": {},
   "outputs": [],
   "source": [
    "class Solution:\n",
    "    def divide(self, dividend: int, divisor: int) -> int:\n",
    "        \"\"\"\n",
    "        :type dividend: int\n",
    "        :type divisor: int\n",
    "        :rtype: int\n",
    "        \"\"\"\n",
    "        if not dividend: return 0\n",
    "        if dividend == divisor: return 1\n",
    "        if dividend == -divisor: return -1\n",
    "        \n",
    "        divd, divs = abs(dividend), abs(divisor)\n",
    "        quotient = 0\n",
    "        \n",
    "        while divd >= divs:\n",
    "            temp, i = divs, 1\n",
    "            \n",
    "            while divd >= temp:\n",
    "                divd -= temp\n",
    "                temp += temp\n",
    "                quotient += i\n",
    "                i += i\n",
    "                print(f\"divd is {divd}, temp is {temp}, quotient is {quotient}, i is {i}\")\n",
    "                \n",
    "                \n",
    "        if dividend * divisor < 0:\n",
    "            quotient = -quotient\n",
    "        return min(max(quotient, -pow(2,31)),pow(2,31)-1)    "
   ]
  },
  {
   "cell_type": "code",
   "execution_count": 9,
   "id": "17c3c7d2",
   "metadata": {},
   "outputs": [
    {
     "name": "stdout",
     "output_type": "stream",
     "text": [
      "divd is 21, temp is 8, quotient is 1, i is 2\n",
      "divd is 13, temp is 16, quotient is 3, i is 4\n",
      "divd is 9, temp is 8, quotient is 4, i is 2\n",
      "divd is 1, temp is 16, quotient is 6, i is 4\n"
     ]
    },
    {
     "data": {
      "text/plain": [
       "6"
      ]
     },
     "execution_count": 9,
     "metadata": {},
     "output_type": "execute_result"
    }
   ],
   "source": [
    "p = Solution()\n",
    "p.divide(25, 4)"
   ]
  },
  {
   "cell_type": "code",
   "execution_count": null,
   "id": "834e3d29",
   "metadata": {},
   "outputs": [],
   "source": [
    "class Solution:\n",
    "    def divide(self, dividend: int, divisor: int) -> int:\n",
    "        # intuitively we can use BS to find a \"n\" to satitisfy n 个 divisor 相加 < dividend，\n",
    "        # while n+1 个 divisor 相加 > dividend\n",
    "              \n",
    "        if not dividend: return 0\n",
    "        if dividend == divisor: return 1\n",
    "        if dividend == -divisor: return -1\n",
    "        \n",
    "        dividend_abs, divisor_abs = abs(dividend), abs(divisor)\n",
    "        L = 0\n",
    "        R = dividend_abs\n",
    "        \n",
    "        while L <= R:\n",
    "            sum = 0\n",
    "            mid = L + (R-L) // 2\n",
    "            for i in range(mid):\n",
    "                sum += divisor_abs\n",
    "            if sum < dividend_abs:\n",
    "                L = mid + 1\n",
    "            else:\n",
    "                R = mid -1\n",
    "            \n",
    "                \n",
    "        if dividend * divisor > 0:\n",
    "            return L - 1 \n",
    "        else:\n",
    "            return -L + 1\n",
    "\"\"\"\"\n",
    "EXCEED TIME LIMIT\n",
    "\"\"\"\""
   ]
  },
  {
   "cell_type": "code",
   "execution_count": 6,
   "id": "00997628",
   "metadata": {},
   "outputs": [],
   "source": []
  },
  {
   "cell_type": "code",
   "execution_count": null,
   "id": "cb793585",
   "metadata": {},
   "outputs": [],
   "source": []
  }
 ],
 "metadata": {
  "kernelspec": {
   "display_name": "Python 3 (ipykernel)",
   "language": "python",
   "name": "python3"
  },
  "language_info": {
   "codemirror_mode": {
    "name": "ipython",
    "version": 3
   },
   "file_extension": ".py",
   "mimetype": "text/x-python",
   "name": "python",
   "nbconvert_exporter": "python",
   "pygments_lexer": "ipython3",
   "version": "3.9.12"
  }
 },
 "nbformat": 4,
 "nbformat_minor": 5
}
