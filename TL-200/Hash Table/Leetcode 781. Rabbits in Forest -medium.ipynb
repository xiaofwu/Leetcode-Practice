{
 "cells": [
  {
   "cell_type": "markdown",
   "id": "8a447e77",
   "metadata": {},
   "source": [
    "781. Rabbits in Forest\n",
    "\n",
    "There is a forest with an unknown number of rabbits. We asked n rabbits \"How many rabbits have the same color as you?\" and collected the answers in an integer array answers where answers[i] is the answer of the ith rabbit.\n",
    "\n",
    "Given the array answers, return the minimum number of rabbits that could be in the forest.\n",
    "\n",
    "Input: answers = [1,1,2]\n",
    "Output: 5\n",
    "Explanation:\n",
    "The two rabbits that answered \"1\" could both be the same color, say red.\n",
    "The rabbit that answered \"2\" can't be red or the answers would be inconsistent.\n",
    "Say the rabbit that answered \"2\" was blue.\n",
    "Then there should be 2 other blue rabbits in the forest that didn't answer into the array.\n",
    "The smallest possible number of rabbits in the forest is therefore 5: 3 that answered plus 2 that didn't."
   ]
  },
  {
   "cell_type": "code",
   "execution_count": null,
   "id": "591c1e1c",
   "metadata": {},
   "outputs": [],
   "source": [
    "Explanation\n",
    "Count frequency of each number\n",
    "If num+1 <= frequency meaning there are num+1 for some color\n",
    "If num+1 > frequency meaning there are more than num+1 for some color\n",
    "Count how many num+1 are there, take the ceil\n",
    "Add (key+1) * math.ceil(freq / (key+1)) to ans"
   ]
  },
  {
   "cell_type": "code",
   "execution_count": null,
   "id": "2742e1c1",
   "metadata": {},
   "outputs": [],
   "source": [
    "class Solution:\n",
    "    def numRabbits(self, answers: List[int]) -> int:\n",
    "        ans, cnt = 0, collections.Counter(answers)\n",
    "        for key, freq in cnt.items():\n",
    "            if key + 1 < freq: ans += (key+1) * math.ceil(freq / (key+1))\n",
    "            else: ans += key+1\n",
    "        return ans     "
   ]
  },
  {
   "cell_type": "code",
   "execution_count": null,
   "id": "7aa5396c",
   "metadata": {},
   "outputs": [],
   "source": []
  },
  {
   "cell_type": "code",
   "execution_count": null,
   "id": "d1726c99",
   "metadata": {},
   "outputs": [],
   "source": [
    "def numRabbits(self, ans: List[int]) -> int:\n",
    "\t\tresult=0\n",
    "\t\td=Counter(ans)    # Inbuilt function to form dictionary/Map\n",
    "\t\tfor i,j in d.items():\n",
    "\t\t\tif j>i+1:    \n",
    "\t\t\t\ttemp=ceil(j/(i+1))\n",
    "\t\t\t\tresult+= temp*(i+1)\n",
    "\t\t\telse:\n",
    "\t\t\t\tresult+= i+1\n",
    "\t\treturn result"
   ]
  },
  {
   "cell_type": "code",
   "execution_count": null,
   "id": "3cc83a5d",
   "metadata": {},
   "outputs": [],
   "source": [
    "class Solution:\n",
    "    def numRabbits(self, answers: List[int]) -> int:\n",
    "        d = {}\n",
    "        count = 0\n",
    "        for i in answers:\n",
    "            # add 1 if rabbit says 0 other rabbits have same color\n",
    "            if i == 0:\n",
    "                count+=1\n",
    "            else:\n",
    "            # check if i is present in dictionary or not \n",
    "            # and also check whether the frequency of i and value of i is same or not\n",
    "            # For example [2,2,2] and [2,2] has the same result (i.e) 3 but [2,2,2,2] should            \n",
    "            # be seperated into two groups and the result will be 6\n",
    "            # So we are again initializing the i value to 0\n",
    "                if i not in d or i == d[i]:\n",
    "                    d[i] = 0\n",
    "                    count+=1 + i\n",
    "                else:\n",
    "                    d[i] += 1\n",
    "                    \n",
    "        return count"
   ]
  }
 ],
 "metadata": {
  "kernelspec": {
   "display_name": "Python 3 (ipykernel)",
   "language": "python",
   "name": "python3"
  },
  "language_info": {
   "codemirror_mode": {
    "name": "ipython",
    "version": 3
   },
   "file_extension": ".py",
   "mimetype": "text/x-python",
   "name": "python",
   "nbconvert_exporter": "python",
   "pygments_lexer": "ipython3",
   "version": "3.9.12"
  }
 },
 "nbformat": 4,
 "nbformat_minor": 5
}
