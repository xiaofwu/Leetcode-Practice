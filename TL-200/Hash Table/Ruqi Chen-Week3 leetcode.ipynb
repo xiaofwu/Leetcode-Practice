{
 "cells": [
  {
   "cell_type": "markdown",
   "id": "13434929",
   "metadata": {},
   "source": [
    "# 290. Word Pattern"
   ]
  },
  {
   "cell_type": "code",
   "execution_count": null,
   "id": "14640b45",
   "metadata": {},
   "outputs": [],
   "source": [
    "class Solution:\n",
    "    def wordPattern(self, pattern: str, s: str) -> bool:\n",
    "        d1={}\n",
    "        d2={}\n",
    "        s=s.split()\n",
    "        for index,val in enumerate(pattern):\n",
    "            d1[val]=index\n",
    "        for index,val in enumerate(s):\n",
    "            d2[val]=index\n",
    "        l1=[e for e in d1.values()]\n",
    "        l2=[e for e in d2.values()]\n",
    "        return l1==l2"
   ]
  },
  {
   "cell_type": "markdown",
   "id": "2b2dfcbe",
   "metadata": {},
   "source": [
    "# 599. Minimum Index Sum of Two Lists"
   ]
  },
  {
   "cell_type": "code",
   "execution_count": null,
   "id": "87e49c7c",
   "metadata": {},
   "outputs": [],
   "source": [
    "class Solution:\n",
    "    def findRestaurant(self, list1: List[str], list2: List[str]) -> List[str]:\n",
    "        hashmap={}\n",
    "        for i in range(len(list1)):\n",
    "            if list1[i] in list2:\n",
    "                hashmap.update({list1[i]:i+list2.index(list1[i])})\n",
    "        res=[]\n",
    "        min_data=min(hashmap.values())\n",
    "        for data in hashmap:\n",
    "            if hashmap[data]==min_data:\n",
    "                res.append(data)\n",
    "                \n",
    "        return res\n",
    "    "
   ]
  },
  {
   "cell_type": "markdown",
   "id": "8f73ca18",
   "metadata": {},
   "source": [
    "# 748. Shortest Completing Word"
   ]
  },
  {
   "cell_type": "code",
   "execution_count": null,
   "id": "e0de2a86",
   "metadata": {},
   "outputs": [],
   "source": [
    "class Solution:\n",
    "    def shortestCompletingWord(self, licensePlate: str, words: List[str]) -> str:\n",
    "        cnt=Counter([e.lower() for e in licensePlate if e.isalpha()])\n",
    "        words.sort(key=len)\n",
    "        for i in words:\n",
    "            tmp=Counter(i)\n",
    "            for it, num in cnt.items():\n",
    "                if tmp[it]<num:break\n",
    "            else:\n",
    "                return i"
   ]
  },
  {
   "cell_type": "markdown",
   "id": "d97717c5",
   "metadata": {},
   "source": [
    "# 771. Jewels and Stones"
   ]
  },
  {
   "cell_type": "code",
   "execution_count": null,
   "id": "b27715b7",
   "metadata": {},
   "outputs": [],
   "source": [
    "class Solution:\n",
    "    def numJewelsInStones(self, jewels: str, stones: str) -> int:\n",
    "        jew1=Counter(jewels)\n",
    "        res=0\n",
    "        for stone in stones:\n",
    "            if stone in jew1:\n",
    "                res+=1\n",
    "        return res\n",
    "        "
   ]
  },
  {
   "cell_type": "markdown",
   "id": "4e395f95",
   "metadata": {},
   "source": [
    "# 594. Longest Harmonious Subsequence"
   ]
  },
  {
   "cell_type": "raw",
   "id": "ad7ff144",
   "metadata": {},
   "source": [
    "class Solution:\n",
    "    def findLHS(self, nums: List[int]) -> int:\n",
    "        d=Counter(nums)\n",
    "        print(d)\n",
    "        res=0\n",
    "        for e in d:\n",
    "            if e-1 in d:\n",
    "                res=max(res,d[e]+d[e-1])\n",
    "        return res"
   ]
  },
  {
   "cell_type": "markdown",
   "id": "6bb0b6a1",
   "metadata": {},
   "source": [
    "# 463. Island Perimeter"
   ]
  },
  {
   "cell_type": "raw",
   "id": "d52e5464",
   "metadata": {},
   "source": [
    "class Solution:\n",
    "    def islandPerimeter(self, grid: List[List[int]]) -> int:\n",
    "        m,n=len(grid),len(grid[0])\n",
    "        res=0\n",
    "        for i in range(m):\n",
    "            for j in range(n):\n",
    "                if grid[i][j]:\n",
    "                    res+=4\n",
    "                    if  i and grid[i-1][j]:\n",
    "                        res-=2\n",
    "                    if j and grid[i][j-1]:\n",
    "                        res-=2\n",
    "        return res\n"
   ]
  },
  {
   "cell_type": "markdown",
   "id": "0ef545fa",
   "metadata": {},
   "source": [
    "# 500. Keyboard Row"
   ]
  },
  {
   "cell_type": "code",
   "execution_count": null,
   "id": "2f337899",
   "metadata": {},
   "outputs": [],
   "source": [
    "class Solution:\n",
    "    def findWords(self, words: List[str]) -> List[str]:\n",
    "        res=[]\n",
    "        f_set=set('qwertyuiop')\n",
    "        s_set=set('asdfghjkl')\n",
    "        t_set=set('zxcvbnm')\n",
    "        for i in words:\n",
    "            temp={j for j in i.lower()}\n",
    "            print(temp)\n",
    "\n",
    "            if temp<=f_set or temp<=s_set or temp<=t_set:\n",
    "                res.append(i)\n",
    "        return res\n",
    "        "
   ]
  },
  {
   "cell_type": "markdown",
   "id": "ed95a181",
   "metadata": {},
   "source": [
    "# 781. Rabbits in Forest"
   ]
  },
  {
   "cell_type": "code",
   "execution_count": null,
   "id": "285f13e9",
   "metadata": {},
   "outputs": [],
   "source": [
    "class Solution:\n",
    "    def numRabbits(self, answers: List[int]) -> int:\n",
    "        total=0\n",
    "        countdict=collections.defaultdict(int)\n",
    "        for i in answers:\n",
    "            countdict[i]+=1\n",
    "        print(countdict)\n",
    "\n",
    "        for index,val in countdict.items():\n",
    "            #total+=(index+1)*((val+index)//(index+1))\n",
    "            total+=ceil(val/(index+1))*(index+1)\n",
    "            \n",
    "        return total"
   ]
  }
 ],
 "metadata": {
  "kernelspec": {
   "display_name": "Python 3 (ipykernel)",
   "language": "python",
   "name": "python3"
  },
  "language_info": {
   "codemirror_mode": {
    "name": "ipython",
    "version": 3
   },
   "file_extension": ".py",
   "mimetype": "text/x-python",
   "name": "python",
   "nbconvert_exporter": "python",
   "pygments_lexer": "ipython3",
   "version": "3.9.12"
  }
 },
 "nbformat": 4,
 "nbformat_minor": 5
}
