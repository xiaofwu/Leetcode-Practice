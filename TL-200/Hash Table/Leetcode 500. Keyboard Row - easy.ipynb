{
 "cells": [
  {
   "cell_type": "markdown",
   "id": "495344b4",
   "metadata": {},
   "source": [
    "500. Keyboard Row\n",
    "Given an array of strings words, return the words that can be typed using letters of the alphabet on only one row of American keyboard like the image below.\n",
    "\n",
    "In the American keyboard:\n",
    "\n",
    "the first row consists of the characters \"qwertyuiop\",\n",
    "the second row consists of the characters \"asdfghjkl\", and\n",
    "the third row consists of the characters \"zxcvbnm\".\n",
    "\n",
    "Example 1:\n",
    "\n",
    "Input: words = [\"Hello\",\"Alaska\",\"Dad\",\"Peace\"]\n",
    "Output: [\"Alaska\",\"Dad\"]"
   ]
  },
  {
   "cell_type": "code",
   "execution_count": null,
   "id": "0ef722bd",
   "metadata": {},
   "outputs": [],
   "source": [
    "class Solution:\n",
    "    def findWords(self, words: List[str]) -> List[str]:\n",
    "        #\n",
    "        set1 = {'q','w','e','r','t','y','u','i','o','p'}\n",
    "        set2 = {'a','s','d','f','g','h','j','k','l'}\n",
    "        set3 = {'z','x','c','v','b','n','m'}\n",
    "        \n",
    "        res = []\n",
    "        for i in words:\n",
    "            wordset = set(i.lower())\n",
    "            if (wordset&set1 == wordset) or (wordset&set2 == wordset) or (wordset&set3 == wordset):\n",
    "                res.append(i)\n",
    "        return res"
   ]
  },
  {
   "cell_type": "code",
   "execution_count": null,
   "id": "c30769d0",
   "metadata": {},
   "outputs": [],
   "source": []
  }
 ],
 "metadata": {
  "kernelspec": {
   "display_name": "Python 3 (ipykernel)",
   "language": "python",
   "name": "python3"
  },
  "language_info": {
   "codemirror_mode": {
    "name": "ipython",
    "version": 3
   },
   "file_extension": ".py",
   "mimetype": "text/x-python",
   "name": "python",
   "nbconvert_exporter": "python",
   "pygments_lexer": "ipython3",
   "version": "3.9.12"
  }
 },
 "nbformat": 4,
 "nbformat_minor": 5
}
