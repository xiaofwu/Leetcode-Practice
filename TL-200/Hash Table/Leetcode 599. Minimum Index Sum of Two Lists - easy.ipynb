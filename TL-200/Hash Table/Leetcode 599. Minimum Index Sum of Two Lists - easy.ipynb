{
 "cells": [
  {
   "cell_type": "markdown",
   "id": "d70f8f4f",
   "metadata": {},
   "source": [
    "599. Minimum Index Sum of Two Lists\n",
    "\n",
    "Given two arrays of strings list1 and list2, find the common strings with the least index sum.\n",
    "A common string is a string that appeared in both list1 and list2.\n",
    "\n",
    "A common string with the least index sum is a common string such that if it appeared at list1[i] and list2[j] then i + j should be the minimum value among all the other common strings.\n",
    "\n",
    "Return all the common strings with the least index sum. Return the answer in any order.\n",
    "\n",
    "Input: list1 = [\"happy\",\"sad\",\"good\"], list2 = [\"sad\",\"happy\",\"good\"]\n",
    "Output: [\"sad\",\"happy\"]\n",
    "Explanation: There are three common strings:\n",
    "\"happy\" with index sum = (0 + 1) = 1.\n",
    "\"sad\" with index sum = (1 + 0) = 1.\n",
    "\"good\" with index sum = (2 + 2) = 4.\n",
    "The strings with the least index sum are \"sad\" and \"happy\".\n"
   ]
  },
  {
   "cell_type": "code",
   "execution_count": null,
   "id": "8e73cfe7",
   "metadata": {},
   "outputs": [],
   "source": [
    "# this only works for list1 containing unique elements\n",
    "def findRestaurantTwoDicts(self, list1, list2):\n",
    "        \"\"\"\n",
    "        :type list1: List[str]\n",
    "        :type list2: List[str]\n",
    "        :rtype: List[str]\n",
    "        \"\"\"\n",
    "        # cover corner case\n",
    "        if not list1 or not list2: return []\n",
    "        \n",
    "        # initiate a dict from list1 using str:index to store \n",
    "        # index information of strings in list1\n",
    "        hashmap = {}\n",
    "        for i,s in enumerate(list1):   \n",
    "            hashmap[s] = i\n",
    "        \n",
    "        res = []\n",
    "        min_sum_ind = float(\"inf\")  \n",
    "        \n",
    "        # Now we need use strings from list2 to search the hashmap\n",
    "        # if we find the same string in the dict, we need to compare\n",
    "        # sum of two indexes with previous min_sum_ind. record the \n",
    "        # string if sum is smaller, or append if it the same as previous\n",
    "        #min_sum_ind\n",
    "        for j in range(len(list2)):    \n",
    "            if list2[j] in hashmap:\n",
    "                sum_ind = j + hashmap[list2[j]]   \n",
    "                \n",
    "                if sum_ind < min_sum_ind:   \n",
    "                    min_sum_ind = sum_ind\n",
    "                    res.clear()\n",
    "                    res.append(list2[j])\n",
    "                elif sum_ind == min_sum_ind:     \n",
    "                    res.append(list2[j])\n",
    "        return res"
   ]
  }
 ],
 "metadata": {
  "kernelspec": {
   "display_name": "Python 3 (ipykernel)",
   "language": "python",
   "name": "python3"
  },
  "language_info": {
   "codemirror_mode": {
    "name": "ipython",
    "version": 3
   },
   "file_extension": ".py",
   "mimetype": "text/x-python",
   "name": "python",
   "nbconvert_exporter": "python",
   "pygments_lexer": "ipython3",
   "version": "3.9.12"
  }
 },
 "nbformat": 4,
 "nbformat_minor": 5
}
