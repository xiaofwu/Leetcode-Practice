{
 "cells": [
  {
   "cell_type": "code",
   "execution_count": null,
   "id": "39a9ee33",
   "metadata": {},
   "outputs": [],
   "source": [
    "1. 202. Happy Number\n",
    "2. 645. Set mismatch\n",
    "3. 290. word pattern\n",
    "4. 599. minimum index sum of two lists\n",
    "5. 748. shortest completing word\n",
    "6. 771. jewels and stones\n",
    "7. 463. island perimeter\n",
    "8. 594. longest harmonious subsequence\n",
    "9. 500. keyboard row\n",
    "10. 781. rabbits in forest "
   ]
  },
  {
   "cell_type": "markdown",
   "id": "e4098162",
   "metadata": {},
   "source": [
    "## <font color='red'>202. Happy Number</font>"
   ]
  },
  {
   "cell_type": "markdown",
   "id": "c08b3cc6",
   "metadata": {},
   "source": [
    "202. Happy Number\n",
    "Write an algorithm to determine if a number n is happy.\n",
    "A happy number is a number defined by the following process:\n",
    "Starting with any positive integer, replace the number by the sum of the squares of its digits.\n",
    "Repeat the process until the number equals 1 (where it will stay), or it loops endlessly in a cycle which does not include 1.\n",
    "Those numbers for which this process ends in 1 are happy.\n",
    "Return true if n is a happy number, and false if not."
   ]
  },
  {
   "cell_type": "code",
   "execution_count": null,
   "id": "c7a963cb",
   "metadata": {},
   "outputs": [],
   "source": [
    "# 202. Happy Number\n",
    "class Solution:\n",
    "    def isHappy(self, n: int) -> bool:\n",
    "        s = {n}\n",
    "        \n",
    "        # strategy is to store every sum in a set\n",
    "        # if the same sum is already in the set, we return false\n",
    "        # remember tp set n = tmp to make sure we can catch if tmp=1\n",
    "        while n != 1:\n",
    "            tmp = sum([int(d) ** 2 for d in str(n)])\n",
    "            if tmp in s:\n",
    "                return False\n",
    "            s.add(tmp)\n",
    "            n = tmp\n",
    "        return True"
   ]
  },
  {
   "cell_type": "code",
   "execution_count": null,
   "id": "b22c1692",
   "metadata": {},
   "outputs": [],
   "source": [
    "# 202. Happy Number\n",
    "# Using the fact that all unhappies go through 4 (and that 2 and 3 are unhappy):\n",
    "class Solution:\n",
    "    def isHappy(self, n):\n",
    "        while n > 4:\n",
    "            n = sum(int(d)**2 for d in str(n))\n",
    "        return n == 1"
   ]
  },
  {
   "cell_type": "code",
   "execution_count": null,
   "id": "215217f3",
   "metadata": {},
   "outputs": [],
   "source": [
    "# Tortoise and Hare algorithm:\n",
    "# don't understand yet\n",
    "class Solution:\n",
    "    def isHappy(self, n):\n",
    "        s = lambda n: sum(int(d)**2 for d in str(n))\n",
    "        m = s(n)\n",
    "        while m != n:\n",
    "            n, m = s(n), s(s(m))\n",
    "        return n == 1"
   ]
  },
  {
   "cell_type": "markdown",
   "id": "30966055",
   "metadata": {},
   "source": [
    "## <font color='red'>645. Set Mismatch</font>"
   ]
  },
  {
   "cell_type": "markdown",
   "id": "5bcb5fd6",
   "metadata": {},
   "source": [
    "645. Set Mismatch\n",
    "You have a set of integers s, which originally contains all the numbers from 1 to n. Unfortunately, due to some error, one of the numbers in s got duplicated to another number in the set, which results in repetition of one number and loss of another number.\n",
    "\n",
    "You are given an integer array nums representing the data status of this set after the error.\n",
    "\n",
    "Find the number that occurs twice and the number that is missing and return them in the form of an array.\n",
    "\n",
    "Example 1:\n",
    "Input: nums = [1,2,2,4]      Output: [2,3]\n",
    "\n",
    "Example 2:\n",
    "Input: nums = [1,1]          Output: [1,2]"
   ]
  },
  {
   "cell_type": "code",
   "execution_count": null,
   "id": "dce05b3a",
   "metadata": {},
   "outputs": [],
   "source": [
    "# 645. Set Mismatch\n",
    "# most intuituive solution: use a dictionary\n",
    "class Solution:\n",
    "    def findErrorNums(self, nums: List[int]) -> List[int]:\n",
    "        hashmap = {}\n",
    "        \n",
    "        # initiate a hashmap for counting\n",
    "        for i in nums:\n",
    "            hashmap[i] = hashmap.get(i, 0) + 1\n",
    "\n",
    "        for i in range(1, len(nums) + 1):\n",
    "            if i not in hashmap:\n",
    "                miss = i\n",
    "            elif hashmap[i] == 2:\n",
    "                rep = i\n",
    "        \n",
    "        return [rep, miss]"
   ]
  },
  {
   "cell_type": "code",
   "execution_count": null,
   "id": "8daec724",
   "metadata": {},
   "outputs": [],
   "source": [
    "# 645. Set Mismatch\n",
    "class Solution(object):\n",
    "    def findErrorNums(self, nums):\n",
    "        \"\"\"\n",
    "        :type nums: List[int]\n",
    "        :rtype: List[int]\n",
    "        \"\"\"\n",
    "        n = len(nums)\n",
    "        s = n*(n+1)//2\n",
    "        miss = s - sum(set(nums))\n",
    "        duplicate = sum(nums) + miss - s\n",
    "        return [duplicate, miss]\n",
    "# or like this\n",
    "class Solution:\n",
    "    def findErrorNums(self, nums: List[int]) -> List[int]:\n",
    "        l, s = len(nums), sum(set(nums))\n",
    "        l = l * ( 1 + l ) // 2\n",
    "        return [sum(nums) - s, l - s]"
   ]
  },
  {
   "cell_type": "code",
   "execution_count": null,
   "id": "8084d9f9",
   "metadata": {},
   "outputs": [],
   "source": [
    "# 645. Set Mismatch\n",
    "# O(1) space. O(n) time. the one we have seen before to use index to \n",
    "# mark the occurance of element in the list\n",
    "class Solution(object):\n",
    "    def findErrorNums(self, nums):\n",
    "        l, dup, mis = len(nums), 0, 0\n",
    "        for num in nums:\n",
    "            if nums[abs(num) - 1] < 0 :\n",
    "                dup = abs(num)\n",
    "            else: nums[abs(num) - 1] *= -1\n",
    "        \n",
    "        for index in range(l):\n",
    "            if nums[index] > 0:\n",
    "                mis = index + 1\n",
    "                break\n",
    "                \n",
    "        return [dup, mis]"
   ]
  },
  {
   "cell_type": "markdown",
   "id": "9ec6bf60",
   "metadata": {},
   "source": [
    "## <font color='red'>290. Word Pattern</font>"
   ]
  },
  {
   "cell_type": "code",
   "execution_count": null,
   "id": "6f491454",
   "metadata": {},
   "outputs": [],
   "source": [
    "290. Word Pattern\n",
    "Given a pattern and a string s, find if s follows the same pattern.\n",
    "\n",
    "Here follow means a full match, such that there is a bijection between a letter in pattern \n",
    "and a non-empty word in s.\n",
    "\n",
    "Example 1:\n",
    "Input: pattern = \"abba\",     s = \"dog cat cat dog\"     Output: true\n",
    "\n",
    "Example 2:\n",
    "Input: pattern = \"abba\",     s = \"dog cat cat fish\"    Output: false\n",
    "\n",
    "Example 3:\n",
    "Input: pattern = \"aaaa\",   s = \"dog cat cat dog\"         Output: false"
   ]
  },
  {
   "cell_type": "code",
   "execution_count": null,
   "id": "4a9f2a42",
   "metadata": {},
   "outputs": [],
   "source": [
    "# 290. Word Pattern\n",
    "# this is more about cover the corner case\n",
    "# also stepwise building of a hashmap\n",
    "\n",
    "class Solution:\n",
    "    def wordPattern(self, pattern: str, s: str) -> bool:\n",
    "        words = s.split(' ')\n",
    "        hashmap = {}\n",
    "    \n",
    "        if len(pattern) != len(words): return False\n",
    "        # for the case w = ['dog', 'cat'] and p = 'aa'\n",
    "        if len(set(pattern)) != len(set(words)): return False \n",
    "\n",
    "        for i in range(len(pattern)):\n",
    "            if pattern[i] not in hashmap: \n",
    "                hashmap[pattern[i]] = words[i]\n",
    "            elif hashmap[pattern[i]] != words[i]: \n",
    "                return False\n",
    "\n",
    "        return True"
   ]
  },
  {
   "cell_type": "code",
   "execution_count": null,
   "id": "b4f128eb",
   "metadata": {},
   "outputs": [],
   "source": [
    "# 290. Word Pattern\n",
    "# From Ruqi. basically to convert pattern to index pattern\n",
    "# i.e. 'abab' convert to dict is {'a':}\n",
    "class Solution:\n",
    "    def wordPattern(self, pattern: str, s: str) -> bool:\n",
    "        d1={}\n",
    "        d2={}\n",
    "        s=s.split()\n",
    "        for index,val in enumerate(pattern):\n",
    "            d1[val]=index\n",
    "        for index,val in enumerate(s):\n",
    "            d2[val]=index\n",
    "        l1=[e for e in d1.values()]\n",
    "        l2=[e for e in d2.values()]\n",
    "        return l1==l2"
   ]
  }
 ],
 "metadata": {
  "kernelspec": {
   "display_name": "Python 3 (ipykernel)",
   "language": "python",
   "name": "python3"
  },
  "language_info": {
   "codemirror_mode": {
    "name": "ipython",
    "version": 3
   },
   "file_extension": ".py",
   "mimetype": "text/x-python",
   "name": "python",
   "nbconvert_exporter": "python",
   "pygments_lexer": "ipython3",
   "version": "3.9.12"
  }
 },
 "nbformat": 4,
 "nbformat_minor": 5
}
