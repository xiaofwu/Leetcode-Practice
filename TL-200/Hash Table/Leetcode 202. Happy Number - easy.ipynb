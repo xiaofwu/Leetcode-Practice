{
 "cells": [
  {
   "cell_type": "markdown",
   "id": "0304dd7d",
   "metadata": {},
   "source": [
    "# 202. Happy Number\n",
    "Write an algorithm to determine if a number n is happy.\n",
    "\n",
    "A happy number is a number defined by the following process:\n",
    "\n",
    "Starting with any positive integer, replace the number by the sum of the squares of its digits.\n",
    "Repeat the process until the number equals 1 (where it will stay), or it loops endlessly in a cycle which does not include 1.\n",
    "Those numbers for which this process ends in 1 are happy.\n",
    "Return true if n is a happy number, and false if not."
   ]
  },
  {
   "cell_type": "code",
   "execution_count": null,
   "id": "4c485cd6",
   "metadata": {},
   "outputs": [],
   "source": [
    "class Solution:\n",
    "    def isHappy(self, n: int) -> bool:\n",
    "        s = {n}\n",
    "        while n != 1:\n",
    "            tmp = sum([int(d) ** 2 for d in str(n)])\n",
    "            if tmp in s:\n",
    "                return False\n",
    "            s.add(tmp)\n",
    "            n = tmp\n",
    "        return True"
   ]
  },
  {
   "cell_type": "code",
   "execution_count": null,
   "id": "dd02b517",
   "metadata": {},
   "outputs": [],
   "source": [
    "# Using the fact that all unhappies go through 4 (and that 2 and 3 are unhappy):\n",
    "class Solution:\n",
    "    def isHappy(self, n):\n",
    "        while n > 4:\n",
    "            n = sum(int(d)**2 for d in str(n))\n",
    "        return n == 1\n"
   ]
  },
  {
   "cell_type": "code",
   "execution_count": null,
   "id": "6938cb93",
   "metadata": {},
   "outputs": [],
   "source": [
    "# Tortoise and Hare algorithm:\n",
    "class Solution:\n",
    "    def isHappy(self, n):\n",
    "        s = lambda n: sum(int(d)**2 for d in str(n))\n",
    "        m = s(n)\n",
    "        while m != n:\n",
    "            n, m = s(n), s(s(m))\n",
    "        return n == 1\n"
   ]
  }
 ],
 "metadata": {
  "kernelspec": {
   "display_name": "Python 3 (ipykernel)",
   "language": "python",
   "name": "python3"
  },
  "language_info": {
   "codemirror_mode": {
    "name": "ipython",
    "version": 3
   },
   "file_extension": ".py",
   "mimetype": "text/x-python",
   "name": "python",
   "nbconvert_exporter": "python",
   "pygments_lexer": "ipython3",
   "version": "3.9.12"
  }
 },
 "nbformat": 4,
 "nbformat_minor": 5
}
