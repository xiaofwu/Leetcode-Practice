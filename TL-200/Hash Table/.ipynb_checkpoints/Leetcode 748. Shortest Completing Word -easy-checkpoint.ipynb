{
 "cells": [
  {
   "cell_type": "markdown",
   "id": "5f09b97f",
   "metadata": {},
   "source": [
    "748. Shortest Completing Word\n",
    "Given a string licensePlate and an array of strings words, find the shortest completing word in words.\n",
    "\n",
    "A completing word is a word that contains all the letters in licensePlate. Ignore numbers and spaces in licensePlate, and treat letters as case insensitive. If a letter appears more than once in licensePlate, then it must appear in the word the same number of times or more.\n",
    "\n",
    "For example, if licensePlate = \"aBc 12c\", then it contains letters 'a', 'b' (ignoring case), and 'c' twice. Possible completing words are \"abccdef\", \"caaacab\", and \"cbca\".\n",
    "\n",
    "Return the shortest completing word in words. It is guaranteed an answer exists. If there are multiple shortest completing words, return the first one that occurs in words.\n",
    "\n",
    "Input: licensePlate = \"1s3 456\", words = [\"looks\",\"pest\",\"stew\",\"show\"]\n",
    "Output: \"pest\"\n",
    "Explanation: licensePlate only contains the letter 's'. All the words contain 's', but among these \"pest\", \"stew\", and \"show\" are shortest. The answer is \"pest\" because it is the word that appears earliest of the 3."
   ]
  },
  {
   "cell_type": "code",
   "execution_count": null,
   "id": "bccb6a83",
   "metadata": {},
   "outputs": [],
   "source": [
    "# count() method works for both string and list\n",
    "# list.count(value): returns the number of elements with the specified value.\n",
    "# string.count(char): Returns the number of times a specified value occurs in a string\n",
    "\n",
    "class Solution:\n",
    "    def shortestCompletingWord(self, licensePlate: str, words: List[str]) -> str:\n",
    "        # convert licensePlate into a list with only chars from it\n",
    "        lst =[c.lower() for c in licensePlate if c.isalpha()]\n",
    "        \n",
    "        # sort the list words according to the length of each element\n",
    "        words.sort(key=len)\n",
    "        \n",
    "        # check each word in words whether the word contains all chars from lst\n",
    "        for word in words:\n",
    "            complete = 1\n",
    "            for char in lst:\n",
    "                if lst.count(char) > word.count(char):\n",
    "                    complete = 0\n",
    "                    break\n",
    "            \n",
    "            if(complete == 1):\n",
    "                return word"
   ]
  }
 ],
 "metadata": {
  "kernelspec": {
   "display_name": "Python 3 (ipykernel)",
   "language": "python",
   "name": "python3"
  },
  "language_info": {
   "codemirror_mode": {
    "name": "ipython",
    "version": 3
   },
   "file_extension": ".py",
   "mimetype": "text/x-python",
   "name": "python",
   "nbconvert_exporter": "python",
   "pygments_lexer": "ipython3",
   "version": "3.9.12"
  }
 },
 "nbformat": 4,
 "nbformat_minor": 5
}
