{
 "cells": [
  {
   "cell_type": "markdown",
   "id": "781d20a8",
   "metadata": {},
   "source": [
    "645. Set Mismatch\n",
    "You have a set of integers s, which originally contains all the numbers from 1 to n. Unfortunately, due to some error, one of the numbers in s got duplicated to another number in the set, which results in repetition of one number and loss of another number.\n",
    "\n",
    "You are given an integer array nums representing the data status of this set after the error.\n",
    "\n",
    "Find the number that occurs twice and the number that is missing and return them in the form of an array.\n",
    "\n",
    "Input: nums = [1,2,2,4]        Output: [2,3]\n",
    "Input: nums = [1,1]      Output: [1,2]"
   ]
  },
  {
   "cell_type": "code",
   "execution_count": null,
   "id": "f487179a",
   "metadata": {},
   "outputs": [],
   "source": [
    "# most intuituive solution: use a dictionary\n",
    "class Solution:\n",
    "    def findErrorNums(self, nums: List[int]) -> List[int]:\n",
    "        hashmap = {}\n",
    "        \n",
    "        # initiate a hashmap for counting\n",
    "        for i in nums:\n",
    "            hashmap[i] = hashmap.get(i, 0) + 1\n",
    "\n",
    "        for i in range(1, len(nums) + 1):\n",
    "            if i not in hashmap:\n",
    "                miss = i\n",
    "            elif hashmap[i] == 2:\n",
    "                rep = i\n",
    "        \n",
    "        return [rep, miss]"
   ]
  },
  {
   "cell_type": "code",
   "execution_count": null,
   "id": "aeaca848",
   "metadata": {},
   "outputs": [],
   "source": [
    "class Solution(object):\n",
    "    def findErrorNums(self, nums):\n",
    "        \"\"\"\n",
    "        :type nums: List[int]\n",
    "        :rtype: List[int]\n",
    "        \"\"\"\n",
    "        n = len(nums)\n",
    "        s = n*(n+1)//2\n",
    "        miss = s - sum(set(nums))\n",
    "        duplicate = sum(nums) + miss - s\n",
    "        return [duplicate, miss]\n",
    "# or like this\n",
    "class Solution:\n",
    "    def findErrorNums(self, nums: List[int]) -> List[int]:\n",
    "        l, s = len(nums), sum(set(nums))\n",
    "        l = l * ( 1 + l ) // 2\n",
    "        return [sum(nums) - s, l - s]"
   ]
  },
  {
   "cell_type": "code",
   "execution_count": null,
   "id": "6232d11a",
   "metadata": {},
   "outputs": [],
   "source": [
    "# O(1) space. O(n) time. the one we have seen before to use index to \n",
    "# mark the occurance of element in the list\n",
    "class Solution(object):\n",
    "    def findErrorNums(self, nums):\n",
    "        l, dup, mis = len(nums), 0, 0\n",
    "        for num in nums:\n",
    "            if nums[abs(num) - 1] < 0 :\n",
    "                dup = abs(num)\n",
    "            else: nums[abs(num) - 1] *= -1\n",
    "        \n",
    "        for index in range(l):\n",
    "            if nums[index] > 0:\n",
    "                mis = index + 1\n",
    "                break\n",
    "                \n",
    "        return [dup, mis]"
   ]
  }
 ],
 "metadata": {
  "kernelspec": {
   "display_name": "Python 3 (ipykernel)",
   "language": "python",
   "name": "python3"
  },
  "language_info": {
   "codemirror_mode": {
    "name": "ipython",
    "version": 3
   },
   "file_extension": ".py",
   "mimetype": "text/x-python",
   "name": "python",
   "nbconvert_exporter": "python",
   "pygments_lexer": "ipython3",
   "version": "3.9.12"
  }
 },
 "nbformat": 4,
 "nbformat_minor": 5
}
