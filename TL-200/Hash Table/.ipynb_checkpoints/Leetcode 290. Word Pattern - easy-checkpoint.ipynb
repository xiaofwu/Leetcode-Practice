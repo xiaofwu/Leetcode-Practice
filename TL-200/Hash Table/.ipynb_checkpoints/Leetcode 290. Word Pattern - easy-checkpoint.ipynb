{
 "cells": [
  {
   "cell_type": "markdown",
   "id": "7bce00e3",
   "metadata": {},
   "source": [
    "290. Word Pattern\n",
    "Given a pattern and a string s, find if s follows the same pattern.\n",
    "\n",
    "Here follow means a full match, such that there is a bijection between a letter in pattern \n",
    "and a non-empty word in s.\n",
    "\n",
    "Example 1:\n",
    "Input: pattern = \"abba\", s = \"dog cat cat dog\"\n",
    "Output: true\n",
    "\n",
    "Example 2:\n",
    "Input: pattern = \"abba\", s = \"dog cat cat fish\"\n",
    "Output: false\n",
    "\n",
    "Example 3:\n",
    "Input: pattern = \"aaaa\", s = \"dog cat cat dog\"\n",
    "Output: false"
   ]
  },
  {
   "cell_type": "code",
   "execution_count": null,
   "id": "5757e555",
   "metadata": {},
   "outputs": [],
   "source": [
    "# this is more about cover the corner case\n",
    "# also stepwise building of a hashmap\n",
    "class Solution:\n",
    "    def wordPattern(self, pattern: str, s: str) -> bool:\n",
    "        words = s.split(' ')\n",
    "        hashmap = {}\n",
    "    \n",
    "        if len(pattern) != len(words): return False\n",
    "        # for the case w = ['dog', 'cat'] and p = 'aa'\n",
    "        if len(set(pattern)) != len(set(words)): return False \n",
    "\n",
    "        for i in range(len(pattern)):\n",
    "            if pattern[i] not in hashmap: \n",
    "                hashmap[pattern[i]] = words[i]\n",
    "            elif hashmap[pattern[i]] != words[i]: \n",
    "                return False\n",
    "\n",
    "        return True"
   ]
  }
 ],
 "metadata": {
  "kernelspec": {
   "display_name": "Python 3 (ipykernel)",
   "language": "python",
   "name": "python3"
  },
  "language_info": {
   "codemirror_mode": {
    "name": "ipython",
    "version": 3
   },
   "file_extension": ".py",
   "mimetype": "text/x-python",
   "name": "python",
   "nbconvert_exporter": "python",
   "pygments_lexer": "ipython3",
   "version": "3.9.12"
  }
 },
 "nbformat": 4,
 "nbformat_minor": 5
}
